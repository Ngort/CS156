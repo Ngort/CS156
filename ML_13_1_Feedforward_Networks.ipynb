{
 "cells": [
  {
   "cell_type": "code",
   "execution_count": 14,
   "metadata": {},
   "outputs": [],
   "source": [
    "import pydot\n",
    "import graphviz\n",
    "import numpy as np\n",
    "import matplotlib.pyplot as plt\n",
    "\n",
    "from keras.models import Sequential\n",
    "from keras.layers import Dense\n",
    "from keras.utils import plot_model\n",
    "from sklearn.cross_validation import train_test_split\n",
    "from sklearn.datasets import make_moons, make_circles"
   ]
  },
  {
   "cell_type": "code",
   "execution_count": 3,
   "metadata": {
    "collapsed": true
   },
   "outputs": [],
   "source": [
    "def make_meshgrid(x, y, h=.02):\n",
    "    \"\"\"Create a mesh of points to plot in\n",
    "\n",
    "    Parameters\n",
    "    ----------\n",
    "    x: data to base x-axis meshgrid on\n",
    "    y: data to base y-axis meshgrid on\n",
    "    h: stepsize for meshgrid, optional\n",
    "\n",
    "    Returns\n",
    "    -------\n",
    "    xx, yy : ndarray\n",
    "    \"\"\"\n",
    "    x_min, x_max = x.min() - 1, x.max() + 1\n",
    "    y_min, y_max = y.min() - 1, y.max() + 1\n",
    "    xx, yy = np.meshgrid(np.arange(x_min, x_max, h),\n",
    "                         np.arange(y_min, y_max, h))\n",
    "    return xx, yy\n",
    "\n",
    "\n",
    "def plot_contours(ax, clf, xx, yy, **params):\n",
    "    \"\"\"Plot the decision boundaries for a classifier.\n",
    "\n",
    "    Parameters\n",
    "    ----------\n",
    "    ax: matplotlib axes object\n",
    "    clf: a classifier\n",
    "    xx: meshgrid ndarray\n",
    "    yy: meshgrid ndarray\n",
    "    params: dictionary of params to pass to contourf, optional\n",
    "    \"\"\"\n",
    "    Z = clf.predict(np.c_[xx.ravel(), yy.ravel()])\n",
    "    Z = Z.reshape(xx.shape)\n",
    "    out = ax.contourf(xx, yy, Z, **params)\n",
    "    return out"
   ]
  },
  {
   "cell_type": "markdown",
   "metadata": {},
   "source": [
    "## Example 1: Indians Diabetes Data"
   ]
  },
  {
   "cell_type": "code",
   "execution_count": 4,
   "metadata": {
    "collapsed": true
   },
   "outputs": [],
   "source": [
    "data_diabetes = np.loadtxt(\"pima-indians-diabetes.data.csv\", delimiter=\",\")"
   ]
  },
  {
   "cell_type": "code",
   "execution_count": 5,
   "metadata": {
    "collapsed": true
   },
   "outputs": [],
   "source": [
    "X, y = data_diabetes[:,0:8], data_diabetes[:,8]\n",
    "\n",
    "X_train, X_test, y_train, y_test = train_test_split(X,y)"
   ]
  },
  {
   "cell_type": "markdown",
   "metadata": {},
   "source": [
    "### Design network architecture and compile it"
   ]
  },
  {
   "cell_type": "code",
   "execution_count": 7,
   "metadata": {
    "collapsed": true
   },
   "outputs": [],
   "source": [
    "model = Sequential()\n",
    "model.add(Dense(12, input_dim=8, activation='relu'))\n",
    "model.add(Dense(12, activation='relu'))\n",
    "model.add(Dense( 1, activation='sigmoid'))"
   ]
  },
  {
   "cell_type": "code",
   "execution_count": 8,
   "metadata": {},
   "outputs": [],
   "source": [
    "model.compile(loss='binary_crossentropy', optimizer='adam', metrics=['accuracy'])"
   ]
  },
  {
   "cell_type": "markdown",
   "metadata": {},
   "source": [
    "### Fit model"
   ]
  },
  {
   "cell_type": "code",
   "execution_count": 9,
   "metadata": {},
   "outputs": [
    {
     "data": {
      "text/plain": [
       "<keras.callbacks.History at 0x115637dd8>"
      ]
     },
     "execution_count": 9,
     "metadata": {},
     "output_type": "execute_result"
    }
   ],
   "source": [
    "model.fit(X_train, y_train, epochs=150, batch_size=10, verbose=0)"
   ]
  },
  {
   "cell_type": "markdown",
   "metadata": {},
   "source": [
    "### Evaluate performance"
   ]
  },
  {
   "cell_type": "code",
   "execution_count": 10,
   "metadata": {},
   "outputs": [
    {
     "name": "stdout",
     "output_type": "stream",
     "text": [
      "192/192 [==============================] - 0s 164us/step\n",
      "\n",
      "acc: 75.00%\n"
     ]
    }
   ],
   "source": [
    "scores = model.evaluate(X_test, y_test)\n",
    "print(\"\\n%s: %.2f%%\" % (model.metrics_names[1], scores[1]*100))"
   ]
  },
  {
   "cell_type": "markdown",
   "metadata": {},
   "source": [
    "## Example 2: Moons & circles datasets"
   ]
  },
  {
   "cell_type": "code",
   "execution_count": 51,
   "metadata": {
    "collapsed": true
   },
   "outputs": [],
   "source": [
    "(moon_x,moon_y) = make_moons(n_samples=10000, noise=0.05, random_state=42)\n",
    "(circle_x,circle_y) = make_circles(n_samples=10000, noise=0.025, random_state=42)\n",
    "\n",
    "moon_x_train, moon_x_test, moon_y_train, moon_y_test = train_test_split(moon_x,moon_y)\n",
    "circle_x_train, circle_x_test, circle_y_train, circle_y_test = train_test_split(circle_x, circle_y)"
   ]
  },
  {
   "cell_type": "code",
   "execution_count": 45,
   "metadata": {},
   "outputs": [
    {
     "data": {
      "image/png": "[encoded data removed]",
      "text/plain": [
       "<matplotlib.figure.Figure at 0x12444ebe0>"
      ]
     },
     "metadata": {},
     "output_type": "display_data"
    }
   ],
   "source": [
    "fig, axes = plt.subplots(1,2, figsize=(10,5))\n",
    "\n",
    "axes[0].scatter(moon_x[:,0], moon_x[:,1], c = moon_y)\n",
    "axes[1].scatter(circle_x[:,0], circle_x[:,1], c = circle_y)\n",
    "plt.show()"
   ]
  },
  {
   "cell_type": "code",
   "execution_count": 47,
   "metadata": {
    "collapsed": true
   },
   "outputs": [],
   "source": [
    "model_moons = Sequential()\n",
    "model_moons.add(Dense(12, input_dim=2, activation='relu'))\n",
    "model_moons.add(Dense(12, activation='relu'))\n",
    "model_moons.add(Dense( 1, activation='sigmoid'))\n",
    "model_moons.compile(loss='binary_crossentropy', optimizer='adam', metrics=['accuracy'])"
   ]
  },
  {
   "cell_type": "code",
   "execution_count": 49,
   "metadata": {},
   "outputs": [
    {
     "name": "stdout",
     "output_type": "stream",
     "text": [
      "Epoch 1/150\n",
      "10000/10000 [==============================] - 2s 239us/step - loss: 0.2748 - acc: 0.8749\n",
      "Epoch 2/150\n",
      "10000/10000 [==============================] - 2s 190us/step - loss: 0.0915 - acc: 0.9685\n",
      "Epoch 3/150\n",
      "10000/10000 [==============================] - 2s 167us/step - loss: 0.0234 - acc: 0.9971\n",
      "Epoch 4/150\n",
      "10000/10000 [==============================] - 2s 213us/step - loss: 0.0061 - acc: 1.0000\n",
      "Epoch 5/150\n",
      "10000/10000 [==============================] - 3s 263us/step - loss: 0.0022 - acc: 1.0000\n",
      "Epoch 6/150\n",
      "10000/10000 [==============================] - 2s 182us/step - loss: 0.0010 - acc: 1.0000\n",
      "Epoch 7/150\n",
      "10000/10000 [==============================] - 2s 163us/step - loss: 5.1013e-04 - acc: 1.0000\n",
      "Epoch 8/150\n",
      "10000/10000 [==============================] - 2s 170us/step - loss: 2.8126e-04 - acc: 1.0000\n",
      "Epoch 9/150\n",
      "10000/10000 [==============================] - 2s 171us/step - loss: 1.5455e-04 - acc: 1.0000\n",
      "Epoch 10/150\n",
      "10000/10000 [==============================] - 2s 167us/step - loss: 9.5130e-05 - acc: 1.0000\n",
      "Epoch 11/150\n",
      "10000/10000 [==============================] - 2s 187us/step - loss: 5.3688e-05 - acc: 1.0000\n",
      "Epoch 12/150\n",
      "10000/10000 [==============================] - 2s 198us/step - loss: 3.7058e-05 - acc: 1.0000\n",
      "Epoch 13/150\n",
      "10000/10000 [==============================] - 2s 229us/step - loss: 2.1015e-05 - acc: 1.0000\n",
      "Epoch 14/150\n",
      "10000/10000 [==============================] - 2s 192us/step - loss: 1.4743e-05 - acc: 1.0000\n",
      "Epoch 15/150\n",
      "10000/10000 [==============================] - 2s 177us/step - loss: 1.0863e-05 - acc: 1.0000\n",
      "Epoch 16/150\n",
      "10000/10000 [==============================] - 2s 178us/step - loss: 6.2242e-06 - acc: 1.0000\n",
      "Epoch 17/150\n",
      "10000/10000 [==============================] - 2s 176us/step - loss: 4.2495e-06 - acc: 1.0000\n",
      "Epoch 18/150\n",
      "10000/10000 [==============================] - 2s 179us/step - loss: 5.6465e-06 - acc: 1.0000\n",
      "Epoch 19/150\n",
      "10000/10000 [==============================] - 1s 149us/step - loss: 2.1469e-06 - acc: 1.0000\n",
      "Epoch 20/150\n",
      "10000/10000 [==============================] - 1s 131us/step - loss: 1.7172e-06 - acc: 1.0000\n",
      "Epoch 21/150\n",
      "10000/10000 [==============================] - 1s 133us/step - loss: 3.2785e-06 - acc: 1.0000\n",
      "Epoch 22/150\n",
      "10000/10000 [==============================] - 1s 138us/step - loss: 1.7337e-06 - acc: 1.0000\n",
      "Epoch 23/150\n",
      "10000/10000 [==============================] - 1s 136us/step - loss: 1.0053e-06 - acc: 1.0000\n",
      "Epoch 24/150\n",
      "10000/10000 [==============================] - 1s 128us/step - loss: 1.8816e-06 - acc: 1.0000\n",
      "Epoch 25/150\n",
      "10000/10000 [==============================] - 1s 130us/step - loss: 5.6699e-07 - acc: 1.0000\n",
      "Epoch 26/150\n",
      "10000/10000 [==============================] - 1s 126us/step - loss: 4.0862e-07 - acc: 1.0000\n",
      "Epoch 27/150\n",
      "10000/10000 [==============================] - 1s 136us/step - loss: 6.0747e-07 - acc: 1.0000\n",
      "Epoch 28/150\n",
      "10000/10000 [==============================] - 1s 125us/step - loss: 1.5219e-06 - acc: 1.0000\n",
      "Epoch 29/150\n",
      "10000/10000 [==============================] - 1s 115us/step - loss: 3.4209e-07 - acc: 1.0000\n",
      "Epoch 30/150\n",
      "10000/10000 [==============================] - 1s 120us/step - loss: 2.5944e-07 - acc: 1.0000\n",
      "Epoch 31/150\n",
      "10000/10000 [==============================] - 1s 133us/step - loss: 2.7410e-07 - acc: 1.0000 0s - loss: 3.0076e-\n",
      "Epoch 32/150\n",
      "10000/10000 [==============================] - 1s 144us/step - loss: 2.7622e-07 - acc: 1.0000\n",
      "Epoch 33/150\n",
      "10000/10000 [==============================] - 1s 133us/step - loss: 2.0456e-07 - acc: 1.0000\n",
      "Epoch 34/150\n",
      "10000/10000 [==============================] - 1s 132us/step - loss: 2.8040e-07 - acc: 1.0000\n",
      "Epoch 35/150\n",
      "10000/10000 [==============================] - 1s 125us/step - loss: 1.5256e-07 - acc: 1.0000\n",
      "Epoch 36/150\n",
      "10000/10000 [==============================] - 1s 123us/step - loss: 6.5304e-07 - acc: 1.0000\n",
      "Epoch 37/150\n",
      "10000/10000 [==============================] - 1s 125us/step - loss: 2.0606e-07 - acc: 1.0000\n",
      "Epoch 38/150\n",
      "10000/10000 [==============================] - 1s 123us/step - loss: 1.3905e-07 - acc: 1.0000\n",
      "Epoch 39/150\n",
      "10000/10000 [==============================] - 1s 130us/step - loss: 1.4047e-07 - acc: 1.0000\n",
      "Epoch 40/150\n",
      "10000/10000 [==============================] - 1s 128us/step - loss: 1.4921e-07 - acc: 1.0000\n",
      "Epoch 41/150\n",
      "10000/10000 [==============================] - 1s 126us/step - loss: 1.5360e-07 - acc: 1.0000\n",
      "Epoch 42/150\n",
      "10000/10000 [==============================] - 1s 140us/step - loss: 1.3905e-07 - acc: 1.0000\n",
      "Epoch 43/150\n",
      "10000/10000 [==============================] - 1s 132us/step - loss: 1.7928e-07 - acc: 1.0000\n",
      "Epoch 44/150\n",
      "10000/10000 [==============================] - 1s 135us/step - loss: 1.1871e-07 - acc: 1.0000\n",
      "Epoch 45/150\n",
      "10000/10000 [==============================] - 1s 143us/step - loss: 1.2125e-07 - acc: 1.0000\n",
      "Epoch 46/150\n",
      "10000/10000 [==============================] - 2s 169us/step - loss: 1.1901e-07 - acc: 1.0000\n",
      "Epoch 47/150\n",
      "10000/10000 [==============================] - 2s 164us/step - loss: 2.4703e-07 - acc: 1.0000\n",
      "Epoch 48/150\n",
      "10000/10000 [==============================] - 2s 168us/step - loss: 1.1451e-07 - acc: 1.0000\n",
      "Epoch 49/150\n",
      "10000/10000 [==============================] - 2s 156us/step - loss: 1.1731e-07 - acc: 1.0000\n",
      "Epoch 50/150\n",
      "10000/10000 [==============================] - 2s 161us/step - loss: 1.1263e-07 - acc: 1.0000\n",
      "Epoch 51/150\n",
      "10000/10000 [==============================] - 2s 165us/step - loss: 1.1205e-07 - acc: 1.0000\n",
      "Epoch 52/150\n",
      "10000/10000 [==============================] - 2s 159us/step - loss: 1.1249e-07 - acc: 1.0000\n",
      "Epoch 53/150\n",
      "10000/10000 [==============================] - 2s 175us/step - loss: 1.1456e-07 - acc: 1.0000\n",
      "Epoch 54/150\n",
      "10000/10000 [==============================] - 1s 148us/step - loss: 1.1690e-07 - acc: 1.0000\n",
      "Epoch 55/150\n",
      "10000/10000 [==============================] - 2s 169us/step - loss: 1.1171e-07 - acc: 1.0000\n",
      "Epoch 56/150\n",
      "10000/10000 [==============================] - 2s 156us/step - loss: 1.1366e-07 - acc: 1.0000\n",
      "Epoch 57/150\n",
      "10000/10000 [==============================] - 2s 202us/step - loss: 1.1345e-07 - acc: 1.0000\n",
      "Epoch 58/150\n",
      "10000/10000 [==============================] - 2s 196us/step - loss: 1.3178e-07 - acc: 1.0000\n",
      "Epoch 59/150\n",
      "10000/10000 [==============================] - 2s 178us/step - loss: 1.1068e-07 - acc: 1.0000\n",
      "Epoch 60/150\n",
      "10000/10000 [==============================] - 2s 171us/step - loss: 1.1020e-07 - acc: 1.0000\n",
      "Epoch 61/150\n",
      "10000/10000 [==============================] - 2s 182us/step - loss: 1.1025e-07 - acc: 1.0000\n",
      "Epoch 62/150\n",
      "10000/10000 [==============================] - 2s 174us/step - loss: 1.1019e-07 - acc: 1.0000\n",
      "Epoch 63/150\n",
      "10000/10000 [==============================] - 2s 152us/step - loss: 1.1044e-07 - acc: 1.0000\n",
      "Epoch 64/150\n",
      "10000/10000 [==============================] - 2s 162us/step - loss: 1.4795e-07 - acc: 1.0000\n",
      "Epoch 65/150\n",
      "10000/10000 [==============================] - 2s 167us/step - loss: 1.2336e-07 - acc: 1.0000\n",
      "Epoch 66/150\n",
      "10000/10000 [==============================] - 2s 159us/step - loss: 1.1039e-07 - acc: 1.0000\n",
      "Epoch 67/150\n",
      "10000/10000 [==============================] - 2s 160us/step - loss: 1.1014e-07 - acc: 1.0000\n",
      "Epoch 68/150\n",
      "10000/10000 [==============================] - 2s 158us/step - loss: 1.1000e-07 - acc: 1.0000\n",
      "Epoch 69/150\n",
      "10000/10000 [==============================] - 1s 147us/step - loss: 1.0997e-07 - acc: 1.0000\n",
      "Epoch 70/150\n",
      "10000/10000 [==============================] - 2s 178us/step - loss: 1.0992e-07 - acc: 1.0000\n",
      "Epoch 71/150\n",
      "10000/10000 [==============================] - 2s 161us/step - loss: 1.0994e-07 - acc: 1.0000\n",
      "Epoch 72/150\n",
      "10000/10000 [==============================] - 2s 172us/step - loss: 1.1019e-07 - acc: 1.0000\n",
      "Epoch 73/150\n",
      "10000/10000 [==============================] - 2s 153us/step - loss: 1.1009e-07 - acc: 1.0000\n",
      "Epoch 74/150\n",
      "10000/10000 [==============================] - 1s 145us/step - loss: 1.1263e-07 - acc: 1.0000\n",
      "Epoch 75/150\n",
      "10000/10000 [==============================] - 1s 117us/step - loss: 1.1095e-07 - acc: 1.0000\n",
      "Epoch 76/150\n",
      "10000/10000 [==============================] - 1s 119us/step - loss: 1.0982e-07 - acc: 1.0000\n",
      "Epoch 77/150\n",
      "10000/10000 [==============================] - 1s 135us/step - loss: 1.0974e-07 - acc: 1.0000\n",
      "Epoch 78/150\n",
      "10000/10000 [==============================] - 1s 137us/step - loss: 1.0991e-07 - acc: 1.0000\n",
      "Epoch 79/150\n",
      "10000/10000 [==============================] - 1s 149us/step - loss: 1.1056e-07 - acc: 1.0000\n",
      "Epoch 80/150\n",
      "10000/10000 [==============================] - 1s 148us/step - loss: 1.1455e-07 - acc: 1.0000\n",
      "Epoch 81/150\n",
      "10000/10000 [==============================] - 1s 120us/step - loss: 1.2695e-07 - acc: 1.0000\n",
      "Epoch 82/150\n",
      "10000/10000 [==============================] - 1s 123us/step - loss: 1.2228e-07 - acc: 1.0000\n",
      "Epoch 83/150\n",
      "10000/10000 [==============================] - 1s 126us/step - loss: 1.0983e-07 - acc: 1.0000\n",
      "Epoch 84/150\n",
      "10000/10000 [==============================] - 1s 130us/step - loss: 1.0972e-07 - acc: 1.0000\n",
      "Epoch 85/150\n",
      "10000/10000 [==============================] - 1s 131us/step - loss: 1.0969e-07 - acc: 1.0000\n",
      "Epoch 86/150\n",
      "10000/10000 [==============================] - 1s 118us/step - loss: 1.0965e-07 - acc: 1.0000\n",
      "Epoch 87/150\n",
      "10000/10000 [==============================] - 1s 137us/step - loss: 1.0964e-07 - acc: 1.0000\n",
      "Epoch 88/150\n",
      "10000/10000 [==============================] - 1s 138us/step - loss: 1.0965e-07 - acc: 1.0000\n",
      "Epoch 89/150\n",
      "10000/10000 [==============================] - 1s 135us/step - loss: 1.0964e-07 - acc: 1.0000\n",
      "Epoch 90/150\n",
      "10000/10000 [==============================] - 1s 122us/step - loss: 1.0965e-07 - acc: 1.0000\n",
      "Epoch 91/150\n",
      "10000/10000 [==============================] - 1s 116us/step - loss: 1.0968e-07 - acc: 1.0000\n",
      "Epoch 92/150\n",
      "10000/10000 [==============================] - 1s 134us/step - loss: 1.0970e-07 - acc: 1.0000\n",
      "Epoch 93/150\n",
      "10000/10000 [==============================] - 1s 130us/step - loss: 1.0967e-07 - acc: 1.0000\n",
      "Epoch 94/150\n",
      "10000/10000 [==============================] - 1s 136us/step - loss: 1.1019e-07 - acc: 1.0000\n",
      "Epoch 95/150\n",
      "10000/10000 [==============================] - 1s 131us/step - loss: 1.0970e-07 - acc: 1.0000\n",
      "Epoch 96/150\n",
      "10000/10000 [==============================] - 1s 127us/step - loss: 1.0964e-07 - acc: 1.0000\n",
      "Epoch 97/150\n",
      "10000/10000 [==============================] - 1s 136us/step - loss: 1.0967e-07 - acc: 1.0000\n",
      "Epoch 98/150\n",
      "10000/10000 [==============================] - 1s 140us/step - loss: 1.1194e-07 - acc: 1.0000 2s - loss\n",
      "Epoch 99/150\n",
      "10000/10000 [==============================] - 1s 116us/step - loss: 1.0992e-07 - acc: 1.0000\n",
      "Epoch 100/150\n",
      "10000/10000 [==============================] - 1s 128us/step - loss: 1.0965e-07 - acc: 1.0000\n",
      "Epoch 101/150\n",
      "10000/10000 [==============================] - 1s 134us/step - loss: 1.0962e-07 - acc: 1.0000\n",
      "Epoch 102/150\n",
      "10000/10000 [==============================] - 1s 143us/step - loss: 1.0961e-07 - acc: 1.0000\n",
      "Epoch 103/150\n",
      "10000/10000 [==============================] - 1s 138us/step - loss: 1.0962e-07 - acc: 1.0000\n",
      "Epoch 104/150\n",
      "10000/10000 [==============================] - 1s 136us/step - loss: 1.0962e-07 - acc: 1.0000\n",
      "Epoch 105/150\n",
      "10000/10000 [==============================] - 1s 131us/step - loss: 1.0963e-07 - acc: 1.0000\n",
      "Epoch 106/150\n",
      "10000/10000 [==============================] - 1s 136us/step - loss: 1.0961e-07 - acc: 1.0000\n",
      "Epoch 107/150\n",
      "10000/10000 [==============================] - 1s 139us/step - loss: 1.0961e-07 - acc: 1.0000\n",
      "Epoch 108/150\n",
      "10000/10000 [==============================] - 1s 134us/step - loss: 1.0965e-07 - acc: 1.0000\n",
      "Epoch 109/150\n",
      "10000/10000 [==============================] - 1s 120us/step - loss: 1.0965e-07 - acc: 1.0000\n",
      "Epoch 110/150\n",
      "10000/10000 [==============================] - 1s 111us/step - loss: 1.0962e-07 - acc: 1.0000\n",
      "Epoch 111/150\n",
      "10000/10000 [==============================] - 1s 109us/step - loss: 1.0962e-07 - acc: 1.0000\n",
      "Epoch 112/150\n",
      "10000/10000 [==============================] - 1s 123us/step - loss: 1.0966e-07 - acc: 1.0000\n",
      "Epoch 113/150\n",
      "10000/10000 [==============================] - 1s 118us/step - loss: 1.0965e-07 - acc: 1.0000\n",
      "Epoch 114/150\n",
      "10000/10000 [==============================] - 1s 114us/step - loss: 1.0963e-07 - acc: 1.0000\n",
      "Epoch 115/150\n",
      "10000/10000 [==============================] - 1s 121us/step - loss: 1.0961e-07 - acc: 1.0000\n",
      "Epoch 116/150\n",
      "10000/10000 [==============================] - 1s 149us/step - loss: 1.0961e-07 - acc: 1.0000\n",
      "Epoch 117/150\n",
      "10000/10000 [==============================] - 1s 128us/step - loss: 1.0965e-07 - acc: 1.0000\n",
      "Epoch 118/150\n",
      "10000/10000 [==============================] - 1s 133us/step - loss: 1.0963e-07 - acc: 1.0000\n",
      "Epoch 119/150\n",
      "10000/10000 [==============================] - 1s 126us/step - loss: 1.0961e-07 - acc: 1.0000\n",
      "Epoch 120/150\n",
      "10000/10000 [==============================] - 1s 124us/step - loss: 1.0961e-07 - acc: 1.0000\n",
      "Epoch 121/150\n",
      "10000/10000 [==============================] - 1s 116us/step - loss: 1.0961e-07 - acc: 1.0000\n",
      "Epoch 122/150\n",
      "10000/10000 [==============================] - 1s 114us/step - loss: 1.0962e-07 - acc: 1.0000\n",
      "Epoch 123/150\n",
      "10000/10000 [==============================] - 1s 123us/step - loss: 1.0961e-07 - acc: 1.0000\n",
      "Epoch 124/150\n",
      "10000/10000 [==============================] - 1s 115us/step - loss: 1.0963e-07 - acc: 1.0000\n",
      "Epoch 125/150\n",
      "10000/10000 [==============================] - 1s 128us/step - loss: 1.0960e-07 - acc: 1.0000\n",
      "Epoch 126/150\n",
      "10000/10000 [==============================] - 1s 115us/step - loss: 1.0961e-07 - acc: 1.0000\n",
      "Epoch 127/150\n",
      "10000/10000 [==============================] - 1s 115us/step - loss: 1.0960e-07 - acc: 1.0000\n",
      "Epoch 128/150\n",
      "10000/10000 [==============================] - 1s 122us/step - loss: 1.0961e-07 - acc: 1.0000\n",
      "Epoch 129/150\n",
      "10000/10000 [==============================] - 1s 113us/step - loss: 1.0961e-07 - acc: 1.0000\n",
      "Epoch 130/150\n",
      "10000/10000 [==============================] - 1s 122us/step - loss: 1.0962e-07 - acc: 1.0000\n",
      "Epoch 131/150\n",
      "10000/10000 [==============================] - 2s 170us/step - loss: 1.0961e-07 - acc: 1.0000\n",
      "Epoch 132/150\n",
      "10000/10000 [==============================] - 1s 147us/step - loss: 1.0962e-07 - acc: 1.0000\n",
      "Epoch 133/150\n",
      "10000/10000 [==============================] - 1s 136us/step - loss: 1.0962e-07 - acc: 1.0000\n",
      "Epoch 134/150\n",
      "10000/10000 [==============================] - 1s 144us/step - loss: 1.0960e-07 - acc: 1.0000\n",
      "Epoch 135/150\n",
      "10000/10000 [==============================] - 1s 124us/step - loss: 1.0960e-07 - acc: 1.0000\n",
      "Epoch 136/150\n",
      "10000/10000 [==============================] - 1s 133us/step - loss: 1.0960e-07 - acc: 1.0000\n",
      "Epoch 137/150\n",
      "10000/10000 [==============================] - 1s 129us/step - loss: 1.0960e-07 - acc: 1.0000\n",
      "Epoch 138/150\n",
      "10000/10000 [==============================] - 2s 157us/step - loss: 1.0960e-07 - acc: 1.0000\n",
      "Epoch 139/150\n",
      "10000/10000 [==============================] - 1s 128us/step - loss: 1.0960e-07 - acc: 1.0000\n",
      "Epoch 140/150\n",
      "10000/10000 [==============================] - 2s 157us/step - loss: 1.0960e-07 - acc: 1.0000\n",
      "Epoch 141/150\n",
      "10000/10000 [==============================] - 1s 149us/step - loss: 1.0960e-07 - acc: 1.0000\n",
      "Epoch 142/150\n",
      "10000/10000 [==============================] - 1s 134us/step - loss: 1.0960e-07 - acc: 1.0000\n",
      "Epoch 143/150\n",
      "10000/10000 [==============================] - 1s 131us/step - loss: 1.0960e-07 - acc: 1.0000\n",
      "Epoch 144/150\n",
      "10000/10000 [==============================] - 1s 150us/step - loss: 1.0960e-07 - acc: 1.0000\n",
      "Epoch 145/150\n",
      "10000/10000 [==============================] - 1s 147us/step - loss: 1.0960e-07 - acc: 1.0000\n",
      "Epoch 146/150\n",
      "10000/10000 [==============================] - 1s 126us/step - loss: 1.0960e-07 - acc: 1.0000\n",
      "Epoch 147/150\n",
      "10000/10000 [==============================] - 1s 141us/step - loss: 1.0960e-07 - acc: 1.0000\n",
      "Epoch 148/150\n",
      "10000/10000 [==============================] - 1s 134us/step - loss: 1.0960e-07 - acc: 1.0000\n",
      "Epoch 149/150\n",
      "10000/10000 [==============================] - 1s 144us/step - loss: 1.0960e-07 - acc: 1.0000\n",
      "Epoch 150/150\n",
      "10000/10000 [==============================] - 1s 131us/step - loss: 1.0960e-07 - acc: 1.0000\n"
     ]
    },
    {
     "data": {
      "text/plain": [
       "<keras.callbacks.History at 0x123e44748>"
      ]
     },
     "execution_count": 49,
     "metadata": {},
     "output_type": "execute_result"
    }
   ],
   "source": [
    "model_moons.fit(moon_x, moon_y, epochs=150, batch_size=10)"
   ]
  },
  {
   "cell_type": "code",
   "execution_count": 50,
   "metadata": {},
   "outputs": [
    {
     "name": "stdout",
     "output_type": "stream",
     "text": [
      "10000/10000 [==============================] - 0s 27us/step\n",
      "\n",
      "acc: 100.00%\n"
     ]
    }
   ],
   "source": [
    "scores_moons = model_moons.evaluate(moon_x, moon_y)\n",
    "print(\"\\n%s: %.2f%%\" % (model_moons.metrics_names[1], scores_moons[1]*100))"
   ]
  },
  {
   "cell_type": "code",
   "execution_count": 53,
   "metadata": {},
   "outputs": [
    {
     "data": {
      "text/plain": [
       "<keras.callbacks.History at 0x1157bf6a0>"
      ]
     },
     "execution_count": 53,
     "metadata": {},
     "output_type": "execute_result"
    }
   ],
   "source": [
    "model_moons.fit(moon_x_train, moon_y_train, epochs=150, batch_size=10, verbose=0)"
   ]
  },
  {
   "cell_type": "code",
   "execution_count": 54,
   "metadata": {},
   "outputs": [
    {
     "name": "stdout",
     "output_type": "stream",
     "text": [
      "2500/2500 [==============================] - 0s 21us/step\n",
      "\n",
      "acc: 100.00%\n"
     ]
    }
   ],
   "source": [
    "scores_moons = model_moons.evaluate(moon_x_test, moon_y_test)\n",
    "print(\"\\n%s: %.2f%%\" % (model_moons.metrics_names[1], scores_moons[1]*100))"
   ]
  },
  {
   "cell_type": "code",
   "execution_count": 55,
   "metadata": {
    "collapsed": true
   },
   "outputs": [],
   "source": [
    "model_circles = Sequential()\n",
    "model_circles.add(Dense(12, input_dim=2, activation='relu'))\n",
    "model_circles.add(Dense(12, activation='relu'))\n",
    "model_circles.add(Dense( 1, activation='sigmoid'))\n",
    "model_circles.compile(loss='binary_crossentropy', optimizer='adam', metrics=['accuracy'])"
   ]
  },
  {
   "cell_type": "code",
   "execution_count": 57,
   "metadata": {},
   "outputs": [
    {
     "name": "stdout",
     "output_type": "stream",
     "text": [
      "2500/2500 [==============================] - 0s 43us/step\n",
      "\n",
      "acc: 100.00%\n"
     ]
    }
   ],
   "source": [
    "model_circles.fit(circle_x_train, circle_y_train, epochs=150, batch_size=10, verbose=0)\n",
    "scores_circles = model_circles.evaluate(circle_x_test, circle_y_test)\n",
    "print(\"\\n%s: %.2f%%\" % (model_circles.metrics_names[1], scores_circles[1]*100))"
   ]
  },
  {
   "cell_type": "code",
   "execution_count": 71,
   "metadata": {},
   "outputs": [
    {
     "data": {
      "image/png": "[encoded data removed]",
      "text/plain": [
       "<matplotlib.figure.Figure at 0x1207b25c0>"
      ]
     },
     "metadata": {},
     "output_type": "display_data"
    }
   ],
   "source": [
    "X0_moons, X1_moons = moon_x[:, 0], moon_x[:, 1]\n",
    "X0_circles, X1_circles = circle_x[:, 0], circle_x[:, 1]\n",
    "\n",
    "xx_moons, yy_moons = make_meshgrid(X0_moons, X1_moons)\n",
    "xx_circles, yy_circles = make_meshgrid(X0_circles, X1_circles)\n",
    "\n",
    "fig, sub = plt.subplots(1, 2, figsize=(8,4))\n",
    "plt.subplots_adjust(wspace=0.4, hspace=0.4)\n",
    "\n",
    "\n",
    "for clf, title, ax, X0, X1, xx, yy, y in zip([model_moons, model_circles],\n",
    "                                          ['Moons','Circles'],\n",
    "                                          sub.flatten(),\n",
    "                                          [X0_moons, X0_circles],\n",
    "                                          [X1_moons, X1_circles],\n",
    "                                          [xx_moons, xx_circles],\n",
    "                                          [yy_moons, yy_circles],\n",
    "                                            [moon_y, circle_y]):\n",
    "\n",
    "    plot_contours(ax, clf, xx, yy,\n",
    "                  cmap=plt.cm.coolwarm, alpha=0.8)\n",
    "    ax.scatter(X0, X1, c=y, cmap=plt.cm.coolwarm, s=20, edgecolors='k')\n",
    "    ax.set_xlim(xx.min(), xx.max())\n",
    "    ax.set_ylim(yy.min(), yy.max())\n",
    "    ax.set_xlabel('X')\n",
    "    ax.set_ylabel('Y')\n",
    "    ax.set_xticks(())\n",
    "    ax.set_yticks(())\n",
    "    ax.set_title(title)\n",
    "\n",
    "plt.show()"
   ]
  }
 ],
 "metadata": {
  "kernelspec": {
   "display_name": "Python 3",
   "language": "python",
   "name": "python3"
  },
  "language_info": {
   "codemirror_mode": {
    "name": "ipython",
    "version": 3
   },
   "file_extension": ".py",
   "mimetype": "text/x-python",
   "name": "python",
   "nbconvert_exporter": "python",
   "pygments_lexer": "ipython3",
   "version": "3.6.2"
  }
 },
 "nbformat": 4,
 "nbformat_minor": 2
}
