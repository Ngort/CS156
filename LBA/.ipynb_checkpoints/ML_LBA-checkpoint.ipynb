{
 "cells": [
  {
   "cell_type": "markdown",
   "metadata": {},
   "source": [
    "## Nicolas A Gort Freitas\n",
    "# Location Based Assignment\n",
    "## CS156 Machine Learning"
   ]
  },
  {
   "cell_type": "markdown",
   "metadata": {},
   "source": [
    "### Dependencies"
   ]
  },
  {
   "cell_type": "code",
   "execution_count": 1,
   "metadata": {
    "collapsed": true
   },
   "outputs": [],
   "source": [
    "import glob\n",
    "import numpy as np\n",
    "import matplotlib.pyplot as plt\n",
    "import warnings\n",
    "\n",
    "from glob import glob\n",
    "from PIL import Image\n",
    "from scipy.misc import imread,imresize\n",
    "\n",
    "from sklearn.model_selection import train_test_split, GridSearchCV\n",
    "from sklearn.linear_model import LogisticRegression\n",
    "from sklearn.decomposition import PCA"
   ]
  },
  {
   "cell_type": "markdown",
   "metadata": {},
   "source": [
    "### Function bank"
   ]
  },
  {
   "cell_type": "code",
   "execution_count": 5,
   "metadata": {
    "collapsed": true
   },
   "outputs": [],
   "source": [
    "def flat_to_rgb(flt,size):\n",
    "    flatrgb = flt.reshape(size[0]*size[1],3)\n",
    "    prergb = np.array([tuple([int(j) for j in i]) for i in flatrgb])\n",
    "    rgb = prergb.reshape(size[1],size[0],3)/255\n",
    "    \n",
    "    return rgb\n",
    "\n",
    "def img_to_array(filename,size):\n",
    "    img = Image.open(filename)\n",
    "    img = img.resize(size)\n",
    "    return np.array(img).reshape(1,-1)"
   ]
  },
  {
   "cell_type": "markdown",
   "metadata": {},
   "source": [
    "### Paths"
   ]
  },
  {
   "cell_type": "code",
   "execution_count": 2,
   "metadata": {
    "collapsed": true
   },
   "outputs": [],
   "source": [
    "photos_paths = glob(\"office_window/*\")"
   ]
  },
  {
   "cell_type": "code",
   "execution_count": 6,
   "metadata": {},
   "outputs": [
    {
     "data": {
      "text/plain": [
       "[array([[195, 202, 212, ...,  27,  26,  31]], dtype=uint8),\n",
       " array([[124, 129, 135, ...,  31,  29,  34]], dtype=uint8),\n",
       " array([[250, 248, 249, ...,  78,  76,  81]], dtype=uint8),\n",
       " array([[251, 250, 248, ...,  79,  78,  83]], dtype=uint8),\n",
       " array([[192, 200, 211, ...,  39,  38,  44]], dtype=uint8),\n",
       " array([[255, 255, 255, ..., 180, 170, 168]], dtype=uint8),\n",
       " array([[255, 255, 255, ..., 178, 163, 160]], dtype=uint8),\n",
       " array([[255, 255, 255, ..., 160, 159, 157]], dtype=uint8),\n",
       " array([[255, 254, 255, ..., 198, 196, 197]], dtype=uint8),\n",
       " array([[255, 254, 255, ..., 140, 139, 144]], dtype=uint8),\n",
       " array([[255, 254, 255, ..., 172, 166, 166]], dtype=uint8),\n",
       " array([[255, 255, 255, ..., 136, 135, 133]], dtype=uint8),\n",
       " array([[255, 254, 255, ..., 166, 165, 163]], dtype=uint8),\n",
       " array([[255, 254, 255, ..., 147, 143, 142]], dtype=uint8),\n",
       " array([[255, 254, 255, ..., 132, 131, 137]], dtype=uint8),\n",
       " array([[255, 254, 255, ..., 156, 157, 162]], dtype=uint8),\n",
       " array([[255, 254, 255, ..., 175, 173, 174]], dtype=uint8),\n",
       " array([[255, 255, 255, ..., 169, 164, 161]], dtype=uint8),\n",
       " array([[242, 249, 255, ..., 112, 113, 117]], dtype=uint8),\n",
       " array([[249, 254, 255, ..., 162, 166, 169]], dtype=uint8),\n",
       " array([[255, 254, 255, ..., 101, 104, 123]], dtype=uint8),\n",
       " array([[255, 254, 255, ..., 182, 171, 169]], dtype=uint8),\n",
       " array([[255, 255, 255, ..., 126, 117, 118]], dtype=uint8),\n",
       " array([[250, 255, 255, ..., 156, 157, 159]], dtype=uint8),\n",
       " array([[255, 255, 255, ..., 115, 103, 105]], dtype=uint8),\n",
       " array([[235, 229, 231, ...,  70,  67,  76]], dtype=uint8),\n",
       " array([[237, 228, 231, ...,  62,  62,  70]], dtype=uint8),\n",
       " array([[255, 255, 255, ..., 117, 105, 109]], dtype=uint8),\n",
       " array([[234, 228, 232, ...,  72,  71,  79]], dtype=uint8),\n",
       " array([[255, 254, 251, ...,  80,  79,  84]], dtype=uint8),\n",
       " array([[202, 209, 219, ...,  22,  23,  25]], dtype=uint8),\n",
       " array([[255, 255, 255, ...,  89,  76,  83]], dtype=uint8),\n",
       " array([[255, 255, 255, ..., 135, 126, 127]], dtype=uint8),\n",
       " array([[255, 255, 255, ..., 155, 147, 144]], dtype=uint8),\n",
       " array([[255, 255, 255, ..., 140, 128, 130]], dtype=uint8)]"
      ]
     },
     "execution_count": 6,
     "metadata": {},
     "output_type": "execute_result"
    }
   ],
   "source": [
    "[img_to_array(photo, (512,512)) for photo in photos_paths]"
   ]
  },
  {
   "cell_type": "code",
   "execution_count": null,
   "metadata": {
    "collapsed": true
   },
   "outputs": [],
   "source": []
  }
 ],
 "metadata": {
  "kernelspec": {
   "display_name": "Python 3",
   "language": "python",
   "name": "python3"
  },
  "language_info": {
   "codemirror_mode": {
    "name": "ipython",
    "version": 3
   },
   "file_extension": ".py",
   "mimetype": "text/x-python",
   "name": "python",
   "nbconvert_exporter": "python",
   "pygments_lexer": "ipython3",
   "version": "3.6.2"
  }
 },
 "nbformat": 4,
 "nbformat_minor": 2
}
