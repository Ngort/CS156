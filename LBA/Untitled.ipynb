{
 "cells": [
  {
   "cell_type": "markdown",
   "metadata": {},
   "source": [
    "## Nicolas A Gort Freitas\n",
    "# Location Based Assignment\n",
    "## CS156 Machine Learning"
   ]
  },
  {
   "cell_type": "markdown",
   "metadata": {},
   "source": [
    "### Dependencies"
   ]
  },
  {
   "cell_type": "code",
   "execution_count": 1,
   "metadata": {
    "collapsed": true
   },
   "outputs": [],
   "source": [
    "import glob\n",
    "import numpy as np\n",
    "import matplotlib.pyplot as plt\n",
    "import warnings\n",
    "\n",
    "from glob import glob\n",
    "from PIL import Image\n",
    "from scipy.misc import imread,imresize\n",
    "\n",
    "from sklearn.model_selection import train_test_split, GridSearchCV\n",
    "from sklearn.linear_model import LogisticRegression\n",
    "from sklearn.decomposition import PCA"
   ]
  },
  {
   "cell_type": "markdown",
   "metadata": {},
   "source": [
    "### Function bank"
   ]
  },
  {
   "cell_type": "code",
   "execution_count": null,
   "metadata": {
    "collapsed": true
   },
   "outputs": [],
   "source": [
    "def flat_to_rgb(flt,size):\n",
    "    flatrgb = flt.reshape(size[0]*size[1],3)\n",
    "    prergb = np.array([tuple([int(j) for j in i]) for i in flatrgb])\n",
    "    rgb = prergb.reshape(size[1],size[0],3)/255\n",
    "    \n",
    "    return rgb\n",
    "\n",
    "def img_to_array(filename,size):\n",
    "    img = Image.open(filename)\n",
    "    img = img.resize(size)\n",
    "    return np.array(img).reshape(1,-1)"
   ]
  },
  {
   "cell_type": "markdown",
   "metadata": {},
   "source": [
    "### Paths"
   ]
  },
  {
   "cell_type": "code",
   "execution_count": 2,
   "metadata": {
    "collapsed": true
   },
   "outputs": [],
   "source": [
    "photos_paths = glob(\"office_window/*\")"
   ]
  },
  {
   "cell_type": "code",
   "execution_count": 3,
   "metadata": {},
   "outputs": [
    {
     "data": {
      "text/plain": [
       "['office_window/DSC_1058.JPG',\n",
       " 'office_window/DSC_1061.JPG',\n",
       " 'office_window/DSC_1049.JPG',\n",
       " 'office_window/DSC_1048.JPG',\n",
       " 'office_window/DSC_1060.JPG',\n",
       " 'office_window/DSC_1038.JPG',\n",
       " 'office_window/DSC_1039.JPG',\n",
       " 'office_window/DSC_1029.JPG',\n",
       " 'office_window/DSC_1028.JPG',\n",
       " 'office_window/DSC_1026.JPG',\n",
       " 'office_window/DSC_1032.JPG',\n",
       " 'office_window/DSC_1033.JPG',\n",
       " 'office_window/DSC_1027.JPG',\n",
       " 'office_window/DSC_1031.JPG',\n",
       " 'office_window/DSC_1025.JPG',\n",
       " 'office_window/DSC_1024.JPG',\n",
       " 'office_window/DSC_1030.JPG',\n",
       " 'office_window/DSC_1034.JPG',\n",
       " 'office_window/DSC_1020.JPG',\n",
       " 'office_window/DSC_1021.JPG',\n",
       " 'office_window/DSC_1023.JPG',\n",
       " 'office_window/DSC_1037.JPG',\n",
       " 'office_window/DSC_1036.JPG',\n",
       " 'office_window/DSC_1022.JPG',\n",
       " 'office_window/DSC_1045.JPG',\n",
       " 'office_window/DSC_1051.JPG',\n",
       " 'office_window/DSC_1050.JPG',\n",
       " 'office_window/DSC_1044.JPG',\n",
       " 'office_window/DSC_1052.JPG',\n",
       " 'office_window/DSC_1047.JPG',\n",
       " 'office_window/DSC_1057.JPG',\n",
       " 'office_window/DSC_1043.JPG',\n",
       " 'office_window/DSC_1042.JPG',\n",
       " 'office_window/DSC_1040.JPG',\n",
       " 'office_window/DSC_1041.JPG']"
      ]
     },
     "execution_count": 3,
     "metadata": {},
     "output_type": "execute_result"
    }
   ],
   "source": [
    "photos_paths"
   ]
  },
  {
   "cell_type": "code",
   "execution_count": null,
   "metadata": {
    "collapsed": true
   },
   "outputs": [],
   "source": []
  }
 ],
 "metadata": {
  "kernelspec": {
   "display_name": "Python 3",
   "language": "python",
   "name": "python3"
  },
  "language_info": {
   "codemirror_mode": {
    "name": "ipython",
    "version": 3
   },
   "file_extension": ".py",
   "mimetype": "text/x-python",
   "name": "python",
   "nbconvert_exporter": "python",
   "pygments_lexer": "ipython3",
   "version": "3.6.2"
  }
 },
 "nbformat": 4,
 "nbformat_minor": 2
}
