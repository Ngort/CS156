{
  "nbformat": 4,
  "nbformat_minor": 0,
  "metadata": {
    "colab": {
      "name": "FinalCS156.ipynb",
      "version": "0.3.2",
      "views": {},
      "default_view": {},
      "provenance": [],
      "collapsed_sections": []
    },
    "kernelspec": {
      "name": "python3",
      "display_name": "Python 3"
    },
    "accelerator": "GPU"
  },
  "cells": [
    {
      "metadata": {
        "id": "ay3OCfjSR63u",
        "colab_type": "code",
        "colab": {
          "autoexec": {
            "startup": false,
            "wait_interval": 0
          }
        }
      },
      "cell_type": "code",
      "source": [
        "Dependencies"
      ],
      "execution_count": 0,
      "outputs": []
    },
    {
      "metadata": {
        "id": "-s_-oFZNR-ZO",
        "colab_type": "text"
      },
      "cell_type": "markdown",
      "source": [
        "### Dependencies"
      ]
    },
    {
      "metadata": {
        "id": "YDpHYYW0BwnL",
        "colab_type": "code",
        "colab": {
          "autoexec": {
            "startup": false,
            "wait_interval": 0
          },
          "base_uri": "https://localhost:8080/",
          "height": 119
        },
        "outputId": "61176bd4-82bb-4a38-b739-ed74d68954bf",
        "executionInfo": {
          "status": "ok",
          "timestamp": 1524331043841,
          "user_tz": -330,
          "elapsed": 921,
          "user": {
            "displayName": "Nicolas Gort Freitas",
            "photoUrl": "https://lh3.googleusercontent.com/a/default-user=s128",
            "userId": "112932499204257008914"
          }
        }
      },
      "cell_type": "code",
      "source": [
        "import numpy as np\n",
        "import pandas as pd\n",
        "import matplotlib.pyplot as plt\n",
        "import re\n",
        "\n",
        "from sklearn.feature_extraction.text import CountVectorizer, TfidfVectorizer\n",
        "from sklearn.grid_search import GridSearchCV\n",
        "from sklearn.decomposition import LatentDirichletAllocation, TruncatedSVD\n",
        "from sklearn.multiclass import OneVsRestClassifier\n",
        "from sklearn.pipeline import Pipeline\n",
        "from sklearn.preprocessing import OneHotEncoder, LabelEncoder\n",
        "from sklearn.metrics import cohen_kappa_score, confusion_matrix, accuracy_score, f1_score\n",
        "from sklearn.model_selection import train_test_split\n",
        "\n",
        "from gensim.models import Doc2Vec\n",
        "from gensim.models.doc2vec import TaggedDocument\n",
        "\n",
        "from mlxtend.plotting import plot_confusion_matrix\n",
        "\n",
        "import nltk\n",
        "nltk.download('stopwords')\n",
        "nltk.download('wordnet')\n",
        "nltk.download('punkt')\n",
        "from nltk.stem import WordNetLemmatizer\n",
        "from nltk.tokenize import word_tokenize, wordpunct_tokenize\n",
        "from nltk.corpus import stopwords\n",
        "\n",
        "from string import punctuation\n",
        "from collections import Counter\n",
        "\n",
        "pd.set_option('max_colwidth',75)\n",
        "\n",
        "from keras.models import Sequential, Model\n",
        "from keras.layers import Dense, Dropout, LSTM, Embedding, Input, RepeatVector, Concatenate, Reshape\n",
        "from keras.layers.merge import concatenate\n",
        "from keras.optimizers import SGD\n"
      ],
      "execution_count": 228,
      "outputs": [
        {
          "output_type": "stream",
          "text": [
            "[nltk_data] Downloading package stopwords to /content/nltk_data...\n",
            "[nltk_data]   Package stopwords is already up-to-date!\n",
            "[nltk_data] Downloading package wordnet to /content/nltk_data...\n",
            "[nltk_data]   Package wordnet is already up-to-date!\n",
            "[nltk_data] Downloading package punkt to /content/nltk_data...\n",
            "[nltk_data]   Package punkt is already up-to-date!\n"
          ],
          "name": "stdout"
        }
      ]
    },
    {
      "metadata": {
        "id": "Q24WT-kbSEOR",
        "colab_type": "text"
      },
      "cell_type": "markdown",
      "source": [
        "### Preprocesssing"
      ]
    },
    {
      "metadata": {
        "id": "K4LkSMV2ZXdu",
        "colab_type": "code",
        "colab": {
          "autoexec": {
            "startup": false,
            "wait_interval": 0
          }
        }
      },
      "cell_type": "code",
      "source": [
        "wnl = WordNetLemmatizer()\n",
        "sw = stopwords.words('english')\n",
        "def text_preprocessing(t):\n",
        "    #lowercases\n",
        "    text = t.lower()\n",
        "    #remove punctuation\n",
        "    text = re.sub(pattern=r'['+punctuation+']',repl='',string=text)\n",
        "    \n",
        "    #lemmatize\n",
        "    words = [wnl.lemmatize(w) for w in word_tokenize(text) if w not in sw]\n",
        "    \n",
        "    return \" \".join(words)\n",
        "  \n",
        "  \n",
        "def onecoldencoder(row):\n",
        "    for c in y_test.columns:\n",
        "        if row[c]==1:\n",
        "            return int(c[-1])"
      ],
      "execution_count": 0,
      "outputs": []
    },
    {
      "metadata": {
        "id": "2_hldgpcZIpF",
        "colab_type": "code",
        "colab": {
          "autoexec": {
            "startup": false,
            "wait_interval": 0
          }
        }
      },
      "cell_type": "code",
      "source": [
        "training_variants = pd.read_csv('drive/Colab Notebooks/training_variants', skiprows = 1, names=['ID','Gene','Variation','Class']).set_index('ID')\n",
        "training_text = pd.read_csv('drive/Colab Notebooks/training_text', sep = '\\|\\|', header = None, skiprows = 1, \n",
        "                            names = ['ID', 'Text'], engine = 'python', encoding = 'utf-8').set_index('ID')\n",
        "\n",
        "training_data = training_text.dropna().join(training_variants)\n",
        "X_train = training_data.loc[:,['Gene','Variation','Text']]\n",
        "y_train = training_data.loc[:,'Class']"
      ],
      "execution_count": 0,
      "outputs": []
    },
    {
      "metadata": {
        "id": "0_1bp5jmSIKW",
        "colab_type": "text"
      },
      "cell_type": "markdown",
      "source": [
        "### Data loading"
      ]
    },
    {
      "metadata": {
        "id": "x7yuQ5eHOSfo",
        "colab_type": "code",
        "colab": {
          "autoexec": {
            "startup": false,
            "wait_interval": 0
          }
        }
      },
      "cell_type": "code",
      "source": [
        "X_train.Text = X_train.Text.map(text_preprocessing)\n",
        "X_test.Text = X_test.Text.map(text_preprocessing)\n"
      ],
      "execution_count": 0,
      "outputs": []
    },
    {
      "metadata": {
        "id": "M2VSpgalcE4i",
        "colab_type": "code",
        "colab": {
          "autoexec": {
            "startup": false,
            "wait_interval": 0
          }
        }
      },
      "cell_type": "code",
      "source": [
        "test_variants = pd.read_csv('drive/Colab Notebooks/test_variants', skiprows = 1, names=['ID','Gene','Variation','Class']).set_index('ID')\n",
        "test_text = pd.read_csv('drive/Colab Notebooks/test_text', sep = '\\|\\|', header = None, skiprows = 1, \n",
        "                            names = ['ID', 'Text'], engine = 'python', encoding = 'utf-8').set_index('ID')\n",
        "\n",
        "\n",
        "test_data = test_text.dropna().join(test_variants)\n",
        "X_test = test_data.loc[:,['Gene','Variation','Text']]\n",
        "\n",
        "solutions = pd.read_csv('drive/Colab Notebooks/stage1_solution_filtered.csv')\n",
        "X_test = solutions.join(X_test, how='left').loc[:,['ID','Gene','Variation','Text']].set_index('ID')\n",
        "y_test = solutions.set_index('ID')\n",
        "\n",
        "y_test = y_test.reset_index().iloc[:,1:].apply(onecoldencoder,1)\n",
        "y_test.index = solutions.index"
      ],
      "execution_count": 0,
      "outputs": []
    },
    {
      "metadata": {
        "id": "NBsPLbNJStHD",
        "colab_type": "text"
      },
      "cell_type": "markdown",
      "source": [
        "# Clasification on original test set (mislabeled?)"
      ]
    },
    {
      "metadata": {
        "id": "HVdK38KtSO47",
        "colab_type": "text"
      },
      "cell_type": "markdown",
      "source": [
        "### Preparation for Doc2Vec: Tagging documents"
      ]
    },
    {
      "metadata": {
        "id": "gkE8qu7BHSrg",
        "colab_type": "code",
        "colab": {
          "autoexec": {
            "startup": false,
            "wait_interval": 0
          }
        }
      },
      "cell_type": "code",
      "source": [
        "tagged_descriptions_train = [TaggedDocument(row.Text.split(), [row.Gene+'_'+row.Variation]) for i, row in X_train.iterrows()]\n",
        "tagged_descriptions_test = [TaggedDocument(row.Text.split(), [row.Gene+'_'+row.Variation]) for i, row in X_test.iterrows()]\n",
        "  "
      ],
      "execution_count": 0,
      "outputs": []
    },
    {
      "metadata": {
        "id": "HIW-vu2MSXbA",
        "colab_type": "text"
      },
      "cell_type": "markdown",
      "source": [
        "### Training Doc2Vec, stacking all vectorizations in a matrix\n",
        "\n",
        "---\n",
        "\n"
      ]
    },
    {
      "metadata": {
        "id": "IcaN_iJjHUB0",
        "colab_type": "code",
        "colab": {
          "autoexec": {
            "startup": false,
            "wait_interval": 0
          }
        }
      },
      "cell_type": "code",
      "source": [
        "d2v_train = Doc2Vec(alpha=0.025, min_alpha=0.025)\n",
        "d2v_train.build_vocab(tagged_descriptions_train)\n",
        "d2v_train.train(tagged_descriptions_train, total_examples=2100, epochs=d2v_train.epochs)\n",
        "\n",
        "d2v_test = Doc2Vec(alpha=0.025, min_alpha=0.025)\n",
        "d2v_test.build_vocab(tagged_descriptions_test)\n",
        "d2v_test.train(tagged_descriptions_test, total_examples=2100, epochs=d2v_test.epochs)\n",
        "\n"
      ],
      "execution_count": 0,
      "outputs": []
    },
    {
      "metadata": {
        "id": "4xqrYs5FbKiU",
        "colab_type": "code",
        "colab": {
          "autoexec": {
            "startup": false,
            "wait_interval": 0
          }
        }
      },
      "cell_type": "code",
      "source": [
        "docvec_matrix_train = np.vstack([d2v_train.docvecs[X_train.Gene[i]+'_'+X_train.Variation[i]] for i,row in X_train.iterrows()])\n",
        "docvec_matrix_test = np.vstack([d2v_test.docvecs[X_test.Gene[i]+'_'+X_test.Variation[i]] for i,row in X_test.iterrows()])"
      ],
      "execution_count": 0,
      "outputs": []
    },
    {
      "metadata": {
        "id": "gEdnJXomYQw1",
        "colab_type": "code",
        "colab": {
          "autoexec": {
            "startup": false,
            "wait_interval": 0
          },
          "base_uri": "https://localhost:8080/",
          "height": 34
        },
        "outputId": "bdd54fc2-34f5-4252-ecfc-9c5a08801719",
        "executionInfo": {
          "status": "ok",
          "timestamp": 1524267012243,
          "user_tz": -330,
          "elapsed": 945,
          "user": {
            "displayName": "Nicolas Gort Freitas",
            "photoUrl": "https://lh3.googleusercontent.com/a/default-user=s128",
            "userId": "112932499204257008914"
          }
        }
      },
      "cell_type": "code",
      "source": [
        ""
      ],
      "execution_count": 145,
      "outputs": [
        {
          "output_type": "execute_result",
          "data": {
            "text/plain": [
              "(3316, 3)"
            ]
          },
          "metadata": {
            "tags": []
          },
          "execution_count": 145
        }
      ]
    },
    {
      "metadata": {
        "id": "a05daIuAYRN9",
        "colab_type": "code",
        "colab": {
          "autoexec": {
            "startup": false,
            "wait_interval": 0
          }
        }
      },
      "cell_type": "code",
      "source": [
        "svd_train = TruncatedSVD(20)\n",
        "gene_hotsvd_train = svd_train.fit_transform(pd.get_dummies(X_train.Gene).values)\n",
        "variation_hotsvd_train = svd_train.fit_transform(pd.get_dummies(X_train.Variation).values)\n",
        "\n",
        "svd_test = TruncatedSVD(20)\n",
        "gene_hotsvd_test = svd_test.fit_transform(pd.get_dummies(X_test.Gene).values)\n",
        "variation_hotsvd_test = svd_test.fit_transform(pd.get_dummies(X_test.Variation).values)\n",
        "\n",
        "\n",
        "\n"
      ],
      "execution_count": 0,
      "outputs": []
    },
    {
      "metadata": {
        "id": "sqBUYPtxYRg7",
        "colab_type": "code",
        "colab": {
          "autoexec": {
            "startup": false,
            "wait_interval": 0
          }
        }
      },
      "cell_type": "code",
      "source": [
        "X_train_engineered = pd.DataFrame(np.hstack((gene_hotsvd_train, variation_hotsvd_train, docvec_matrix_train)))\n",
        "X_train_engineered.index = X_train.index\n",
        "\n",
        "X_test_engineered = pd.DataFrame(np.hstack((gene_hotsvd_test, variation_hotsvd_test, docvec_matrix_test)))\n",
        "X_test_engineered.index = X_test.index"
      ],
      "execution_count": 0,
      "outputs": []
    },
    {
      "metadata": {
        "id": "izikg4-_YR09",
        "colab_type": "code",
        "colab": {
          "autoexec": {
            "startup": false,
            "wait_interval": 0
          }
        }
      },
      "cell_type": "code",
      "source": [
        "y_train_engineered = pd.get_dummies(y_train)"
      ],
      "execution_count": 0,
      "outputs": []
    },
    {
      "metadata": {
        "id": "rGVGaagLTQsd",
        "colab_type": "text"
      },
      "cell_type": "markdown",
      "source": [
        "# Neural Network architectures\n"
      ]
    },
    {
      "metadata": {
        "id": "l0TN76pzbAp6",
        "colab_type": "code",
        "colab": {
          "autoexec": {
            "startup": false,
            "wait_interval": 0
          }
        }
      },
      "cell_type": "code",
      "source": [
        "\n",
        "\n",
        "def build_net():\n",
        "    input1 = Input(shape=(140,))\n",
        "    dense1 = Dense(256, kernel_initializer='normal', activation='relu')(input1)\n",
        "    drop1 = Dropout(0.25)(dense1)\n",
        "    dense2 = Dense(256, kernel_initializer='normal', activation='relu')(drop1)\n",
        "    drop2 = Dropout(0.5)(dense2)\n",
        "    dense3 = Dense(64, kernel_initializer='normal', activation='relu')(drop2)\n",
        "    smax = Dense(9, kernel_initializer='normal', activation=\"softmax\")(dense3)\n",
        "    \n",
        "    sgd = SGD(lr=0.01, decay=1e-6, momentum=0.9, nesterov=True)\n",
        "    \n",
        "    model = Model(inputs=input1 ,outputs=smax)\n",
        "    model.compile(loss='categorical_crossentropy', optimizer=sgd, metrics=['accuracy'])\n",
        "    return model\n",
        "  \n",
        "\n",
        "def build_lstm():\n",
        "\n",
        "    genvar_input = Input(shape=(40,))\n",
        "    genvar_dense1 = Dense(128, kernel_initializer='normal', activation='relu')(genvar_input)\n",
        "    genvar_drop1 = Dropout(0.25)(genvar_dense1)\n",
        "    genvar_dense2 = Dense(128, kernel_initializer='normal', activation='relu')(genvar_drop1)\n",
        "    \n",
        "    text_input = Input(shape=(100,))\n",
        "    text_reshape = Reshape((100,1))(text_input)\n",
        "    text_lstm = LSTM(200, input_shape=(100,1), recurrent_dropout = 0.2)(text_reshape)\n",
        "    \n",
        "    merged = concatenate([genvar_dense2, text_lstm])\n",
        "\n",
        "    merged_dense1 = Dense(256, kernel_initializer='normal', activation='relu')(merged)\n",
        "    merged_dense2 = Dense(64, kernel_initializer='normal', activation='relu')(merged_dense1)\n",
        "    smax = Dense(9, kernel_initializer='normal', activation=\"softmax\")(merged_dense2)\n",
        "    \n",
        "    model = Model(inputs=[genvar_input,text_input], outputs=smax)\n",
        "    \n",
        "    sgd = SGD(lr=0.01, decay=1e-6, momentum=0.9, nesterov=True)  \n",
        "    model.compile(loss='categorical_crossentropy', optimizer=sgd, metrics=['accuracy'])\n",
        "    return model"
      ],
      "execution_count": 0,
      "outputs": []
    },
    {
      "metadata": {
        "id": "x0PW8NdK1DKE",
        "colab_type": "code",
        "colab": {
          "autoexec": {
            "startup": false,
            "wait_interval": 0
          }
        }
      },
      "cell_type": "code",
      "source": [
        "lstm02 = build_lstm()"
      ],
      "execution_count": 0,
      "outputs": []
    },
    {
      "metadata": {
        "id": "s6RNvOxpbA87",
        "colab_type": "code",
        "colab": {
          "autoexec": {
            "startup": false,
            "wait_interval": 0
          },
          "base_uri": "https://localhost:8080/",
          "height": 1754
        },
        "outputId": "7b71696e-d45a-4af9-a056-ee842d043d86",
        "executionInfo": {
          "status": "ok",
          "timestamp": 1524315445081,
          "user_tz": -330,
          "elapsed": 574923,
          "user": {
            "displayName": "Nicolas Gort Freitas",
            "photoUrl": "https://lh3.googleusercontent.com/a/default-user=s128",
            "userId": "112932499204257008914"
          }
        }
      },
      "cell_type": "code",
      "source": [
        "#lstm01 = build_lstm()\n",
        "lstm01_callbacks = lstm01.fit([X_train_engineered.iloc[:,:40],X_train_engineered.iloc[:,40:]], y_train_engineered,\n",
        "                             validation_split=0.2, epochs=50, batch_size=64)"
      ],
      "execution_count": 153,
      "outputs": [
        {
          "output_type": "stream",
          "text": [
            "Train on 2652 samples, validate on 664 samples\n",
            "Epoch 1/50\n",
            "2652/2652 [==============================] - 12s 4ms/step - loss: 0.5318 - acc: 0.8032 - val_loss: 3.0371 - val_acc: 0.3660\n",
            "Epoch 2/50\n",
            "2652/2652 [==============================] - 11s 4ms/step - loss: 0.5315 - acc: 0.8058 - val_loss: 3.3221 - val_acc: 0.3419\n",
            "Epoch 3/50\n",
            "2652/2652 [==============================] - 12s 4ms/step - loss: 0.5344 - acc: 0.8051 - val_loss: 3.0017 - val_acc: 0.3810\n",
            "Epoch 4/50\n",
            "2652/2652 [==============================] - 12s 4ms/step - loss: 0.4838 - acc: 0.8216 - val_loss: 3.1514 - val_acc: 0.3569\n",
            "Epoch 5/50\n",
            "2652/2652 [==============================] - 11s 4ms/step - loss: 0.4878 - acc: 0.8198 - val_loss: 3.4160 - val_acc: 0.3584\n",
            "Epoch 6/50\n",
            " 896/2652 [=========>....................] - ETA: 7s - loss: 0.4879 - acc: 0.8181"
          ],
          "name": "stdout"
        },
        {
          "output_type": "stream",
          "text": [
            "2652/2652 [==============================] - 11s 4ms/step - loss: 0.4586 - acc: 0.8318 - val_loss: 3.8906 - val_acc: 0.3238\n",
            "Epoch 7/50\n",
            "2652/2652 [==============================] - 11s 4ms/step - loss: 0.5067 - acc: 0.8111 - val_loss: 3.3527 - val_acc: 0.3449\n",
            "Epoch 8/50\n",
            "2652/2652 [==============================] - 11s 4ms/step - loss: 0.4422 - acc: 0.8371 - val_loss: 3.6525 - val_acc: 0.3419\n",
            "Epoch 9/50\n",
            "2652/2652 [==============================] - 11s 4ms/step - loss: 0.4460 - acc: 0.8341 - val_loss: 3.5034 - val_acc: 0.3554\n",
            "Epoch 10/50\n",
            "2652/2652 [==============================] - 11s 4ms/step - loss: 0.4106 - acc: 0.8420 - val_loss: 3.6683 - val_acc: 0.3630\n",
            "Epoch 11/50\n",
            "2112/2652 [======================>.......] - ETA: 2s - loss: 0.4042 - acc: 0.8537"
          ],
          "name": "stdout"
        },
        {
          "output_type": "stream",
          "text": [
            "2652/2652 [==============================] - 11s 4ms/step - loss: 0.4123 - acc: 0.8522 - val_loss: 4.3363 - val_acc: 0.2892\n",
            "Epoch 12/50\n",
            "2652/2652 [==============================] - 11s 4ms/step - loss: 0.4041 - acc: 0.8537 - val_loss: 3.7692 - val_acc: 0.3524\n",
            "Epoch 13/50\n",
            "2652/2652 [==============================] - 11s 4ms/step - loss: 0.3526 - acc: 0.8718 - val_loss: 3.7633 - val_acc: 0.3449\n",
            "Epoch 14/50\n",
            "2652/2652 [==============================] - 11s 4ms/step - loss: 0.3730 - acc: 0.8688 - val_loss: 4.0266 - val_acc: 0.3735\n",
            "Epoch 15/50\n",
            "2652/2652 [==============================] - 11s 4ms/step - loss: 0.3545 - acc: 0.8725 - val_loss: 3.8875 - val_acc: 0.3599\n",
            "Epoch 16/50\n",
            "2176/2652 [=======================>......] - ETA: 1s - loss: 0.3463 - acc: 0.8617"
          ],
          "name": "stdout"
        },
        {
          "output_type": "stream",
          "text": [
            "2652/2652 [==============================] - 11s 4ms/step - loss: 0.3556 - acc: 0.8616 - val_loss: 3.8370 - val_acc: 0.3614\n",
            "Epoch 17/50\n",
            "2652/2652 [==============================] - 12s 4ms/step - loss: 0.3580 - acc: 0.8703 - val_loss: 4.2140 - val_acc: 0.3434\n",
            "Epoch 18/50\n",
            "2652/2652 [==============================] - 11s 4ms/step - loss: 0.4780 - acc: 0.8179 - val_loss: 3.7522 - val_acc: 0.3389\n",
            "Epoch 19/50\n",
            "2652/2652 [==============================] - 12s 4ms/step - loss: 0.4138 - acc: 0.8428 - val_loss: 3.8921 - val_acc: 0.3449\n",
            "Epoch 20/50\n",
            "2652/2652 [==============================] - 12s 4ms/step - loss: 0.3228 - acc: 0.8861 - val_loss: 3.9722 - val_acc: 0.3599\n",
            "Epoch 21/50\n",
            "2176/2652 [=======================>......] - ETA: 1s - loss: 0.3232 - acc: 0.8883"
          ],
          "name": "stdout"
        },
        {
          "output_type": "stream",
          "text": [
            "2652/2652 [==============================] - 12s 4ms/step - loss: 0.3263 - acc: 0.8854 - val_loss: 4.1935 - val_acc: 0.3494\n",
            "Epoch 22/50\n",
            "2652/2652 [==============================] - 11s 4ms/step - loss: 0.3021 - acc: 0.8918 - val_loss: 4.1682 - val_acc: 0.3690\n",
            "Epoch 23/50\n",
            "2652/2652 [==============================] - 11s 4ms/step - loss: 0.2663 - acc: 0.9038 - val_loss: 4.3156 - val_acc: 0.3569\n",
            "Epoch 24/50\n",
            "2652/2652 [==============================] - 11s 4ms/step - loss: 0.2485 - acc: 0.9114 - val_loss: 4.4563 - val_acc: 0.3660\n",
            "Epoch 25/50\n",
            "2652/2652 [==============================] - 11s 4ms/step - loss: 0.3498 - acc: 0.8733 - val_loss: 4.4746 - val_acc: 0.3599\n",
            "Epoch 26/50\n",
            "2176/2652 [=======================>......] - ETA: 1s - loss: 0.3572 - acc: 0.8686"
          ],
          "name": "stdout"
        },
        {
          "output_type": "stream",
          "text": [
            "2652/2652 [==============================] - 11s 4ms/step - loss: 0.3462 - acc: 0.8722 - val_loss: 4.2171 - val_acc: 0.3630\n",
            "Epoch 27/50\n",
            "2652/2652 [==============================] - 11s 4ms/step - loss: 0.3184 - acc: 0.8842 - val_loss: 4.5607 - val_acc: 0.3464\n",
            "Epoch 28/50\n",
            "2652/2652 [==============================] - 11s 4ms/step - loss: 0.2589 - acc: 0.9076 - val_loss: 4.2930 - val_acc: 0.3660\n",
            "Epoch 29/50\n",
            "2652/2652 [==============================] - 12s 4ms/step - loss: 0.2188 - acc: 0.9223 - val_loss: 4.7338 - val_acc: 0.3328\n",
            "Epoch 30/50\n",
            "2652/2652 [==============================] - 12s 4ms/step - loss: 0.2115 - acc: 0.9272 - val_loss: 4.4147 - val_acc: 0.3705\n",
            "Epoch 31/50\n",
            "2176/2652 [=======================>......] - ETA: 1s - loss: 0.2794 - acc: 0.9021"
          ],
          "name": "stdout"
        },
        {
          "output_type": "stream",
          "text": [
            "2652/2652 [==============================] - 11s 4ms/step - loss: 0.2771 - acc: 0.9020 - val_loss: 4.6999 - val_acc: 0.3584\n",
            "Epoch 32/50\n",
            "2652/2652 [==============================] - 11s 4ms/step - loss: 0.2468 - acc: 0.9129 - val_loss: 4.6208 - val_acc: 0.3569\n",
            "Epoch 33/50\n",
            "2652/2652 [==============================] - 11s 4ms/step - loss: 0.1979 - acc: 0.9306 - val_loss: 4.8411 - val_acc: 0.3584\n",
            "Epoch 34/50\n",
            "2652/2652 [==============================] - 11s 4ms/step - loss: 0.1870 - acc: 0.9333 - val_loss: 5.0103 - val_acc: 0.3389\n",
            "Epoch 35/50\n",
            "2652/2652 [==============================] - 11s 4ms/step - loss: 0.1729 - acc: 0.9400 - val_loss: 4.7107 - val_acc: 0.3735\n",
            "Epoch 36/50\n",
            "2176/2652 [=======================>......] - ETA: 1s - loss: 0.1610 - acc: 0.9485"
          ],
          "name": "stdout"
        },
        {
          "output_type": "stream",
          "text": [
            "2652/2652 [==============================] - 11s 4ms/step - loss: 0.1775 - acc: 0.9419 - val_loss: 4.9945 - val_acc: 0.3449\n",
            "Epoch 37/50\n",
            "2652/2652 [==============================] - 11s 4ms/step - loss: 0.2263 - acc: 0.9193 - val_loss: 4.9525 - val_acc: 0.3584\n",
            "Epoch 38/50\n",
            "2652/2652 [==============================] - 11s 4ms/step - loss: 0.2499 - acc: 0.9114 - val_loss: 4.9412 - val_acc: 0.3569\n",
            "Epoch 39/50\n",
            "2652/2652 [==============================] - 11s 4ms/step - loss: 0.1923 - acc: 0.9306 - val_loss: 5.1488 - val_acc: 0.3404\n",
            "Epoch 40/50\n",
            "2652/2652 [==============================] - 11s 4ms/step - loss: 0.1745 - acc: 0.9393 - val_loss: 5.2623 - val_acc: 0.3328\n",
            "Epoch 41/50\n",
            "2176/2652 [=======================>......] - ETA: 1s - loss: 0.1627 - acc: 0.9485"
          ],
          "name": "stdout"
        },
        {
          "output_type": "stream",
          "text": [
            "2652/2652 [==============================] - 12s 4ms/step - loss: 0.1656 - acc: 0.9483 - val_loss: 5.0654 - val_acc: 0.3449\n",
            "Epoch 42/50\n",
            "2652/2652 [==============================] - 11s 4ms/step - loss: 0.1369 - acc: 0.9551 - val_loss: 5.3206 - val_acc: 0.3178\n",
            "Epoch 43/50\n",
            "2652/2652 [==============================] - 12s 4ms/step - loss: 0.1381 - acc: 0.9529 - val_loss: 5.5680 - val_acc: 0.3178\n",
            "Epoch 44/50\n",
            "2652/2652 [==============================] - 11s 4ms/step - loss: 0.1810 - acc: 0.9306 - val_loss: 5.3991 - val_acc: 0.3569\n",
            "Epoch 45/50\n",
            "2652/2652 [==============================] - 11s 4ms/step - loss: 0.2143 - acc: 0.9235 - val_loss: 5.1722 - val_acc: 0.3298\n",
            "Epoch 46/50\n",
            "2176/2652 [=======================>......] - ETA: 1s - loss: 0.1832 - acc: 0.9380"
          ],
          "name": "stdout"
        },
        {
          "output_type": "stream",
          "text": [
            "2652/2652 [==============================] - 11s 4ms/step - loss: 0.1826 - acc: 0.9367 - val_loss: 5.3265 - val_acc: 0.3283\n",
            "Epoch 47/50\n",
            "2652/2652 [==============================] - 12s 4ms/step - loss: 0.1597 - acc: 0.9461 - val_loss: 5.1796 - val_acc: 0.3208\n",
            "Epoch 48/50\n",
            "2652/2652 [==============================] - 12s 4ms/step - loss: 0.1431 - acc: 0.9521 - val_loss: 5.2371 - val_acc: 0.3479\n",
            "Epoch 49/50\n",
            "2652/2652 [==============================] - 12s 4ms/step - loss: 0.1160 - acc: 0.9604 - val_loss: 5.3181 - val_acc: 0.3494\n",
            "Epoch 50/50\n",
            "2652/2652 [==============================] - 11s 4ms/step - loss: 0.0907 - acc: 0.9695 - val_loss: 5.7987 - val_acc: 0.3117\n"
          ],
          "name": "stdout"
        }
      ]
    },
    {
      "metadata": {
        "id": "wRFoOY7EbBRl",
        "colab_type": "code",
        "colab": {
          "autoexec": {
            "startup": false,
            "wait_interval": 0
          },
          "base_uri": "https://localhost:8080/",
          "height": 5154
        },
        "outputId": "5b2d9d7c-ab87-4b2d-a36f-48d040a3e73c",
        "executionInfo": {
          "status": "ok",
          "timestamp": 1524310746301,
          "user_tz": -330,
          "elapsed": 51004,
          "user": {
            "displayName": "Nicolas Gort Freitas",
            "photoUrl": "https://lh3.googleusercontent.com/a/default-user=s128",
            "userId": "112932499204257008914"
          }
        }
      },
      "cell_type": "code",
      "source": [
        "net01 = build_net()\n",
        "net01_callbacks = net01.fit(X_train_engineered, y_train_engineered, validation_split=0.2, epochs=150, batch_size=64)\n"
      ],
      "execution_count": 134,
      "outputs": [
        {
          "output_type": "stream",
          "text": [
            "Train on 2652 samples, validate on 664 samples\n",
            "Epoch 1/150\n",
            "2652/2652 [==============================] - 2s 762us/step - loss: 1.9671 - acc: 0.2383 - val_loss: 1.9171 - val_acc: 0.3283\n",
            "Epoch 2/150\n",
            "2652/2652 [==============================] - 0s 112us/step - loss: 1.8038 - acc: 0.3194 - val_loss: 1.8283 - val_acc: 0.3268\n",
            "Epoch 3/150\n",
            "2652/2652 [==============================] - 0s 116us/step - loss: 1.7113 - acc: 0.3839 - val_loss: 1.7566 - val_acc: 0.3042\n",
            "Epoch 4/150\n",
            "2652/2652 [==============================] - 0s 121us/step - loss: 1.6297 - acc: 0.4125 - val_loss: 1.6767 - val_acc: 0.3283\n",
            "Epoch 5/150\n",
            "2652/2652 [==============================] - 0s 125us/step - loss: 1.5745 - acc: 0.4310 - val_loss: 1.6675 - val_acc: 0.3253\n",
            "Epoch 6/150\n",
            "2652/2652 [==============================] - 0s 122us/step - loss: 1.5456 - acc: 0.4340 - val_loss: 1.6465 - val_acc: 0.3283\n",
            "Epoch 7/150\n",
            "2652/2652 [==============================] - 0s 119us/step - loss: 1.4914 - acc: 0.4604 - val_loss: 1.6824 - val_acc: 0.3178\n",
            "Epoch 8/150\n",
            "2652/2652 [==============================] - 0s 119us/step - loss: 1.4627 - acc: 0.4706 - val_loss: 1.7014 - val_acc: 0.3117\n",
            "Epoch 9/150\n",
            "2652/2652 [==============================] - 0s 119us/step - loss: 1.4279 - acc: 0.4619 - val_loss: 1.6908 - val_acc: 0.3148\n",
            "Epoch 10/150\n",
            "2652/2652 [==============================] - 0s 121us/step - loss: 1.4129 - acc: 0.4751 - val_loss: 1.6847 - val_acc: 0.3373\n",
            "Epoch 11/150\n",
            "2652/2652 [==============================] - 0s 117us/step - loss: 1.3917 - acc: 0.4785 - val_loss: 1.6858 - val_acc: 0.3223\n",
            "Epoch 12/150\n",
            "2652/2652 [==============================] - 0s 122us/step - loss: 1.3562 - acc: 0.4917 - val_loss: 1.7246 - val_acc: 0.3148\n",
            "Epoch 13/150\n",
            "2652/2652 [==============================] - 0s 121us/step - loss: 1.3498 - acc: 0.4928 - val_loss: 1.6547 - val_acc: 0.3539\n",
            "Epoch 14/150\n",
            "2048/2652 [======================>.......] - ETA: 0s - loss: 1.3121 - acc: 0.5166"
          ],
          "name": "stdout"
        },
        {
          "output_type": "stream",
          "text": [
            "2652/2652 [==============================] - 0s 116us/step - loss: 1.3183 - acc: 0.5140 - val_loss: 1.6907 - val_acc: 0.3283\n",
            "Epoch 15/150\n",
            "2652/2652 [==============================] - 0s 118us/step - loss: 1.2619 - acc: 0.5317 - val_loss: 1.8037 - val_acc: 0.3223\n",
            "Epoch 16/150\n",
            "2652/2652 [==============================] - 0s 117us/step - loss: 1.2578 - acc: 0.5313 - val_loss: 1.7198 - val_acc: 0.3419\n",
            "Epoch 17/150\n",
            "2652/2652 [==============================] - 0s 120us/step - loss: 1.2339 - acc: 0.5343 - val_loss: 1.7831 - val_acc: 0.3268\n",
            "Epoch 18/150\n",
            "2652/2652 [==============================] - 0s 124us/step - loss: 1.2078 - acc: 0.5445 - val_loss: 1.7166 - val_acc: 0.3419\n",
            "Epoch 19/150\n",
            "2652/2652 [==============================] - 0s 117us/step - loss: 1.2058 - acc: 0.5528 - val_loss: 1.7048 - val_acc: 0.3479\n",
            "Epoch 20/150\n",
            "2652/2652 [==============================] - 0s 118us/step - loss: 1.1749 - acc: 0.5517 - val_loss: 1.8033 - val_acc: 0.3193\n",
            "Epoch 21/150\n",
            "2652/2652 [==============================] - 0s 119us/step - loss: 1.1509 - acc: 0.5532 - val_loss: 1.7142 - val_acc: 0.3569\n",
            "Epoch 22/150\n",
            "2652/2652 [==============================] - 0s 117us/step - loss: 1.1198 - acc: 0.5845 - val_loss: 1.8280 - val_acc: 0.3373\n",
            "Epoch 23/150\n",
            "2652/2652 [==============================] - 0s 122us/step - loss: 1.1037 - acc: 0.5814 - val_loss: 1.8751 - val_acc: 0.3283\n",
            "Epoch 24/150\n",
            "2652/2652 [==============================] - 0s 120us/step - loss: 1.0883 - acc: 0.5799 - val_loss: 1.8013 - val_acc: 0.3554\n",
            "Epoch 25/150\n",
            "2652/2652 [==============================] - 0s 118us/step - loss: 1.0787 - acc: 0.5909 - val_loss: 1.9217 - val_acc: 0.3358\n",
            "Epoch 26/150\n",
            "2652/2652 [==============================] - 0s 120us/step - loss: 1.0490 - acc: 0.6003 - val_loss: 1.8246 - val_acc: 0.3614\n",
            "Epoch 27/150\n",
            "2048/2652 [======================>.......] - ETA: 0s - loss: 1.0063 - acc: 0.6289"
          ],
          "name": "stdout"
        },
        {
          "output_type": "stream",
          "text": [
            "2652/2652 [==============================] - 0s 118us/step - loss: 1.0304 - acc: 0.6180 - val_loss: 1.9218 - val_acc: 0.3645\n",
            "Epoch 28/150\n",
            "2652/2652 [==============================] - 0s 125us/step - loss: 1.0364 - acc: 0.6090 - val_loss: 1.9007 - val_acc: 0.3434\n",
            "Epoch 29/150\n",
            "2652/2652 [==============================] - 0s 120us/step - loss: 1.0187 - acc: 0.6048 - val_loss: 1.8463 - val_acc: 0.3494\n",
            "Epoch 30/150\n",
            "2652/2652 [==============================] - 0s 122us/step - loss: 1.0122 - acc: 0.6188 - val_loss: 2.0343 - val_acc: 0.3690\n",
            "Epoch 31/150\n",
            "2652/2652 [==============================] - 0s 120us/step - loss: 0.9764 - acc: 0.6267 - val_loss: 1.9794 - val_acc: 0.3434\n",
            "Epoch 32/150\n",
            "2652/2652 [==============================] - 0s 119us/step - loss: 0.9764 - acc: 0.6259 - val_loss: 1.9207 - val_acc: 0.3660\n",
            "Epoch 33/150\n",
            "2652/2652 [==============================] - 0s 118us/step - loss: 0.9497 - acc: 0.6448 - val_loss: 2.0102 - val_acc: 0.3373\n",
            "Epoch 34/150\n",
            "2652/2652 [==============================] - 0s 118us/step - loss: 0.9243 - acc: 0.6554 - val_loss: 1.9988 - val_acc: 0.3509\n",
            "Epoch 35/150\n",
            "2652/2652 [==============================] - 0s 118us/step - loss: 0.9131 - acc: 0.6395 - val_loss: 2.0161 - val_acc: 0.3464\n",
            "Epoch 36/150\n",
            "2652/2652 [==============================] - 0s 119us/step - loss: 0.8923 - acc: 0.6674 - val_loss: 1.9663 - val_acc: 0.3690\n",
            "Epoch 37/150\n",
            "2652/2652 [==============================] - 0s 119us/step - loss: 0.8912 - acc: 0.6674 - val_loss: 2.0042 - val_acc: 0.3810\n",
            "Epoch 38/150\n",
            "2652/2652 [==============================] - 0s 120us/step - loss: 0.8626 - acc: 0.6802 - val_loss: 1.9902 - val_acc: 0.3554\n",
            "Epoch 39/150\n",
            "2652/2652 [==============================] - 0s 119us/step - loss: 0.8907 - acc: 0.6697 - val_loss: 2.0974 - val_acc: 0.3645\n",
            "Epoch 40/150\n",
            "2496/2652 [===========================>..] - ETA: 0s - loss: 0.8626 - acc: 0.6867"
          ],
          "name": "stdout"
        },
        {
          "output_type": "stream",
          "text": [
            "2652/2652 [==============================] - 0s 122us/step - loss: 0.8604 - acc: 0.6874 - val_loss: 2.1397 - val_acc: 0.3464\n",
            "Epoch 41/150\n",
            "2652/2652 [==============================] - 0s 124us/step - loss: 0.8413 - acc: 0.6742 - val_loss: 2.0747 - val_acc: 0.3569\n",
            "Epoch 42/150\n",
            "2652/2652 [==============================] - 0s 120us/step - loss: 0.8150 - acc: 0.6904 - val_loss: 2.1295 - val_acc: 0.3675\n",
            "Epoch 43/150\n",
            "2652/2652 [==============================] - 0s 120us/step - loss: 0.8494 - acc: 0.6867 - val_loss: 2.1060 - val_acc: 0.3283\n",
            "Epoch 44/150\n",
            "2652/2652 [==============================] - 0s 118us/step - loss: 0.8175 - acc: 0.6991 - val_loss: 2.0818 - val_acc: 0.3569\n",
            "Epoch 45/150\n",
            "2652/2652 [==============================] - 0s 122us/step - loss: 0.8140 - acc: 0.6968 - val_loss: 2.0490 - val_acc: 0.3645\n",
            "Epoch 46/150\n",
            "2652/2652 [==============================] - 0s 121us/step - loss: 0.8133 - acc: 0.6991 - val_loss: 2.0663 - val_acc: 0.3750\n",
            "Epoch 47/150\n",
            "2652/2652 [==============================] - 0s 121us/step - loss: 0.7683 - acc: 0.7115 - val_loss: 2.2180 - val_acc: 0.3358\n",
            "Epoch 48/150\n",
            "2652/2652 [==============================] - 0s 122us/step - loss: 0.7935 - acc: 0.6972 - val_loss: 2.3788 - val_acc: 0.3434\n",
            "Epoch 49/150\n",
            "2652/2652 [==============================] - 0s 123us/step - loss: 0.8062 - acc: 0.6942 - val_loss: 2.1234 - val_acc: 0.3599\n",
            "Epoch 50/150\n",
            "2652/2652 [==============================] - 0s 122us/step - loss: 0.7657 - acc: 0.7138 - val_loss: 2.3224 - val_acc: 0.3464\n",
            "Epoch 51/150\n",
            "2652/2652 [==============================] - 0s 121us/step - loss: 0.7657 - acc: 0.7134 - val_loss: 2.1418 - val_acc: 0.3660\n",
            "Epoch 52/150\n",
            "2652/2652 [==============================] - 0s 116us/step - loss: 0.7358 - acc: 0.7213 - val_loss: 2.1483 - val_acc: 0.3449\n",
            "Epoch 53/150\n",
            "2652/2652 [==============================] - 0s 118us/step - loss: 0.7424 - acc: 0.7130 - val_loss: 2.2886 - val_acc: 0.3358\n"
          ],
          "name": "stdout"
        },
        {
          "output_type": "stream",
          "text": [
            "Epoch 54/150\n",
            "2652/2652 [==============================] - 0s 122us/step - loss: 0.7313 - acc: 0.7168 - val_loss: 2.2158 - val_acc: 0.3645\n",
            "Epoch 55/150\n",
            "2652/2652 [==============================] - 0s 119us/step - loss: 0.7249 - acc: 0.7391 - val_loss: 2.3573 - val_acc: 0.3614\n",
            "Epoch 56/150\n",
            "2652/2652 [==============================] - 0s 124us/step - loss: 0.6998 - acc: 0.7345 - val_loss: 2.2884 - val_acc: 0.3886\n",
            "Epoch 57/150\n",
            "2652/2652 [==============================] - 0s 119us/step - loss: 0.7151 - acc: 0.7323 - val_loss: 2.3630 - val_acc: 0.3855\n",
            "Epoch 58/150\n",
            "2652/2652 [==============================] - 0s 119us/step - loss: 0.6943 - acc: 0.7406 - val_loss: 2.3022 - val_acc: 0.3825\n",
            "Epoch 59/150\n",
            "2652/2652 [==============================] - 0s 110us/step - loss: 0.6792 - acc: 0.7353 - val_loss: 2.4120 - val_acc: 0.3449\n",
            "Epoch 60/150\n",
            "2652/2652 [==============================] - 0s 119us/step - loss: 0.6820 - acc: 0.7281 - val_loss: 2.4343 - val_acc: 0.3313\n",
            "Epoch 61/150\n",
            "2652/2652 [==============================] - 0s 119us/step - loss: 0.6903 - acc: 0.7376 - val_loss: 2.4082 - val_acc: 0.3630\n",
            "Epoch 62/150\n",
            "2652/2652 [==============================] - 0s 121us/step - loss: 0.6983 - acc: 0.7296 - val_loss: 2.4697 - val_acc: 0.3494\n",
            "Epoch 63/150\n",
            "2652/2652 [==============================] - 0s 121us/step - loss: 0.6549 - acc: 0.7519 - val_loss: 2.4413 - val_acc: 0.3554\n",
            "Epoch 64/150\n",
            "2652/2652 [==============================] - 0s 118us/step - loss: 0.6590 - acc: 0.7504 - val_loss: 2.5015 - val_acc: 0.3765\n",
            "Epoch 65/150\n",
            "2652/2652 [==============================] - 0s 111us/step - loss: 0.6564 - acc: 0.7519 - val_loss: 2.7172 - val_acc: 0.3509\n",
            "Epoch 66/150\n",
            "2652/2652 [==============================] - 0s 119us/step - loss: 0.6567 - acc: 0.7492 - val_loss: 2.5471 - val_acc: 0.3735\n",
            "Epoch 67/150\n",
            "2652/2652 [==============================] - 0s 120us/step - loss: 0.6665 - acc: 0.7504 - val_loss: 2.5976 - val_acc: 0.3705\n",
            "Epoch 68/150\n",
            "  64/2652 [..............................] - ETA: 0s - loss: 0.6392 - acc: 0.7500"
          ],
          "name": "stdout"
        },
        {
          "output_type": "stream",
          "text": [
            "2652/2652 [==============================] - 0s 122us/step - loss: 0.6804 - acc: 0.7455 - val_loss: 2.5565 - val_acc: 0.3554\n",
            "Epoch 69/150\n",
            "2652/2652 [==============================] - 0s 121us/step - loss: 0.6245 - acc: 0.7805 - val_loss: 2.5355 - val_acc: 0.3554\n",
            "Epoch 70/150\n",
            "2652/2652 [==============================] - 0s 121us/step - loss: 0.6255 - acc: 0.7628 - val_loss: 2.3968 - val_acc: 0.3750\n",
            "Epoch 71/150\n",
            "2652/2652 [==============================] - 0s 118us/step - loss: 0.6420 - acc: 0.7609 - val_loss: 2.5538 - val_acc: 0.3645\n",
            "Epoch 72/150\n",
            "2652/2652 [==============================] - 0s 124us/step - loss: 0.6154 - acc: 0.7677 - val_loss: 2.5160 - val_acc: 0.3569\n",
            "Epoch 73/150\n",
            "2652/2652 [==============================] - 0s 118us/step - loss: 0.6097 - acc: 0.7673 - val_loss: 2.6443 - val_acc: 0.3404\n",
            "Epoch 74/150\n",
            "2652/2652 [==============================] - 0s 120us/step - loss: 0.5999 - acc: 0.7768 - val_loss: 2.5575 - val_acc: 0.3584\n",
            "Epoch 75/150\n",
            "2652/2652 [==============================] - 0s 117us/step - loss: 0.6070 - acc: 0.7696 - val_loss: 2.5139 - val_acc: 0.3569\n",
            "Epoch 76/150\n",
            "2652/2652 [==============================] - 0s 118us/step - loss: 0.5977 - acc: 0.7730 - val_loss: 2.7636 - val_acc: 0.3434\n",
            "Epoch 77/150\n",
            "2652/2652 [==============================] - 0s 119us/step - loss: 0.5981 - acc: 0.7783 - val_loss: 2.5799 - val_acc: 0.3780\n",
            "Epoch 78/150\n",
            "2652/2652 [==============================] - 0s 120us/step - loss: 0.5789 - acc: 0.7839 - val_loss: 2.7092 - val_acc: 0.3599\n",
            "Epoch 79/150\n",
            "2652/2652 [==============================] - 0s 119us/step - loss: 0.5930 - acc: 0.7771 - val_loss: 2.6369 - val_acc: 0.3750\n",
            "Epoch 80/150\n",
            "2652/2652 [==============================] - 0s 122us/step - loss: 0.5952 - acc: 0.7809 - val_loss: 2.8268 - val_acc: 0.3539\n",
            "Epoch 81/150\n",
            "2652/2652 [==============================] - 0s 123us/step - loss: 0.5480 - acc: 0.7911 - val_loss: 2.6007 - val_acc: 0.3735\n"
          ],
          "name": "stdout"
        },
        {
          "output_type": "stream",
          "text": [
            "Epoch 82/150\n",
            "2652/2652 [==============================] - 0s 123us/step - loss: 0.5839 - acc: 0.7866 - val_loss: 2.8372 - val_acc: 0.3434\n",
            "Epoch 83/150\n",
            "2652/2652 [==============================] - 0s 120us/step - loss: 0.5778 - acc: 0.7843 - val_loss: 2.6771 - val_acc: 0.3614\n",
            "Epoch 84/150\n",
            "2652/2652 [==============================] - 0s 122us/step - loss: 0.5527 - acc: 0.7911 - val_loss: 2.6559 - val_acc: 0.3735\n",
            "Epoch 85/150\n",
            "2652/2652 [==============================] - 0s 122us/step - loss: 0.5699 - acc: 0.7873 - val_loss: 2.8572 - val_acc: 0.3584\n",
            "Epoch 86/150\n",
            "2652/2652 [==============================] - 0s 119us/step - loss: 0.5906 - acc: 0.7738 - val_loss: 2.8582 - val_acc: 0.3343\n",
            "Epoch 87/150\n",
            "2652/2652 [==============================] - 0s 121us/step - loss: 0.5418 - acc: 0.8054 - val_loss: 2.6477 - val_acc: 0.3584\n",
            "Epoch 88/150\n",
            "2652/2652 [==============================] - 0s 118us/step - loss: 0.5510 - acc: 0.7937 - val_loss: 2.7436 - val_acc: 0.3554\n",
            "Epoch 89/150\n",
            "2652/2652 [==============================] - 0s 121us/step - loss: 0.5507 - acc: 0.7975 - val_loss: 2.8230 - val_acc: 0.3539\n",
            "Epoch 90/150\n",
            "2652/2652 [==============================] - 0s 120us/step - loss: 0.5670 - acc: 0.7922 - val_loss: 2.6629 - val_acc: 0.3810\n",
            "Epoch 91/150\n",
            "2652/2652 [==============================] - 0s 120us/step - loss: 0.5541 - acc: 0.7873 - val_loss: 2.7989 - val_acc: 0.3645\n",
            "Epoch 92/150\n",
            "2652/2652 [==============================] - 0s 118us/step - loss: 0.5434 - acc: 0.8002 - val_loss: 2.8027 - val_acc: 0.3690\n",
            "Epoch 93/150\n",
            "2652/2652 [==============================] - 0s 118us/step - loss: 0.5403 - acc: 0.8028 - val_loss: 2.7830 - val_acc: 0.3298\n",
            "Epoch 94/150\n",
            "2652/2652 [==============================] - 0s 119us/step - loss: 0.5401 - acc: 0.7922 - val_loss: 2.6525 - val_acc: 0.3840\n",
            "Epoch 95/150\n",
            "2112/2652 [======================>.......] - ETA: 0s - loss: 0.5143 - acc: 0.8168"
          ],
          "name": "stdout"
        },
        {
          "output_type": "stream",
          "text": [
            "2652/2652 [==============================] - 0s 118us/step - loss: 0.5412 - acc: 0.8035 - val_loss: 2.8418 - val_acc: 0.3419\n",
            "Epoch 96/150\n",
            "2652/2652 [==============================] - 0s 117us/step - loss: 0.5420 - acc: 0.7945 - val_loss: 2.6849 - val_acc: 0.3630\n",
            "Epoch 97/150\n",
            "2652/2652 [==============================] - 0s 119us/step - loss: 0.5140 - acc: 0.8088 - val_loss: 2.8109 - val_acc: 0.3750\n",
            "Epoch 98/150\n",
            "2652/2652 [==============================] - 0s 120us/step - loss: 0.5384 - acc: 0.8032 - val_loss: 2.8228 - val_acc: 0.3690\n",
            "Epoch 99/150\n",
            "2652/2652 [==============================] - 0s 118us/step - loss: 0.5249 - acc: 0.8103 - val_loss: 2.9940 - val_acc: 0.3494\n",
            "Epoch 100/150\n",
            "2652/2652 [==============================] - 0s 120us/step - loss: 0.5305 - acc: 0.8111 - val_loss: 2.6976 - val_acc: 0.3539\n",
            "Epoch 101/150\n",
            "2652/2652 [==============================] - 0s 120us/step - loss: 0.5255 - acc: 0.8051 - val_loss: 2.7617 - val_acc: 0.3494\n",
            "Epoch 102/150\n",
            "2652/2652 [==============================] - 0s 118us/step - loss: 0.5078 - acc: 0.8081 - val_loss: 2.8982 - val_acc: 0.3569\n",
            "Epoch 103/150\n",
            "2652/2652 [==============================] - 0s 117us/step - loss: 0.5134 - acc: 0.8058 - val_loss: 3.0285 - val_acc: 0.3584\n",
            "Epoch 104/150\n",
            "2652/2652 [==============================] - 0s 121us/step - loss: 0.5270 - acc: 0.7956 - val_loss: 2.9160 - val_acc: 0.3569\n",
            "Epoch 105/150\n",
            "2652/2652 [==============================] - 0s 119us/step - loss: 0.5043 - acc: 0.8107 - val_loss: 2.8388 - val_acc: 0.3705\n",
            "Epoch 106/150\n",
            "2652/2652 [==============================] - 0s 121us/step - loss: 0.4875 - acc: 0.8167 - val_loss: 2.8040 - val_acc: 0.3660\n",
            "Epoch 107/150\n",
            "2652/2652 [==============================] - 0s 120us/step - loss: 0.4955 - acc: 0.8118 - val_loss: 3.1314 - val_acc: 0.3660\n",
            "Epoch 108/150\n",
            "2652/2652 [==============================] - 0s 123us/step - loss: 0.4806 - acc: 0.8145 - val_loss: 3.0627 - val_acc: 0.3464\n",
            "Epoch 109/150\n",
            "  64/2652 [..............................] - ETA: 0s - loss: 0.4512 - acc: 0.8594"
          ],
          "name": "stdout"
        },
        {
          "output_type": "stream",
          "text": [
            "2652/2652 [==============================] - 0s 118us/step - loss: 0.4898 - acc: 0.8100 - val_loss: 3.1539 - val_acc: 0.3599\n",
            "Epoch 110/150\n",
            "2652/2652 [==============================] - 0s 121us/step - loss: 0.5054 - acc: 0.8160 - val_loss: 3.1758 - val_acc: 0.3630\n",
            "Epoch 111/150\n",
            "2652/2652 [==============================] - 0s 119us/step - loss: 0.4724 - acc: 0.8262 - val_loss: 3.2120 - val_acc: 0.3660\n",
            "Epoch 112/150\n",
            "2652/2652 [==============================] - 0s 123us/step - loss: 0.4738 - acc: 0.8269 - val_loss: 3.0617 - val_acc: 0.3765\n",
            "Epoch 113/150\n",
            "2652/2652 [==============================] - 0s 121us/step - loss: 0.4687 - acc: 0.8284 - val_loss: 3.1761 - val_acc: 0.3584\n",
            "Epoch 114/150\n",
            "2652/2652 [==============================] - 0s 122us/step - loss: 0.4856 - acc: 0.8209 - val_loss: 3.0907 - val_acc: 0.3509\n",
            "Epoch 115/150\n",
            "2652/2652 [==============================] - 0s 121us/step - loss: 0.4769 - acc: 0.8224 - val_loss: 2.8755 - val_acc: 0.3735\n",
            "Epoch 116/150\n",
            "2652/2652 [==============================] - 0s 122us/step - loss: 0.4932 - acc: 0.8205 - val_loss: 3.1039 - val_acc: 0.3479\n",
            "Epoch 117/150\n",
            "2652/2652 [==============================] - 0s 120us/step - loss: 0.4566 - acc: 0.8258 - val_loss: 3.1720 - val_acc: 0.3599\n",
            "Epoch 118/150\n",
            "2652/2652 [==============================] - 0s 121us/step - loss: 0.4707 - acc: 0.8235 - val_loss: 3.1507 - val_acc: 0.3584\n",
            "Epoch 119/150\n",
            "2652/2652 [==============================] - 0s 121us/step - loss: 0.4718 - acc: 0.8254 - val_loss: 3.2384 - val_acc: 0.3599\n",
            "Epoch 120/150\n",
            "2652/2652 [==============================] - 0s 124us/step - loss: 0.4759 - acc: 0.8247 - val_loss: 3.2583 - val_acc: 0.3690\n",
            "Epoch 121/150\n",
            "2652/2652 [==============================] - 0s 120us/step - loss: 0.4918 - acc: 0.8201 - val_loss: 3.1360 - val_acc: 0.3584\n",
            "Epoch 122/150\n",
            "2652/2652 [==============================] - 0s 122us/step - loss: 0.4499 - acc: 0.8333 - val_loss: 3.2315 - val_acc: 0.3464\n",
            "Epoch 123/150\n",
            "  64/2652 [..............................] - ETA: 0s - loss: 0.5928 - acc: 0.7969"
          ],
          "name": "stdout"
        },
        {
          "output_type": "stream",
          "text": [
            "2652/2652 [==============================] - 0s 118us/step - loss: 0.4525 - acc: 0.8311 - val_loss: 3.1922 - val_acc: 0.3554\n",
            "Epoch 124/150\n",
            "2652/2652 [==============================] - 0s 125us/step - loss: 0.4602 - acc: 0.8265 - val_loss: 3.0792 - val_acc: 0.3479\n",
            "Epoch 125/150\n",
            "2652/2652 [==============================] - 0s 122us/step - loss: 0.4768 - acc: 0.8201 - val_loss: 2.9480 - val_acc: 0.3614\n",
            "Epoch 126/150\n",
            "2652/2652 [==============================] - 0s 120us/step - loss: 0.4507 - acc: 0.8213 - val_loss: 3.1346 - val_acc: 0.3599\n",
            "Epoch 127/150\n",
            "2652/2652 [==============================] - 0s 120us/step - loss: 0.4540 - acc: 0.8360 - val_loss: 3.2638 - val_acc: 0.3449\n",
            "Epoch 128/150\n",
            "2652/2652 [==============================] - 0s 120us/step - loss: 0.4530 - acc: 0.8299 - val_loss: 3.2230 - val_acc: 0.3404\n",
            "Epoch 129/150\n",
            "2652/2652 [==============================] - 0s 122us/step - loss: 0.4636 - acc: 0.8311 - val_loss: 3.0468 - val_acc: 0.3509\n",
            "Epoch 130/150\n",
            "2652/2652 [==============================] - 0s 121us/step - loss: 0.4524 - acc: 0.8292 - val_loss: 3.1043 - val_acc: 0.3584\n",
            "Epoch 131/150\n",
            "2652/2652 [==============================] - 0s 125us/step - loss: 0.4321 - acc: 0.8348 - val_loss: 3.1831 - val_acc: 0.3539\n",
            "Epoch 132/150\n",
            "2652/2652 [==============================] - 0s 122us/step - loss: 0.4359 - acc: 0.8348 - val_loss: 3.1052 - val_acc: 0.3509\n",
            "Epoch 133/150\n",
            "2652/2652 [==============================] - 0s 120us/step - loss: 0.4608 - acc: 0.8265 - val_loss: 3.1678 - val_acc: 0.3494\n",
            "Epoch 134/150\n",
            "2652/2652 [==============================] - 0s 121us/step - loss: 0.4489 - acc: 0.8311 - val_loss: 3.2868 - val_acc: 0.3614\n",
            "Epoch 135/150\n",
            "2652/2652 [==============================] - 0s 124us/step - loss: 0.4585 - acc: 0.8281 - val_loss: 3.0976 - val_acc: 0.3449\n",
            "Epoch 136/150\n",
            "2652/2652 [==============================] - 0s 119us/step - loss: 0.4166 - acc: 0.8397 - val_loss: 3.3275 - val_acc: 0.3343\n",
            "Epoch 137/150\n",
            "  64/2652 [..............................] - ETA: 0s - loss: 0.3620 - acc: 0.8281"
          ],
          "name": "stdout"
        },
        {
          "output_type": "stream",
          "text": [
            "2652/2652 [==============================] - 0s 122us/step - loss: 0.4282 - acc: 0.8443 - val_loss: 3.1979 - val_acc: 0.3554\n",
            "Epoch 138/150\n",
            "2652/2652 [==============================] - 0s 121us/step - loss: 0.4278 - acc: 0.8390 - val_loss: 3.2090 - val_acc: 0.3464\n",
            "Epoch 139/150\n",
            "2652/2652 [==============================] - 0s 118us/step - loss: 0.4227 - acc: 0.8435 - val_loss: 3.2590 - val_acc: 0.3599\n",
            "Epoch 140/150\n",
            "2652/2652 [==============================] - 0s 118us/step - loss: 0.4141 - acc: 0.8480 - val_loss: 3.2571 - val_acc: 0.3524\n",
            "Epoch 141/150\n",
            "2652/2652 [==============================] - 0s 121us/step - loss: 0.4359 - acc: 0.8299 - val_loss: 3.2425 - val_acc: 0.3509\n",
            "Epoch 142/150\n",
            "2652/2652 [==============================] - 0s 124us/step - loss: 0.4659 - acc: 0.8333 - val_loss: 3.0492 - val_acc: 0.3720\n",
            "Epoch 143/150\n",
            "2652/2652 [==============================] - 0s 122us/step - loss: 0.4441 - acc: 0.8318 - val_loss: 3.2590 - val_acc: 0.3404\n",
            "Epoch 144/150\n",
            "2652/2652 [==============================] - 0s 121us/step - loss: 0.4236 - acc: 0.8465 - val_loss: 3.2438 - val_acc: 0.3554\n",
            "Epoch 145/150\n",
            "2652/2652 [==============================] - 0s 119us/step - loss: 0.4288 - acc: 0.8382 - val_loss: 3.1653 - val_acc: 0.3660\n",
            "Epoch 146/150\n",
            "2652/2652 [==============================] - 0s 119us/step - loss: 0.4248 - acc: 0.8371 - val_loss: 3.1916 - val_acc: 0.3645\n",
            "Epoch 147/150\n",
            "2652/2652 [==============================] - 0s 121us/step - loss: 0.4182 - acc: 0.8439 - val_loss: 3.2212 - val_acc: 0.3645\n",
            "Epoch 148/150\n",
            "2652/2652 [==============================] - 0s 121us/step - loss: 0.4016 - acc: 0.8514 - val_loss: 3.2450 - val_acc: 0.3584\n",
            "Epoch 149/150\n",
            "2652/2652 [==============================] - 0s 121us/step - loss: 0.4181 - acc: 0.8480 - val_loss: 3.3051 - val_acc: 0.3479\n",
            "Epoch 150/150\n",
            "2652/2652 [==============================] - 0s 119us/step - loss: 0.4305 - acc: 0.8450 - val_loss: 3.5156 - val_acc: 0.3358\n"
          ],
          "name": "stdout"
        }
      ]
    },
    {
      "metadata": {
        "id": "-1CocI74bBiY",
        "colab_type": "code",
        "colab": {
          "autoexec": {
            "startup": false,
            "wait_interval": 0
          },
          "base_uri": "https://localhost:8080/",
          "height": 378
        },
        "outputId": "88f81705-0438-46e6-dbb3-375c4701560f",
        "executionInfo": {
          "status": "ok",
          "timestamp": 1524308168398,
          "user_tz": -330,
          "elapsed": 989,
          "user": {
            "displayName": "Nicolas Gort Freitas",
            "photoUrl": "https://lh3.googleusercontent.com/a/default-user=s128",
            "userId": "112932499204257008914"
          }
        }
      },
      "cell_type": "code",
      "source": [
        "plt.plot(net01_callbacks.history['acc'], label='Accuracy')\n",
        "plt.plot(net01_callbacks.history['val_acc'], label='Validation accuracy')\n",
        "plt.xlabel('Epoch')\n",
        "plt.ylabel('Accuracy')\n",
        "plt.legend()\n",
        "#plt.show()"
      ],
      "execution_count": 91,
      "outputs": [
        {
          "output_type": "execute_result",
          "data": {
            "text/plain": [
              "<matplotlib.legend.Legend at 0x7f0512d30358>"
            ]
          },
          "metadata": {
            "tags": []
          },
          "execution_count": 91
        },
        {
          "output_type": "display_data",
          "data": {
            "image/png": "[encoded data removed]",
            "text/plain": [
              "<matplotlib.figure.Figure at 0x7f05106159b0>"
            ]
          },
          "metadata": {
            "tags": []
          }
        }
      ]
    },
    {
      "metadata": {
        "id": "0HHfNR5cOpAR",
        "colab_type": "code",
        "colab": {
          "autoexec": {
            "startup": false,
            "wait_interval": 0
          },
          "base_uri": "https://localhost:8080/",
          "height": 380
        },
        "outputId": "7b6def64-90a8-4583-fae4-810437501218",
        "executionInfo": {
          "status": "ok",
          "timestamp": 1524316165567,
          "user_tz": -330,
          "elapsed": 1215,
          "user": {
            "displayName": "Nicolas Gort Freitas",
            "photoUrl": "https://lh3.googleusercontent.com/a/default-user=s128",
            "userId": "112932499204257008914"
          }
        }
      },
      "cell_type": "code",
      "source": [
        "plt.plot(lstm01_callbacks.history['acc'], label='Accuracy')\n",
        "plt.plot(lstm01_callbacks.history['val_acc'], label='Validation accuracy')\n",
        "plt.xlabel('Epoch')\n",
        "plt.ylabel('Accuracy')\n",
        "plt.legend()\n",
        "#plt.show()"
      ],
      "execution_count": 154,
      "outputs": [
        {
          "output_type": "execute_result",
          "data": {
            "text/plain": [
              "<matplotlib.legend.Legend at 0x7f0514bb75f8>"
            ]
          },
          "metadata": {
            "tags": []
          },
          "execution_count": 154
        },
        {
          "output_type": "display_data",
          "data": {
            "image/png": "[encoded data removed]",
            "text/plain": [
              "<matplotlib.figure.Figure at 0x7f0513a70128>"
            ]
          },
          "metadata": {
            "tags": []
          }
        }
      ]
    },
    {
      "metadata": {
        "id": "L78nS6saTn0I",
        "colab_type": "code",
        "colab": {
          "autoexec": {
            "startup": false,
            "wait_interval": 0
          }
        }
      },
      "cell_type": "code",
      "source": [
        "y_pred_train = net01.predict(X_train_engineered)\n",
        "y_pred_test =  net01.predict(X_test_engineered)"
      ],
      "execution_count": 0,
      "outputs": []
    },
    {
      "metadata": {
        "id": "G3JwIIqmhtzi",
        "colab_type": "code",
        "colab": {
          "autoexec": {
            "startup": false,
            "wait_interval": 0
          }
        }
      },
      "cell_type": "code",
      "source": [
        "y_pred_train_classes = net01.predict_classes(X_train_engineered)\n",
        "y_pred_test_classes =  net01.predict_classes(X_test_engineered)\n",
        "#y_train_engineered.reset_index().iloc[:,1:].apply(onecoldencoder,1)#lstm.predict_classes(X_train_engineered)"
      ],
      "execution_count": 0,
      "outputs": []
    },
    {
      "metadata": {
        "id": "m4TWbViPf3bA",
        "colab_type": "code",
        "colab": {
          "autoexec": {
            "startup": false,
            "wait_interval": 0
          },
          "base_uri": "https://localhost:8080/",
          "height": 775
        },
        "outputId": "6a70de2b-cd5a-4a27-a088-a97140bbb285",
        "executionInfo": {
          "status": "ok",
          "timestamp": 1524306102629,
          "user_tz": -330,
          "elapsed": 1864,
          "user": {
            "displayName": "Nicolas Gort Freitas",
            "photoUrl": "https://lh3.googleusercontent.com/a/default-user=s128",
            "userId": "112932499204257008914"
          }
        }
      },
      "cell_type": "code",
      "source": [
        "\n",
        "plot_confusion_matrix(confusion_matrix(y_train, y_pred_train_classes + 1), figsize=(5,5))\n",
        "plt.title('Training set confusion matrix')\n",
        "plt.xticks(range(0,9), range(1,10))\n",
        "plt.yticks(range(0,9), range(1,10))\n",
        "\n",
        "plt.show()\n",
        "\n",
        "print('Accuracy: ', accuracy_score(y_pred=y_pred_train_classes + 1,\n",
        "                                   y_true=y_train))\n",
        "print('Cohen Kappa score: ', cohen_kappa_score(labels=range(1,10),\n",
        "                  y1 = y_pred_train_classes + 1, \n",
        "                  y2 = y_train))\n",
        "\n",
        "\n",
        "plot_confusion_matrix(confusion_matrix(y_test, y_pred_test_classes + 1),figsize=(5,5))\n",
        "\n",
        "plt.title('Test set confusion matrix')\n",
        "plt.xticks(range(0,9), range(1,10))\n",
        "plt.yticks(range(0,9), range(1,10))\n",
        "\n",
        "plt.show()\n",
        "\n",
        "print('Accuracy: ', accuracy_score(y_pred=y_pred_test_classes,\n",
        "                                   y_true=y_test))\n",
        "print('Cohen Kappa score: ', cohen_kappa_score(labels=range(1,10),\n",
        "                  y1 = y_pred_test_classes + 1, \n",
        "                  y2 = y_test))"
      ],
      "execution_count": 80,
      "outputs": [
        {
          "output_type": "display_data",
          "data": {
            "image/png": "[encoded data removed]",
            "text/plain": [
              "<matplotlib.figure.Figure at 0x7f05a9d1c6a0>"
            ]
          },
          "metadata": {
            "tags": []
          }
        },
        {
          "output_type": "stream",
          "text": [
            "Accuracy:  0.7370325693606755\n",
            "Cohen Kappa score:  0.672377495010404\n"
          ],
          "name": "stdout"
        },
        {
          "output_type": "display_data",
          "data": {
            "image/png": "[encoded data removed]",
            "text/plain": [
              "<matplotlib.figure.Figure at 0x7f050c9edeb8>"
            ]
          },
          "metadata": {
            "tags": []
          }
        },
        {
          "output_type": "stream",
          "text": [
            "Accuracy:  0.07065217391304347\n",
            "Cohen Kappa score:  -0.026421395163509054\n"
          ],
          "name": "stdout"
        }
      ]
    },
    {
      "metadata": {
        "id": "LcNrfaYXS_MP",
        "colab_type": "text"
      },
      "cell_type": "markdown",
      "source": [
        "# Classification of new test set (split from original training set)"
      ]
    },
    {
      "metadata": {
        "id": "hQkTgDjvkNCB",
        "colab_type": "code",
        "colab": {
          "autoexec": {
            "startup": false,
            "wait_interval": 0
          }
        }
      },
      "cell_type": "code",
      "source": [
        "X_train_new, X_test_new, y_train_new, y_test_new = train_test_split(X_train, y_train)"
      ],
      "execution_count": 0,
      "outputs": []
    },
    {
      "metadata": {
        "id": "fIquduyUT7sw",
        "colab_type": "text"
      },
      "cell_type": "markdown",
      "source": [
        "## Doc2Vec"
      ]
    },
    {
      "metadata": {
        "id": "KcXaeDIxxbdW",
        "colab_type": "code",
        "colab": {
          "autoexec": {
            "startup": false,
            "wait_interval": 0
          }
        }
      },
      "cell_type": "code",
      "source": [
        "tagged_descriptions_train_new = [TaggedDocument(row.Text.split(), [row.Gene+'_'+row.Variation]) for i, row in X_train_new.iterrows()]\n",
        "tagged_descriptions_test_new = [TaggedDocument(row.Text.split(), [row.Gene+'_'+row.Variation]) for i, row in X_test_new.iterrows()]"
      ],
      "execution_count": 0,
      "outputs": []
    },
    {
      "metadata": {
        "id": "BAvb_8WZxh0w",
        "colab_type": "code",
        "colab": {
          "autoexec": {
            "startup": false,
            "wait_interval": 0
          }
        }
      },
      "cell_type": "code",
      "source": [
        "d2v_train_new = Doc2Vec(alpha=0.025, min_alpha=0.025)\n",
        "d2v_train_new.build_vocab(tagged_descriptions_train_new)\n",
        "d2v_train_new.train(tagged_descriptions_train_new, total_examples=2100, epochs=d2v_train_new.epochs)\n",
        "\n",
        "d2v_test_new = Doc2Vec(alpha=0.025, min_alpha=0.025)\n",
        "d2v_test_new.build_vocab(tagged_descriptions_test_new)\n",
        "d2v_test_new.train(tagged_descriptions_test_new, total_examples=2100, epochs=d2v_test_new.epochs)\n"
      ],
      "execution_count": 0,
      "outputs": []
    },
    {
      "metadata": {
        "id": "5hA24a1HyZ3R",
        "colab_type": "code",
        "colab": {
          "autoexec": {
            "startup": false,
            "wait_interval": 0
          }
        }
      },
      "cell_type": "code",
      "source": [
        "docvec_matrix_train_new = np.vstack([d2v_train_new.docvecs[X_train_new.Gene[i]+'_'+X_train_new.Variation[i]] for i,row in X_train_new.iterrows()])\n",
        "docvec_matrix_test_new = np.vstack([d2v_test_new.docvecs[X_test_new.Gene[i]+'_'+X_test_new.Variation[i]] for i,row in X_test_new.iterrows()])"
      ],
      "execution_count": 0,
      "outputs": []
    },
    {
      "metadata": {
        "id": "yCG-X17gU-yI",
        "colab_type": "text"
      },
      "cell_type": "markdown",
      "source": [
        "## SVD"
      ]
    },
    {
      "metadata": {
        "id": "jCFu72ySf3te",
        "colab_type": "code",
        "colab": {
          "autoexec": {
            "startup": false,
            "wait_interval": 0
          }
        }
      },
      "cell_type": "code",
      "source": [
        "X_hot = pd.get_dummies(pd.concat((X_train_new.loc[:,['Gene','Variation']],X_test_new.loc[:,['Gene','Variation']])))#.iloc[2487:2491,:]\n",
        "X_train_hot = X_hot.iloc[:2487,:]\n",
        "X_test_hot = X_hot.iloc[2487:,:]\n",
        "\n",
        "\n",
        "svd = TruncatedSVD(40)\n",
        "svd.fit(X_train_hot)\n",
        "\n",
        "gen_var_train =svd.transform(X_train_hot)\n",
        "gen_var_test = svd.transform(X_test_hot)\n"
      ],
      "execution_count": 0,
      "outputs": []
    },
    {
      "metadata": {
        "id": "4oj9XUTgysgh",
        "colab_type": "code",
        "colab": {
          "autoexec": {
            "startup": false,
            "wait_interval": 0
          }
        }
      },
      "cell_type": "code",
      "source": [
        "X_train_new_engineered = pd.DataFrame(np.hstack((gen_var_train, docvec_matrix_train_new)))\n",
        "X_train_new_engineered.index = X_train_new.index\n",
        "\n",
        "X_test_new_engineered = pd.DataFrame(np.hstack((gen_var_test, docvec_matrix_test_new)))\n",
        "X_test_new_engineered.index = X_test_new.index"
      ],
      "execution_count": 0,
      "outputs": []
    },
    {
      "metadata": {
        "id": "lg-Pp00lykGG",
        "colab_type": "code",
        "colab": {
          "autoexec": {
            "startup": false,
            "wait_interval": 0
          }
        }
      },
      "cell_type": "code",
      "source": [
        "y_train_new_engineered = pd.get_dummies(y_train_new)\n",
        "y_test_new_engineered = pd.get_dummies(y_test_new)"
      ],
      "execution_count": 0,
      "outputs": []
    },
    {
      "metadata": {
        "id": "tp2azq2ZVD2O",
        "colab_type": "text"
      },
      "cell_type": "markdown",
      "source": [
        "# Neural network fitting"
      ]
    },
    {
      "metadata": {
        "id": "Riugser7he8p",
        "colab_type": "code",
        "colab": {
          "autoexec": {
            "startup": false,
            "wait_interval": 0
          },
          "base_uri": "https://localhost:8080/",
          "height": 5154
        },
        "outputId": "4a2ed848-8a58-4348-b5af-1dc10de3e2d8",
        "executionInfo": {
          "status": "ok",
          "timestamp": 1524329780385,
          "user_tz": -330,
          "elapsed": 1471423,
          "user": {
            "displayName": "Nicolas Gort Freitas",
            "photoUrl": "https://lh3.googleusercontent.com/a/default-user=s128",
            "userId": "112932499204257008914"
          }
        }
      },
      "cell_type": "code",
      "source": [
        "#lstm02 = build_lstm()\n",
        "lstm02_callbacks3 = lstm02.fit([X_train_new_engineered.iloc[:,:40],X_train_new_engineered.iloc[:,40:]], y_train_new_engineered,\n",
        "                             validation_split=0.2, epochs=150, batch_size=64)"
      ],
      "execution_count": 209,
      "outputs": [
        {
          "output_type": "stream",
          "text": [
            "Train on 1989 samples, validate on 498 samples\n",
            "Epoch 1/150\n",
            "1989/1989 [==============================] - 10s 5ms/step - loss: 0.3372 - acc: 0.8703 - val_loss: 2.1686 - val_acc: 0.5643\n",
            "Epoch 2/150\n",
            "1989/1989 [==============================] - 10s 5ms/step - loss: 0.3312 - acc: 0.8773 - val_loss: 2.1933 - val_acc: 0.5482\n",
            "Epoch 3/150\n",
            "1989/1989 [==============================] - 10s 5ms/step - loss: 0.3103 - acc: 0.8829 - val_loss: 2.2405 - val_acc: 0.5522\n",
            "Epoch 4/150\n",
            "1989/1989 [==============================] - 10s 5ms/step - loss: 0.3133 - acc: 0.8763 - val_loss: 2.4817 - val_acc: 0.5181\n",
            "Epoch 5/150\n",
            "1989/1989 [==============================] - 10s 5ms/step - loss: 0.4133 - acc: 0.8542 - val_loss: 2.1449 - val_acc: 0.5723\n",
            "Epoch 6/150\n",
            "1989/1989 [==============================] - 10s 5ms/step - loss: 0.3276 - acc: 0.8753 - val_loss: 2.1918 - val_acc: 0.5683\n",
            "Epoch 7/150\n",
            " 256/1989 [==>...........................] - ETA: 8s - loss: 0.3404 - acc: 0.8633"
          ],
          "name": "stdout"
        },
        {
          "output_type": "stream",
          "text": [
            "1989/1989 [==============================] - 10s 5ms/step - loss: 0.3441 - acc: 0.8693 - val_loss: 2.4282 - val_acc: 0.5060\n",
            "Epoch 8/150\n",
            "1989/1989 [==============================] - 10s 5ms/step - loss: 0.4366 - acc: 0.8431 - val_loss: 2.2096 - val_acc: 0.5582\n",
            "Epoch 9/150\n",
            "1989/1989 [==============================] - 10s 5ms/step - loss: 0.3361 - acc: 0.8758 - val_loss: 2.2517 - val_acc: 0.5301\n",
            "Epoch 10/150\n",
            "1989/1989 [==============================] - 10s 5ms/step - loss: 0.3466 - acc: 0.8743 - val_loss: 2.1096 - val_acc: 0.5542\n",
            "Epoch 11/150\n",
            "1989/1989 [==============================] - 10s 5ms/step - loss: 0.2932 - acc: 0.8919 - val_loss: 2.1700 - val_acc: 0.5763\n",
            "Epoch 12/150\n",
            "1989/1989 [==============================] - 10s 5ms/step - loss: 0.2957 - acc: 0.8909 - val_loss: 2.2721 - val_acc: 0.5462\n",
            "Epoch 13/150\n",
            "1088/1989 [===============>..............] - ETA: 4s - loss: 0.3163 - acc: 0.8768"
          ],
          "name": "stdout"
        },
        {
          "output_type": "stream",
          "text": [
            "1989/1989 [==============================] - 10s 5ms/step - loss: 0.3141 - acc: 0.8778 - val_loss: 2.1994 - val_acc: 0.5743\n",
            "Epoch 14/150\n",
            "1989/1989 [==============================] - 10s 5ms/step - loss: 0.2770 - acc: 0.8899 - val_loss: 2.4502 - val_acc: 0.5522\n",
            "Epoch 15/150\n",
            "1989/1989 [==============================] - 10s 5ms/step - loss: 0.3355 - acc: 0.8733 - val_loss: 2.2389 - val_acc: 0.5683\n",
            "Epoch 16/150\n",
            "1989/1989 [==============================] - 10s 5ms/step - loss: 0.3053 - acc: 0.8778 - val_loss: 2.2509 - val_acc: 0.5462\n",
            "Epoch 17/150\n",
            "1989/1989 [==============================] - 10s 5ms/step - loss: 0.3130 - acc: 0.8899 - val_loss: 2.3038 - val_acc: 0.5522\n",
            "Epoch 18/150\n",
            "1989/1989 [==============================] - 10s 5ms/step - loss: 0.3216 - acc: 0.8793 - val_loss: 2.3087 - val_acc: 0.5622\n",
            "Epoch 19/150\n",
            "1152/1989 [================>.............] - ETA: 3s - loss: 0.2889 - acc: 0.8915"
          ],
          "name": "stdout"
        },
        {
          "output_type": "stream",
          "text": [
            "1989/1989 [==============================] - 10s 5ms/step - loss: 0.2878 - acc: 0.8904 - val_loss: 2.3966 - val_acc: 0.5602\n",
            "Epoch 20/150\n",
            "1989/1989 [==============================] - 10s 5ms/step - loss: 0.2466 - acc: 0.9085 - val_loss: 2.3723 - val_acc: 0.5201\n",
            "Epoch 21/150\n",
            "1989/1989 [==============================] - 10s 5ms/step - loss: 0.3033 - acc: 0.8798 - val_loss: 2.4280 - val_acc: 0.5562\n",
            "Epoch 22/150\n",
            "1989/1989 [==============================] - 10s 5ms/step - loss: 0.2834 - acc: 0.8989 - val_loss: 2.3972 - val_acc: 0.5562\n",
            "Epoch 23/150\n",
            "1989/1989 [==============================] - 10s 5ms/step - loss: 0.2650 - acc: 0.8994 - val_loss: 2.3933 - val_acc: 0.5602\n",
            "Epoch 24/150\n",
            "1989/1989 [==============================] - 10s 5ms/step - loss: 0.2397 - acc: 0.9080 - val_loss: 2.7129 - val_acc: 0.5080\n",
            "Epoch 25/150\n",
            "1152/1989 [================>.............] - ETA: 3s - loss: 0.3995 - acc: 0.8576"
          ],
          "name": "stdout"
        },
        {
          "output_type": "stream",
          "text": [
            "1989/1989 [==============================] - 10s 5ms/step - loss: 0.3787 - acc: 0.8622 - val_loss: 2.5067 - val_acc: 0.5120\n",
            "Epoch 26/150\n",
            "1989/1989 [==============================] - 10s 5ms/step - loss: 0.4785 - acc: 0.8316 - val_loss: 2.4417 - val_acc: 0.5502\n",
            "Epoch 27/150\n",
            "1989/1989 [==============================] - 10s 5ms/step - loss: 0.3072 - acc: 0.8864 - val_loss: 2.2661 - val_acc: 0.5522\n",
            "Epoch 28/150\n",
            "1989/1989 [==============================] - 10s 5ms/step - loss: 0.2559 - acc: 0.9020 - val_loss: 2.2656 - val_acc: 0.5522\n",
            "Epoch 29/150\n",
            "1989/1989 [==============================] - 10s 5ms/step - loss: 0.2467 - acc: 0.9065 - val_loss: 2.4271 - val_acc: 0.5442\n",
            "Epoch 30/150\n",
            "1989/1989 [==============================] - 10s 5ms/step - loss: 0.2819 - acc: 0.8904 - val_loss: 2.4071 - val_acc: 0.5562\n",
            "Epoch 31/150\n",
            "1152/1989 [================>.............] - ETA: 3s - loss: 0.3093 - acc: 0.8819"
          ],
          "name": "stdout"
        },
        {
          "output_type": "stream",
          "text": [
            "1989/1989 [==============================] - 10s 5ms/step - loss: 0.2950 - acc: 0.8808 - val_loss: 2.3640 - val_acc: 0.5482\n",
            "Epoch 32/150\n",
            "1989/1989 [==============================] - 10s 5ms/step - loss: 0.2473 - acc: 0.9050 - val_loss: 2.5338 - val_acc: 0.5321\n",
            "Epoch 33/150\n",
            "1989/1989 [==============================] - 10s 5ms/step - loss: 0.3120 - acc: 0.8849 - val_loss: 2.4079 - val_acc: 0.5622\n",
            "Epoch 34/150\n",
            "1989/1989 [==============================] - 10s 5ms/step - loss: 0.2584 - acc: 0.9025 - val_loss: 2.4771 - val_acc: 0.5462\n",
            "Epoch 35/150\n",
            "1989/1989 [==============================] - 10s 5ms/step - loss: 0.2293 - acc: 0.9120 - val_loss: 2.3494 - val_acc: 0.5723\n",
            "Epoch 36/150\n",
            "1989/1989 [==============================] - 10s 5ms/step - loss: 0.2213 - acc: 0.9130 - val_loss: 2.4141 - val_acc: 0.5622\n",
            "Epoch 37/150\n",
            "1152/1989 [================>.............] - ETA: 3s - loss: 0.2185 - acc: 0.9097"
          ],
          "name": "stdout"
        },
        {
          "output_type": "stream",
          "text": [
            "1989/1989 [==============================] - 10s 5ms/step - loss: 0.2169 - acc: 0.9155 - val_loss: 2.5261 - val_acc: 0.5582\n",
            "Epoch 38/150\n",
            "1989/1989 [==============================] - 10s 5ms/step - loss: 0.2599 - acc: 0.8989 - val_loss: 2.4860 - val_acc: 0.5743\n",
            "Epoch 39/150\n",
            "1989/1989 [==============================] - 10s 5ms/step - loss: 0.2228 - acc: 0.9125 - val_loss: 2.5273 - val_acc: 0.5582\n",
            "Epoch 40/150\n",
            "1989/1989 [==============================] - 10s 5ms/step - loss: 0.2129 - acc: 0.9186 - val_loss: 2.4947 - val_acc: 0.5422\n",
            "Epoch 41/150\n",
            "1989/1989 [==============================] - 10s 5ms/step - loss: 0.2530 - acc: 0.9005 - val_loss: 2.5502 - val_acc: 0.5663\n",
            "Epoch 42/150\n",
            "1989/1989 [==============================] - 10s 5ms/step - loss: 0.3451 - acc: 0.8758 - val_loss: 2.6671 - val_acc: 0.5080\n",
            "Epoch 43/150\n",
            "1152/1989 [================>.............] - ETA: 3s - loss: 0.6248 - acc: 0.8307"
          ],
          "name": "stdout"
        },
        {
          "output_type": "stream",
          "text": [
            "1989/1989 [==============================] - 10s 5ms/step - loss: 0.5172 - acc: 0.8462 - val_loss: 2.4285 - val_acc: 0.5442\n",
            "Epoch 44/150\n",
            "1989/1989 [==============================] - 10s 5ms/step - loss: 0.2972 - acc: 0.8813 - val_loss: 2.3242 - val_acc: 0.5723\n",
            "Epoch 45/150\n",
            "1989/1989 [==============================] - 10s 5ms/step - loss: 0.2530 - acc: 0.9025 - val_loss: 2.3974 - val_acc: 0.5582\n",
            "Epoch 46/150\n",
            "1989/1989 [==============================] - 10s 5ms/step - loss: 0.2141 - acc: 0.9206 - val_loss: 2.5501 - val_acc: 0.5643\n",
            "Epoch 47/150\n",
            "1989/1989 [==============================] - 10s 5ms/step - loss: 0.2051 - acc: 0.9206 - val_loss: 2.4632 - val_acc: 0.5422\n",
            "Epoch 48/150\n",
            "1989/1989 [==============================] - 10s 5ms/step - loss: 0.2432 - acc: 0.9135 - val_loss: 2.5472 - val_acc: 0.5402\n",
            "Epoch 49/150\n",
            "1152/1989 [================>.............] - ETA: 3s - loss: 0.1979 - acc: 0.9227"
          ],
          "name": "stdout"
        },
        {
          "output_type": "stream",
          "text": [
            "1989/1989 [==============================] - 10s 5ms/step - loss: 0.2086 - acc: 0.9221 - val_loss: 2.8888 - val_acc: 0.5542\n",
            "Epoch 50/150\n",
            "1989/1989 [==============================] - 10s 5ms/step - loss: 0.3951 - acc: 0.8773 - val_loss: 2.7086 - val_acc: 0.5643\n",
            "Epoch 51/150\n",
            "1989/1989 [==============================] - 10s 5ms/step - loss: 0.2665 - acc: 0.9025 - val_loss: 2.5404 - val_acc: 0.5482\n",
            "Epoch 52/150\n",
            "1989/1989 [==============================] - 10s 5ms/step - loss: 0.2450 - acc: 0.9130 - val_loss: 2.6530 - val_acc: 0.5643\n",
            "Epoch 53/150\n",
            "1989/1989 [==============================] - 10s 5ms/step - loss: 0.3368 - acc: 0.8819 - val_loss: 2.6022 - val_acc: 0.5602\n",
            "Epoch 54/150\n",
            "1989/1989 [==============================] - 10s 5ms/step - loss: 0.2210 - acc: 0.9150 - val_loss: 2.6852 - val_acc: 0.5562\n",
            "Epoch 55/150\n",
            "1152/1989 [================>.............] - ETA: 3s - loss: 0.3711 - acc: 0.8828"
          ],
          "name": "stdout"
        },
        {
          "output_type": "stream",
          "text": [
            "1989/1989 [==============================] - 10s 5ms/step - loss: 0.3371 - acc: 0.8849 - val_loss: 2.4420 - val_acc: 0.5663\n",
            "Epoch 56/150\n",
            "1989/1989 [==============================] - 10s 5ms/step - loss: 0.2647 - acc: 0.9065 - val_loss: 2.5214 - val_acc: 0.5663\n",
            "Epoch 57/150\n",
            "1989/1989 [==============================] - 10s 5ms/step - loss: 0.2180 - acc: 0.9206 - val_loss: 2.6399 - val_acc: 0.5482\n",
            "Epoch 58/150\n",
            "1989/1989 [==============================] - 10s 5ms/step - loss: 0.2120 - acc: 0.9180 - val_loss: 2.7267 - val_acc: 0.5643\n",
            "Epoch 59/150\n",
            "1989/1989 [==============================] - 10s 5ms/step - loss: 0.2346 - acc: 0.9090 - val_loss: 2.5102 - val_acc: 0.5663\n",
            "Epoch 60/150\n",
            "1989/1989 [==============================] - 10s 5ms/step - loss: 0.1832 - acc: 0.9291 - val_loss: 2.6583 - val_acc: 0.5502\n",
            "Epoch 61/150\n",
            "1152/1989 [================>.............] - ETA: 3s - loss: 0.2413 - acc: 0.9097"
          ],
          "name": "stdout"
        },
        {
          "output_type": "stream",
          "text": [
            "1989/1989 [==============================] - 10s 5ms/step - loss: 0.2402 - acc: 0.9100 - val_loss: 2.7757 - val_acc: 0.5482\n",
            "Epoch 62/150\n",
            "1989/1989 [==============================] - 10s 5ms/step - loss: 0.3006 - acc: 0.8904 - val_loss: 2.6200 - val_acc: 0.5562\n",
            "Epoch 63/150\n",
            "1989/1989 [==============================] - 10s 5ms/step - loss: 0.2719 - acc: 0.8949 - val_loss: 2.5781 - val_acc: 0.5542\n",
            "Epoch 64/150\n",
            "1989/1989 [==============================] - 10s 5ms/step - loss: 0.2118 - acc: 0.9206 - val_loss: 2.6389 - val_acc: 0.5542\n",
            "Epoch 65/150\n",
            "1989/1989 [==============================] - 10s 5ms/step - loss: 0.1994 - acc: 0.9226 - val_loss: 2.6578 - val_acc: 0.5482\n",
            "Epoch 66/150\n",
            "1989/1989 [==============================] - 10s 5ms/step - loss: 0.1857 - acc: 0.9336 - val_loss: 2.6704 - val_acc: 0.5582\n",
            "Epoch 67/150\n",
            "1152/1989 [================>.............] - ETA: 3s - loss: 0.2596 - acc: 0.9097"
          ],
          "name": "stdout"
        },
        {
          "output_type": "stream",
          "text": [
            "1989/1989 [==============================] - 10s 5ms/step - loss: 0.2380 - acc: 0.9165 - val_loss: 2.5215 - val_acc: 0.5522\n",
            "Epoch 68/150\n",
            "1989/1989 [==============================] - 10s 5ms/step - loss: 0.1862 - acc: 0.9341 - val_loss: 2.5890 - val_acc: 0.5562\n",
            "Epoch 69/150\n",
            "1989/1989 [==============================] - 10s 5ms/step - loss: 0.1616 - acc: 0.9427 - val_loss: 2.6697 - val_acc: 0.5502\n",
            "Epoch 70/150\n",
            "1989/1989 [==============================] - 10s 5ms/step - loss: 0.1681 - acc: 0.9427 - val_loss: 2.7025 - val_acc: 0.5341\n",
            "Epoch 71/150\n",
            "1989/1989 [==============================] - 10s 5ms/step - loss: 0.2931 - acc: 0.8984 - val_loss: 2.5800 - val_acc: 0.5622\n",
            "Epoch 72/150\n",
            "1989/1989 [==============================] - 10s 5ms/step - loss: 0.2222 - acc: 0.9180 - val_loss: 2.7011 - val_acc: 0.5663\n",
            "Epoch 73/150\n",
            "1152/1989 [================>.............] - ETA: 3s - loss: 0.2318 - acc: 0.9097"
          ],
          "name": "stdout"
        },
        {
          "output_type": "stream",
          "text": [
            "1989/1989 [==============================] - 10s 5ms/step - loss: 0.2130 - acc: 0.9196 - val_loss: 2.5786 - val_acc: 0.5622\n",
            "Epoch 74/150\n",
            "1989/1989 [==============================] - 10s 5ms/step - loss: 0.2144 - acc: 0.9186 - val_loss: 2.8157 - val_acc: 0.5181\n",
            "Epoch 75/150\n",
            "1989/1989 [==============================] - 10s 5ms/step - loss: 0.3071 - acc: 0.8889 - val_loss: 2.5693 - val_acc: 0.5562\n",
            "Epoch 76/150\n",
            "1989/1989 [==============================] - 10s 5ms/step - loss: 0.1939 - acc: 0.9216 - val_loss: 2.6074 - val_acc: 0.5542\n",
            "Epoch 77/150\n",
            "1989/1989 [==============================] - 10s 5ms/step - loss: 0.1574 - acc: 0.9402 - val_loss: 2.6229 - val_acc: 0.5482\n",
            "Epoch 78/150\n",
            "1989/1989 [==============================] - 10s 5ms/step - loss: 0.1825 - acc: 0.9311 - val_loss: 2.6919 - val_acc: 0.5402\n",
            "Epoch 79/150\n",
            "1152/1989 [================>.............] - ETA: 3s - loss: 0.1677 - acc: 0.9392"
          ],
          "name": "stdout"
        },
        {
          "output_type": "stream",
          "text": [
            "1989/1989 [==============================] - 10s 5ms/step - loss: 0.1666 - acc: 0.9412 - val_loss: 2.7383 - val_acc: 0.5542\n",
            "Epoch 80/150\n",
            "1989/1989 [==============================] - 10s 5ms/step - loss: 0.1522 - acc: 0.9397 - val_loss: 2.7494 - val_acc: 0.5663\n",
            "Epoch 81/150\n",
            "1989/1989 [==============================] - 10s 5ms/step - loss: 0.1489 - acc: 0.9502 - val_loss: 2.7743 - val_acc: 0.5502\n",
            "Epoch 82/150\n",
            "1989/1989 [==============================] - 10s 5ms/step - loss: 0.1607 - acc: 0.9412 - val_loss: 2.6844 - val_acc: 0.5582\n",
            "Epoch 83/150\n",
            "1989/1989 [==============================] - 10s 5ms/step - loss: 0.1327 - acc: 0.9548 - val_loss: 2.7360 - val_acc: 0.5562\n",
            "Epoch 84/150\n",
            "1989/1989 [==============================] - 10s 5ms/step - loss: 0.1462 - acc: 0.9427 - val_loss: 2.8063 - val_acc: 0.5502\n",
            "Epoch 85/150\n",
            "1152/1989 [================>.............] - ETA: 3s - loss: 0.1598 - acc: 0.9392"
          ],
          "name": "stdout"
        },
        {
          "output_type": "stream",
          "text": [
            "1989/1989 [==============================] - 10s 5ms/step - loss: 0.1484 - acc: 0.9437 - val_loss: 2.8078 - val_acc: 0.5522\n",
            "Epoch 86/150\n",
            "1989/1989 [==============================] - 10s 5ms/step - loss: 0.1414 - acc: 0.9452 - val_loss: 2.7351 - val_acc: 0.5683\n",
            "Epoch 87/150\n",
            "1989/1989 [==============================] - 10s 5ms/step - loss: 0.1424 - acc: 0.9457 - val_loss: 3.0872 - val_acc: 0.5261\n",
            "Epoch 88/150\n",
            "1989/1989 [==============================] - 10s 5ms/step - loss: 0.2555 - acc: 0.9140 - val_loss: 3.0193 - val_acc: 0.5422\n",
            "Epoch 89/150\n",
            "1989/1989 [==============================] - 10s 5ms/step - loss: 0.2297 - acc: 0.9186 - val_loss: 2.7315 - val_acc: 0.5402\n",
            "Epoch 90/150\n",
            "1989/1989 [==============================] - 10s 5ms/step - loss: 0.1486 - acc: 0.9432 - val_loss: 2.7599 - val_acc: 0.5542\n",
            "Epoch 91/150\n",
            "1152/1989 [================>.............] - ETA: 3s - loss: 0.1337 - acc: 0.9488"
          ],
          "name": "stdout"
        },
        {
          "output_type": "stream",
          "text": [
            "1989/1989 [==============================] - 10s 5ms/step - loss: 0.1503 - acc: 0.9447 - val_loss: 2.8218 - val_acc: 0.5542\n",
            "Epoch 92/150\n",
            "1989/1989 [==============================] - 10s 5ms/step - loss: 0.1717 - acc: 0.9382 - val_loss: 2.8174 - val_acc: 0.5703\n",
            "Epoch 93/150\n",
            "1989/1989 [==============================] - 10s 5ms/step - loss: 0.1545 - acc: 0.9417 - val_loss: 2.8515 - val_acc: 0.5542\n",
            "Epoch 94/150\n",
            "1989/1989 [==============================] - 10s 5ms/step - loss: 0.1199 - acc: 0.9558 - val_loss: 2.8659 - val_acc: 0.5643\n",
            "Epoch 95/150\n",
            "1989/1989 [==============================] - 10s 5ms/step - loss: 0.1958 - acc: 0.9361 - val_loss: 2.9493 - val_acc: 0.5402\n",
            "Epoch 96/150\n",
            "1989/1989 [==============================] - 10s 5ms/step - loss: 0.2927 - acc: 0.8979 - val_loss: 2.8316 - val_acc: 0.5301\n",
            "Epoch 97/150\n",
            "1152/1989 [================>.............] - ETA: 3s - loss: 0.2341 - acc: 0.9201"
          ],
          "name": "stdout"
        },
        {
          "output_type": "stream",
          "text": [
            "1989/1989 [==============================] - 10s 5ms/step - loss: 0.2122 - acc: 0.9251 - val_loss: 2.7567 - val_acc: 0.5602\n",
            "Epoch 98/150\n",
            "1989/1989 [==============================] - 10s 5ms/step - loss: 0.1532 - acc: 0.9412 - val_loss: 2.8801 - val_acc: 0.5562\n",
            "Epoch 99/150\n",
            "1989/1989 [==============================] - 10s 5ms/step - loss: 0.2136 - acc: 0.9271 - val_loss: 2.7349 - val_acc: 0.5462\n",
            "Epoch 100/150\n",
            "1989/1989 [==============================] - 10s 5ms/step - loss: 0.1603 - acc: 0.9412 - val_loss: 2.7905 - val_acc: 0.5602\n",
            "Epoch 101/150\n",
            "1989/1989 [==============================] - 10s 5ms/step - loss: 0.1382 - acc: 0.9447 - val_loss: 2.8239 - val_acc: 0.5643\n",
            "Epoch 102/150\n",
            "1989/1989 [==============================] - 10s 5ms/step - loss: 0.1487 - acc: 0.9477 - val_loss: 2.8957 - val_acc: 0.5522\n",
            "Epoch 103/150\n",
            "1152/1989 [================>.............] - ETA: 3s - loss: 0.1076 - acc: 0.9618"
          ],
          "name": "stdout"
        },
        {
          "output_type": "stream",
          "text": [
            "1989/1989 [==============================] - 10s 5ms/step - loss: 0.1290 - acc: 0.9507 - val_loss: 3.1868 - val_acc: 0.5382\n",
            "Epoch 104/150\n",
            "1989/1989 [==============================] - 10s 5ms/step - loss: 0.3687 - acc: 0.9050 - val_loss: 2.8905 - val_acc: 0.5442\n",
            "Epoch 105/150\n",
            "1989/1989 [==============================] - 10s 5ms/step - loss: 0.1812 - acc: 0.9367 - val_loss: 2.8711 - val_acc: 0.5602\n",
            "Epoch 106/150\n",
            "1989/1989 [==============================] - 10s 5ms/step - loss: 0.1664 - acc: 0.9407 - val_loss: 2.7636 - val_acc: 0.5622\n",
            "Epoch 107/150\n",
            "1989/1989 [==============================] - 10s 5ms/step - loss: 0.1632 - acc: 0.9382 - val_loss: 2.8939 - val_acc: 0.5562\n",
            "Epoch 108/150\n",
            "1989/1989 [==============================] - 10s 5ms/step - loss: 0.1296 - acc: 0.9542 - val_loss: 2.9373 - val_acc: 0.5522\n",
            "Epoch 109/150\n",
            "1152/1989 [================>.............] - ETA: 3s - loss: 0.1379 - acc: 0.9444"
          ],
          "name": "stdout"
        },
        {
          "output_type": "stream",
          "text": [
            "1989/1989 [==============================] - 10s 5ms/step - loss: 0.1310 - acc: 0.9482 - val_loss: 2.8609 - val_acc: 0.5643\n",
            "Epoch 110/150\n",
            "1989/1989 [==============================] - 10s 5ms/step - loss: 0.1227 - acc: 0.9548 - val_loss: 2.9525 - val_acc: 0.5643\n",
            "Epoch 111/150\n",
            "1989/1989 [==============================] - 10s 5ms/step - loss: 0.1323 - acc: 0.9527 - val_loss: 2.9042 - val_acc: 0.5663\n",
            "Epoch 112/150\n",
            "1989/1989 [==============================] - 10s 5ms/step - loss: 0.1240 - acc: 0.9558 - val_loss: 2.9545 - val_acc: 0.5683\n",
            "Epoch 113/150\n",
            "1989/1989 [==============================] - 10s 5ms/step - loss: 0.1031 - acc: 0.9638 - val_loss: 3.0037 - val_acc: 0.5602\n",
            "Epoch 114/150\n",
            "1989/1989 [==============================] - 10s 5ms/step - loss: 0.1065 - acc: 0.9618 - val_loss: 3.0000 - val_acc: 0.5562\n",
            "Epoch 115/150\n",
            "1152/1989 [================>.............] - ETA: 3s - loss: 0.0953 - acc: 0.9635"
          ],
          "name": "stdout"
        },
        {
          "output_type": "stream",
          "text": [
            "1989/1989 [==============================] - 10s 5ms/step - loss: 0.1008 - acc: 0.9608 - val_loss: 3.0316 - val_acc: 0.5643\n",
            "Epoch 116/150\n",
            "1989/1989 [==============================] - 10s 5ms/step - loss: 0.1195 - acc: 0.9553 - val_loss: 3.0303 - val_acc: 0.5542\n",
            "Epoch 117/150\n",
            "1989/1989 [==============================] - 10s 5ms/step - loss: 0.1187 - acc: 0.9578 - val_loss: 2.9774 - val_acc: 0.5622\n",
            "Epoch 118/150\n",
            "1989/1989 [==============================] - 10s 5ms/step - loss: 0.1111 - acc: 0.9573 - val_loss: 3.1439 - val_acc: 0.5502\n",
            "Epoch 119/150\n",
            "1989/1989 [==============================] - 10s 5ms/step - loss: 0.1236 - acc: 0.9527 - val_loss: 3.0557 - val_acc: 0.5582\n",
            "Epoch 120/150\n",
            "1989/1989 [==============================] - 10s 5ms/step - loss: 0.1071 - acc: 0.9618 - val_loss: 3.0061 - val_acc: 0.5582\n",
            "Epoch 121/150\n",
            "1152/1989 [================>.............] - ETA: 3s - loss: 0.0942 - acc: 0.9618"
          ],
          "name": "stdout"
        },
        {
          "output_type": "stream",
          "text": [
            "1989/1989 [==============================] - 10s 5ms/step - loss: 0.1084 - acc: 0.9578 - val_loss: 3.0617 - val_acc: 0.5542\n",
            "Epoch 122/150\n",
            "1989/1989 [==============================] - 10s 5ms/step - loss: 0.1361 - acc: 0.9522 - val_loss: 3.0857 - val_acc: 0.5402\n",
            "Epoch 123/150\n",
            "1989/1989 [==============================] - 10s 5ms/step - loss: 0.1111 - acc: 0.9633 - val_loss: 3.0483 - val_acc: 0.5582\n",
            "Epoch 124/150\n",
            "1989/1989 [==============================] - 10s 5ms/step - loss: 0.0861 - acc: 0.9713 - val_loss: 3.0932 - val_acc: 0.5502\n",
            "Epoch 125/150\n",
            "1989/1989 [==============================] - 10s 5ms/step - loss: 0.0871 - acc: 0.9713 - val_loss: 3.0505 - val_acc: 0.5683\n",
            "Epoch 126/150\n",
            "1989/1989 [==============================] - 10s 5ms/step - loss: 0.0885 - acc: 0.9683 - val_loss: 3.2696 - val_acc: 0.5542\n",
            "Epoch 127/150\n",
            "1152/1989 [================>.............] - ETA: 3s - loss: 0.1734 - acc: 0.9470"
          ],
          "name": "stdout"
        },
        {
          "output_type": "stream",
          "text": [
            "1989/1989 [==============================] - 10s 5ms/step - loss: 0.1707 - acc: 0.9497 - val_loss: 3.1755 - val_acc: 0.5643\n",
            "Epoch 128/150\n",
            "1989/1989 [==============================] - 10s 5ms/step - loss: 0.1353 - acc: 0.9537 - val_loss: 3.0767 - val_acc: 0.5542\n",
            "Epoch 129/150\n",
            "1989/1989 [==============================] - 10s 5ms/step - loss: 0.1100 - acc: 0.9553 - val_loss: 3.0816 - val_acc: 0.5502\n",
            "Epoch 130/150\n",
            "1989/1989 [==============================] - 10s 5ms/step - loss: 0.0879 - acc: 0.9693 - val_loss: 3.0923 - val_acc: 0.5602\n",
            "Epoch 131/150\n",
            "1989/1989 [==============================] - 10s 5ms/step - loss: 0.0926 - acc: 0.9628 - val_loss: 3.1535 - val_acc: 0.5562\n",
            "Epoch 132/150\n",
            "1989/1989 [==============================] - 10s 5ms/step - loss: 0.0895 - acc: 0.9658 - val_loss: 3.1771 - val_acc: 0.5482\n",
            "Epoch 133/150\n",
            "1152/1989 [================>.............] - ETA: 3s - loss: 0.0910 - acc: 0.9722"
          ],
          "name": "stdout"
        },
        {
          "output_type": "stream",
          "text": [
            "1989/1989 [==============================] - 10s 5ms/step - loss: 0.0964 - acc: 0.9673 - val_loss: 3.2362 - val_acc: 0.5341\n",
            "Epoch 134/150\n",
            "1989/1989 [==============================] - 10s 5ms/step - loss: 0.2033 - acc: 0.9341 - val_loss: 3.2585 - val_acc: 0.5562\n",
            "Epoch 135/150\n",
            "1989/1989 [==============================] - 10s 5ms/step - loss: 0.1856 - acc: 0.9361 - val_loss: 3.1710 - val_acc: 0.5462\n",
            "Epoch 136/150\n",
            "1989/1989 [==============================] - 10s 5ms/step - loss: 0.1741 - acc: 0.9467 - val_loss: 3.1868 - val_acc: 0.5522\n",
            "Epoch 137/150\n",
            "1989/1989 [==============================] - 10s 5ms/step - loss: 0.1383 - acc: 0.9482 - val_loss: 3.1262 - val_acc: 0.5482\n",
            "Epoch 138/150\n",
            "1989/1989 [==============================] - 10s 5ms/step - loss: 0.1846 - acc: 0.9402 - val_loss: 3.3595 - val_acc: 0.5281\n",
            "Epoch 139/150\n",
            "1152/1989 [================>.............] - ETA: 3s - loss: 0.2457 - acc: 0.9201"
          ],
          "name": "stdout"
        },
        {
          "output_type": "stream",
          "text": [
            "1989/1989 [==============================] - 10s 5ms/step - loss: 0.2070 - acc: 0.9326 - val_loss: 3.0742 - val_acc: 0.5663\n",
            "Epoch 140/150\n",
            "1989/1989 [==============================] - 10s 5ms/step - loss: 0.1416 - acc: 0.9507 - val_loss: 2.9498 - val_acc: 0.5562\n",
            "Epoch 141/150\n",
            "1989/1989 [==============================] - 10s 5ms/step - loss: 0.0998 - acc: 0.9628 - val_loss: 3.0740 - val_acc: 0.5602\n",
            "Epoch 142/150\n",
            "1989/1989 [==============================] - 10s 5ms/step - loss: 0.1030 - acc: 0.9593 - val_loss: 3.1337 - val_acc: 0.5582\n",
            "Epoch 143/150\n",
            "1989/1989 [==============================] - 10s 5ms/step - loss: 0.0972 - acc: 0.9663 - val_loss: 3.0395 - val_acc: 0.5482\n",
            "Epoch 144/150\n",
            "1989/1989 [==============================] - 10s 5ms/step - loss: 0.0982 - acc: 0.9658 - val_loss: 3.1300 - val_acc: 0.5622\n",
            "Epoch 145/150\n",
            "1152/1989 [================>.............] - ETA: 3s - loss: 0.0700 - acc: 0.9757"
          ],
          "name": "stdout"
        },
        {
          "output_type": "stream",
          "text": [
            "1989/1989 [==============================] - 10s 5ms/step - loss: 0.0882 - acc: 0.9688 - val_loss: 3.2518 - val_acc: 0.5562\n",
            "Epoch 146/150\n",
            "1989/1989 [==============================] - 10s 5ms/step - loss: 0.2191 - acc: 0.9216 - val_loss: 3.0907 - val_acc: 0.5542\n",
            "Epoch 147/150\n",
            "1989/1989 [==============================] - 10s 5ms/step - loss: 0.1674 - acc: 0.9392 - val_loss: 2.9761 - val_acc: 0.5502\n",
            "Epoch 148/150\n",
            "1989/1989 [==============================] - 10s 5ms/step - loss: 0.1307 - acc: 0.9537 - val_loss: 3.0254 - val_acc: 0.5562\n",
            "Epoch 149/150\n",
            "1989/1989 [==============================] - 10s 5ms/step - loss: 0.1127 - acc: 0.9573 - val_loss: 3.0503 - val_acc: 0.5643\n",
            "Epoch 150/150\n",
            "1989/1989 [==============================] - 10s 5ms/step - loss: 0.1085 - acc: 0.9623 - val_loss: 3.0994 - val_acc: 0.5462\n"
          ],
          "name": "stdout"
        }
      ]
    },
    {
      "metadata": {
        "id": "DNPDkM2-f4Be",
        "colab_type": "code",
        "colab": {
          "autoexec": {
            "startup": false,
            "wait_interval": 0
          }
        }
      },
      "cell_type": "code",
      "source": [
        "y_pred_train_new = lstm02.predict(([X_train_new_engineered.iloc[:,:40],X_train_new_engineered.iloc[:,40:]]))\n",
        "y_pred_train_new_classes = np.argmax(y_pred_train_new,axis=1)\n",
        "\n",
        "y_pred_test_new = lstm02.predict(([X_test_new_engineered.iloc[:,:40],X_test_new_engineered.iloc[:,40:]]))\n",
        "y_pred_test_new_classes = np.argmax(y_pred_test_new,axis=1)"
      ],
      "execution_count": 0,
      "outputs": []
    },
    {
      "metadata": {
        "id": "ZR6HigBKTt_d",
        "colab_type": "text"
      },
      "cell_type": "markdown",
      "source": [
        "## Classification metrics"
      ]
    },
    {
      "metadata": {
        "id": "sakKCnzUf4TV",
        "colab_type": "code",
        "colab": {
          "autoexec": {
            "startup": false,
            "wait_interval": 0
          },
          "base_uri": "https://localhost:8080/",
          "height": 831
        },
        "outputId": "d532b911-c2b1-4a21-acac-1b68960c0fe7",
        "executionInfo": {
          "status": "ok",
          "timestamp": 1524330510096,
          "user_tz": -330,
          "elapsed": 2885,
          "user": {
            "displayName": "Nicolas Gort Freitas",
            "photoUrl": "https://lh3.googleusercontent.com/a/default-user=s128",
            "userId": "112932499204257008914"
          }
        }
      },
      "cell_type": "code",
      "source": [
        "\n",
        "plot_confusion_matrix(confusion_matrix(y_train_new, y_pred_train_new_classes + 1), figsize=(5,5))\n",
        "plt.title('Training set confusion matrix\\nAccuracy: {}\\nCohen Kappa score: {}'.format(\n",
        "                 round(accuracy_score(y_pred=y_pred_train_new_classes + 1,y_true=y_train_new),4), \n",
        "                  round(cohen_kappa_score(labels=range(1,10),y1 = y_pred_train_new_classes + 1, y2 = y_train_new),4)))\n",
        "\n",
        "\n",
        "plt.xticks(range(0,9), range(1,10))\n",
        "plt.yticks(range(0,9), range(1,10))\n",
        "\n",
        "plt.show()\n",
        "\n",
        "print('Accuracy: ', accuracy_score(y_pred=y_pred_train_new_classes + 1,\n",
        "                                   y_true=y_train_new))\n",
        "print('Cohen Kappa score: ', cohen_kappa_score(labels=range(1,10),\n",
        "                  y1 = y_pred_train_new_classes + 1, \n",
        "                  y2 = y_train_new))\n",
        "\n",
        "\n",
        "plot_confusion_matrix(confusion_matrix(y_test_new, y_pred_test_new_classes + 1),figsize=(5,5))\n",
        "\n",
        "plt.title('Test set confusion matrix\\nAccuracy: {}\\nCohen Kappa score: {}'.format(\n",
        "                 round(accuracy_score(y_pred=y_pred_test_new_classes + 1,y_true=y_test_new),4), \n",
        "                  round(cohen_kappa_score(labels=range(1,10),y1 = y_pred_test_new_classes + 1, y2 = y_test_new),4)))\n",
        "\n",
        "plt.xticks(range(0,9), range(1,10))\n",
        "plt.yticks(range(0,9), range(1,10))\n",
        "\n",
        "plt.show()\n",
        "\n",
        "print('Accuracy: ', accuracy_score(y_pred=y_pred_test_new_classes + 1,\n",
        "                                   y_true=y_test_new))\n",
        "print('Cohen Kappa score: ', cohen_kappa_score(labels=range(1,10),\n",
        "                  y1 = y_pred_test_new_classes + 1, \n",
        "                  y2 = y_test_new))"
      ],
      "execution_count": 227,
      "outputs": [
        {
          "output_type": "display_data",
          "data": {
            "image/png": "[encoded data removed]",
            "text/plain": [
              "<matplotlib.figure.Figure at 0x7f040cf17da0>"
            ]
          },
          "metadata": {
            "tags": []
          }
        },
        {
          "output_type": "stream",
          "text": [
            "Accuracy:  0.900281463610776\n",
            "Cohen Kappa score:  0.8772372285823075\n"
          ],
          "name": "stdout"
        },
        {
          "output_type": "display_data",
          "data": {
            "image/png": "[encoded data removed]",
            "text/plain": [
              "<matplotlib.figure.Figure at 0x7f040ced5438>"
            ]
          },
          "metadata": {
            "tags": []
          }
        },
        {
          "output_type": "stream",
          "text": [
            "Accuracy:  0.37273823884197826\n",
            "Cohen Kappa score:  0.22621686677783615\n"
          ],
          "name": "stdout"
        }
      ]
    },
    {
      "metadata": {
        "id": "pXz-3_Z0f4qL",
        "colab_type": "code",
        "colab": {
          "autoexec": {
            "startup": false,
            "wait_interval": 0
          },
          "base_uri": "https://localhost:8080/",
          "height": 380
        },
        "outputId": "1088df57-2a93-43b0-d0fa-95ae3895e587",
        "executionInfo": {
          "status": "ok",
          "timestamp": 1524329919503,
          "user_tz": -330,
          "elapsed": 2330,
          "user": {
            "displayName": "Nicolas Gort Freitas",
            "photoUrl": "https://lh3.googleusercontent.com/a/default-user=s128",
            "userId": "112932499204257008914"
          }
        }
      },
      "cell_type": "code",
      "source": [
        "plt.plot(lstm02_callbacks.history['acc']+lstm02_callbacks2.history['acc']+lstm02_callbacks3.history['acc'], label='Accuracy')\n",
        "plt.plot(lstm02_callbacks.history['val_acc']+lstm02_callbacks2.history['val_acc']+lstm02_callbacks3.history['val_acc'], label='Validation accuracy')\n",
        "plt.xlabel('Epoch')\n",
        "plt.ylabel('Accuracy')\n",
        "plt.legend()\n",
        "#plt.show()"
      ],
      "execution_count": 212,
      "outputs": [
        {
          "output_type": "execute_result",
          "data": {
            "text/plain": [
              "<matplotlib.legend.Legend at 0x7f040d84e208>"
            ]
          },
          "metadata": {
            "tags": []
          },
          "execution_count": 212
        },
        {
          "output_type": "display_data",
          "data": {
            "image/png": "[encoded data removed]",
            "text/plain": [
              "<matplotlib.figure.Figure at 0x7f040d926fd0>"
            ]
          },
          "metadata": {
            "tags": []
          }
        }
      ]
    },
    {
      "metadata": {
        "id": "naNrw6wOHiRg",
        "colab_type": "code",
        "colab": {
          "autoexec": {
            "startup": false,
            "wait_interval": 0
          },
          "base_uri": "https://localhost:8080/",
          "height": 105
        },
        "outputId": "6c2649c3-0123-4023-f7d8-a8bd8b5626c2",
        "executionInfo": {
          "status": "ok",
          "timestamp": 1524331105130,
          "user_tz": -330,
          "elapsed": 952,
          "user": {
            "displayName": "Nicolas Gort Freitas",
            "photoUrl": "https://lh3.googleusercontent.com/a/default-user=s128",
            "userId": "112932499204257008914"
          }
        }
      },
      "cell_type": "code",
      "source": [
        "print(f1_score(y_pred=y_pred_train_new_classes + 1,y_true=y_train_new, average='weighted'))\n",
        "print(f1_score(y_pred=y_pred_test_new_classes + 1 ,y_true=y_test_new, average='weighted'))"
      ],
      "execution_count": 229,
      "outputs": [
        {
          "output_type": "stream",
          "text": [
            "0.8999782439634743\n",
            "0.3579099859983517\n"
          ],
          "name": "stdout"
        },
        {
          "output_type": "stream",
          "text": [
            "/usr/local/lib/python3.6/dist-packages/sklearn/metrics/classification.py:1135: UndefinedMetricWarning: F-score is ill-defined and being set to 0.0 in labels with no predicted samples.\n",
            "  'precision', 'predicted', average, warn_for)\n"
          ],
          "name": "stderr"
        }
      ]
    },
    {
      "metadata": {
        "id": "JT2Za1VHHis0",
        "colab_type": "code",
        "colab": {
          "autoexec": {
            "startup": false,
            "wait_interval": 0
          }
        }
      },
      "cell_type": "code",
      "source": [
        ""
      ],
      "execution_count": 0,
      "outputs": []
    },
    {
      "metadata": {
        "id": "r01IDBCiTqf8",
        "colab_type": "text"
      },
      "cell_type": "markdown",
      "source": [
        "## Mounting Google Drive on Google Colab"
      ]
    },
    {
      "metadata": {
        "id": "6py-5b0gdTto",
        "colab_type": "code",
        "colab": {
          "autoexec": {
            "startup": false,
            "wait_interval": 0
          },
          "base_uri": "https://localhost:8080/",
          "height": 105
        },
        "outputId": "b2ed8104-f2e9-4603-d18b-c871f8c72600",
        "executionInfo": {
          "status": "ok",
          "timestamp": 1524292529840,
          "user_tz": -330,
          "elapsed": 23997,
          "user": {
            "displayName": "Nicolas Gort Freitas",
            "photoUrl": "https://lh3.googleusercontent.com/a/default-user=s128",
            "userId": "112932499204257008914"
          }
        }
      },
      "cell_type": "code",
      "source": [
        "!apt-get install -y -qq software-properties-common python-software-properties module-init-tools\n",
        "!add-apt-repository -y ppa:alessandro-strada/ppa 2>&1 > /dev/null\n",
        "!apt-get update -qq 2>&1 > /dev/null\n",
        "!apt-get -y install -qq google-drive-ocamlfuse fuse\n",
        "from google.colab import auth\n",
        "auth.authenticate_user()\n",
        "from oauth2client.client import GoogleCredentials\n",
        "creds = GoogleCredentials.get_application_default()\n",
        "import getpass\n",
        "!google-drive-ocamlfuse -headless -id={creds.client_id} -secret={creds.client_secret} < /dev/null 2>&1 | grep URL\n",
        "vcode = getpass.getpass()\n",
        "!echo {vcode} | google-drive-ocamlfuse -headless -id={creds.client_id} -secret={creds.client_secret}"
      ],
      "execution_count": 5,
      "outputs": [
        {
          "output_type": "stream",
          "text": [
            "Please, open the following URL in a web browser: https://accounts.google.com/o/oauth2/auth?client_id=32555940559.apps.googleusercontent.com&redirect_uri=urn%3Aietf%3Awg%3Aoauth%3A2.0%3Aoob&scope=https%3A%2F%2Fwww.googleapis.com%2Fauth%2Fdrive&response_type=code&access_type=offline&approval_prompt=force\r\n",
            "··········\n",
            "Please, open the following URL in a web browser: https://accounts.google.com/o/oauth2/auth?client_id=32555940559.apps.googleusercontent.com&redirect_uri=urn%3Aietf%3Awg%3Aoauth%3A2.0%3Aoob&scope=https%3A%2F%2Fwww.googleapis.com%2Fauth%2Fdrive&response_type=code&access_type=offline&approval_prompt=force\n",
            "Please enter the verification code: Access token retrieved correctly.\n"
          ],
          "name": "stdout"
        }
      ]
    },
    {
      "metadata": {
        "id": "2Z7dL7JhdeZ_",
        "colab_type": "code",
        "colab": {
          "autoexec": {
            "startup": false,
            "wait_interval": 0
          }
        }
      },
      "cell_type": "code",
      "source": [
        "!mkdir -p drive\n",
        "!google-drive-ocamlfuse drive\n"
      ],
      "execution_count": 0,
      "outputs": []
    },
    {
      "metadata": {
        "id": "4xGBuCWSBki8",
        "colab_type": "code",
        "colab": {
          "autoexec": {
            "startup": false,
            "wait_interval": 0
          },
          "base_uri": "https://localhost:8080/",
          "height": 768
        },
        "outputId": "64a40b87-1f46-4cde-df59-88f33a62aea5",
        "executionInfo": {
          "status": "ok",
          "timestamp": 1524292625393,
          "user_tz": -330,
          "elapsed": 15263,
          "user": {
            "displayName": "Nicolas Gort Freitas",
            "photoUrl": "https://lh3.googleusercontent.com/a/default-user=s128",
            "userId": "112932499204257008914"
          }
        }
      },
      "cell_type": "code",
      "source": [
        "!pip install gensim"
      ],
      "execution_count": 8,
      "outputs": [
        {
          "output_type": "stream",
          "text": [
            "Collecting gensim\n",
            "  Downloading https://files.pythonhosted.org/packages/33/33/df6cb7acdcec5677ed130f4800f67509d24dbec74a03c329fcbf6b0864f0/gensim-3.4.0-cp36-cp36m-manylinux1_x86_64.whl (22.6MB)\n",
            "\u001b[K    100% |████████████████████████████████| 22.6MB 60kB/s \n",
            "\u001b[?25hRequirement already satisfied: numpy>=1.11.3 in /usr/local/lib/python3.6/dist-packages (from gensim)\n",
            "Collecting smart-open>=1.2.1 (from gensim)\n",
            "  Downloading https://files.pythonhosted.org/packages/4b/69/c92661a333f733510628f28b8282698b62cdead37291c8491f3271677c02/smart_open-1.5.7.tar.gz\n",
            "Requirement already satisfied: scipy>=0.18.1 in /usr/local/lib/python3.6/dist-packages (from gensim)\n",
            "Requirement already satisfied: six>=1.5.0 in /usr/local/lib/python3.6/dist-packages (from gensim)\n",
            "Collecting boto>=2.32 (from smart-open>=1.2.1->gensim)\n",
            "  Downloading https://files.pythonhosted.org/packages/bd/b7/a88a67002b1185ed9a8e8a6ef15266728c2361fcb4f1d02ea331e4c7741d/boto-2.48.0-py2.py3-none-any.whl (1.4MB)\n",
            "\u001b[K    100% |████████████████████████████████| 1.4MB 847kB/s \n",
            "\u001b[?25hCollecting bz2file (from smart-open>=1.2.1->gensim)\n",
            "  Downloading https://files.pythonhosted.org/packages/61/39/122222b5e85cd41c391b68a99ee296584b2a2d1d233e7ee32b4532384f2d/bz2file-0.98.tar.gz\n",
            "Requirement already satisfied: requests in /usr/local/lib/python3.6/dist-packages (from smart-open>=1.2.1->gensim)\n",
            "Collecting boto3 (from smart-open>=1.2.1->gensim)\n",
            "  Downloading https://files.pythonhosted.org/packages/be/f4/f31ab2238dbeaeade9b7fd73fa663c7443f01395e544915b1d47f9a3dbd2/boto3-1.7.6-py2.py3-none-any.whl (128kB)\n",
            "\u001b[K    100% |████████████████████████████████| 133kB 7.8MB/s \n",
            "\u001b[?25hRequirement already satisfied: chardet<3.1.0,>=3.0.2 in /usr/local/lib/python3.6/dist-packages (from requests->smart-open>=1.2.1->gensim)\n",
            "Requirement already satisfied: idna<2.7,>=2.5 in /usr/local/lib/python3.6/dist-packages (from requests->smart-open>=1.2.1->gensim)\n",
            "Requirement already satisfied: certifi>=2017.4.17 in /usr/local/lib/python3.6/dist-packages (from requests->smart-open>=1.2.1->gensim)\n",
            "Requirement already satisfied: urllib3<1.23,>=1.21.1 in /usr/local/lib/python3.6/dist-packages (from requests->smart-open>=1.2.1->gensim)\n",
            "Collecting botocore<1.11.0,>=1.10.6 (from boto3->smart-open>=1.2.1->gensim)\n",
            "  Downloading https://files.pythonhosted.org/packages/bd/7b/c4436ba14adda753c77cccb11c9ea200ada0f44b8b10ff6b3247d2de5041/botocore-1.10.6-py2.py3-none-any.whl (4.2MB)\n",
            "\u001b[K    100% |████████████████████████████████| 4.2MB 327kB/s \n",
            "\u001b[?25hCollecting jmespath<1.0.0,>=0.7.1 (from boto3->smart-open>=1.2.1->gensim)\n",
            "  Downloading https://files.pythonhosted.org/packages/b7/31/05c8d001f7f87f0f07289a5fc0fc3832e9a57f2dbd4d3b0fee70e0d51365/jmespath-0.9.3-py2.py3-none-any.whl\n",
            "Collecting s3transfer<0.2.0,>=0.1.10 (from boto3->smart-open>=1.2.1->gensim)\n",
            "  Downloading https://files.pythonhosted.org/packages/d7/14/2a0004d487464d120c9fb85313a75cd3d71a7506955be458eebfe19a6b1d/s3transfer-0.1.13-py2.py3-none-any.whl (59kB)\n",
            "\u001b[K    100% |████████████████████████████████| 61kB 9.8MB/s \n",
            "\u001b[?25hRequirement already satisfied: python-dateutil<3.0.0,>=2.1; python_version >= \"2.7\" in /usr/local/lib/python3.6/dist-packages (from botocore<1.11.0,>=1.10.6->boto3->smart-open>=1.2.1->gensim)\n",
            "Collecting docutils>=0.10 (from botocore<1.11.0,>=1.10.6->boto3->smart-open>=1.2.1->gensim)\n",
            "  Downloading https://files.pythonhosted.org/packages/36/fa/08e9e6e0e3cbd1d362c3bbee8d01d0aedb2155c4ac112b19ef3cae8eed8d/docutils-0.14-py3-none-any.whl (543kB)\n",
            "\u001b[K    100% |████████████████████████████████| 552kB 2.5MB/s \n",
            "\u001b[?25hBuilding wheels for collected packages: smart-open, bz2file\n",
            "  Running setup.py bdist_wheel for smart-open ... \u001b[?25l-\b \bdone\n",
            "\u001b[?25h  Stored in directory: /content/.cache/pip/wheels/b1/9e/7d/bb3d3b55c597e72617140a0638c06382a5f17283881eae163e\n",
            "  Running setup.py bdist_wheel for bz2file ... \u001b[?25l-\b \bdone\n",
            "\u001b[?25h  Stored in directory: /content/.cache/pip/wheels/81/75/d6/e1317bf09bf1af5a30befc2a007869fa6e1f516b8f7c591cb9\n",
            "Successfully built smart-open bz2file\n",
            "Installing collected packages: boto, bz2file, jmespath, docutils, botocore, s3transfer, boto3, smart-open, gensim\n",
            "Successfully installed boto-2.48.0 boto3-1.7.6 botocore-1.10.6 bz2file-0.98 docutils-0.14 gensim-3.4.0 jmespath-0.9.3 s3transfer-0.1.13 smart-open-1.5.7\n",
            "\u001b[33mYou are using pip version 9.0.3, however version 10.0.1 is available.\n",
            "You should consider upgrading via the 'pip install --upgrade pip' command.\u001b[0m\n"
          ],
          "name": "stdout"
        }
      ]
    },
    {
      "metadata": {
        "id": "Dg1VKvq362dx",
        "colab_type": "code",
        "colab": {
          "autoexec": {
            "startup": false,
            "wait_interval": 0
          },
          "base_uri": "https://localhost:8080/",
          "height": 323
        },
        "outputId": "d97b45f2-2282-48a6-df3b-542b22575602",
        "executionInfo": {
          "status": "ok",
          "timestamp": 1524298889012,
          "user_tz": -330,
          "elapsed": 3552,
          "user": {
            "displayName": "Nicolas Gort Freitas",
            "photoUrl": "https://lh3.googleusercontent.com/a/default-user=s128",
            "userId": "112932499204257008914"
          }
        }
      },
      "cell_type": "code",
      "source": [
        ""
      ],
      "execution_count": 42,
      "outputs": [
        {
          "output_type": "stream",
          "text": [
            "Collecting mlxtend\n",
            "  Downloading https://files.pythonhosted.org/packages/72/71/544f2af29e8acce302aa8f337397806b5254b442955fd94ef15d84ca6b80/mlxtend-0.11.0-py2.py3-none-any.whl (1.3MB)\n",
            "\u001b[K    100% |████████████████████████████████| 1.3MB 845kB/s \n",
            "\u001b[?25hRequirement already satisfied: matplotlib>=1.5.1 in /usr/local/lib/python3.6/dist-packages (from mlxtend)\n",
            "Requirement already satisfied: scipy>=0.17 in /usr/local/lib/python3.6/dist-packages (from mlxtend)\n",
            "Requirement already satisfied: scikit-learn>=0.18 in /usr/local/lib/python3.6/dist-packages (from mlxtend)\n",
            "Requirement already satisfied: pandas>=0.17.1 in /usr/local/lib/python3.6/dist-packages (from mlxtend)\n",
            "Requirement already satisfied: setuptools in /usr/local/lib/python3.6/dist-packages (from mlxtend)\n",
            "Requirement already satisfied: numpy>=1.10.4 in /usr/local/lib/python3.6/dist-packages (from mlxtend)\n",
            "Requirement already satisfied: pytz in /usr/local/lib/python3.6/dist-packages (from matplotlib>=1.5.1->mlxtend)\n",
            "Requirement already satisfied: cycler>=0.10 in /usr/local/lib/python3.6/dist-packages (from matplotlib>=1.5.1->mlxtend)\n",
            "Requirement already satisfied: python-dateutil>=2.1 in /usr/local/lib/python3.6/dist-packages (from matplotlib>=1.5.1->mlxtend)\n",
            "Requirement already satisfied: pyparsing!=2.0.4,!=2.1.2,!=2.1.6,>=2.0.1 in /usr/local/lib/python3.6/dist-packages (from matplotlib>=1.5.1->mlxtend)\n",
            "Requirement already satisfied: six>=1.10 in /usr/local/lib/python3.6/dist-packages (from matplotlib>=1.5.1->mlxtend)\n",
            "Installing collected packages: mlxtend\n",
            "Successfully installed mlxtend-0.11.0\n",
            "\u001b[33mYou are using pip version 9.0.3, however version 10.0.1 is available.\n",
            "You should consider upgrading via the 'pip install --upgrade pip' command.\u001b[0m\n"
          ],
          "name": "stdout"
        }
      ]
    },
    {
      "metadata": {
        "id": "P1D7TRhQPTsj",
        "colab_type": "code",
        "colab": {
          "autoexec": {
            "startup": false,
            "wait_interval": 0
          }
        }
      },
      "cell_type": "code",
      "source": [
        ""
      ],
      "execution_count": 0,
      "outputs": []
    },
    {
      "metadata": {
        "id": "RGhSr8XADROf",
        "colab_type": "code",
        "colab": {
          "autoexec": {
            "startup": false,
            "wait_interval": 0
          }
        }
      },
      "cell_type": "code",
      "source": [
        ""
      ],
      "execution_count": 0,
      "outputs": []
    }
  ]
}