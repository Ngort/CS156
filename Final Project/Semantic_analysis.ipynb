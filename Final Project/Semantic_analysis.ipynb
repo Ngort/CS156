{
 "cells": [
  {
   "cell_type": "markdown",
   "metadata": {},
   "source": [
    "# Final Project\n",
    "## Nicolas A Gort Freitas\n",
    "## Semantic analysis and precision medicine"
   ]
  },
  {
   "cell_type": "markdown",
   "metadata": {},
   "source": [
    "### Dependencies"
   ]
  },
  {
   "cell_type": "code",
   "execution_count": 120,
   "metadata": {},
   "outputs": [],
   "source": [
    "import numpy as np\n",
    "import pandas as pd\n",
    "import matplotlib.pyplot as plt\n",
    "import regex as re\n",
    "\n",
    "\n",
    "from sklearn.feature_extraction.text import CountVectorizer, TfidfVectorizer\n",
    "from sklearn.grid_search import GridSearchCV, RandomizedSearchCV\n",
    "from sklearn.decomposition import LatentDirichletAllocation\n",
    "from sklearn.multiclass import OneVsRestClassifier\n",
    "from sklearn.base import BaseEstimator, TransformerMixin\n",
    "from sklearn.pipeline import Pipeline, FeatureUnion\n",
    "from sklearn.preprocessing import OneHotEncoder\n",
    "from sklearn.ensemble import RandomForestClassifier\n",
    "from sklearn.metrics import accuracy_score, confusion_matrix, classification_report, cohen_kappa_score, f1_score\n",
    "from sklearn.svm import LinearSVC, SVC\n",
    "from sklearn.model_selection import train_test_split\n",
    "from imblearn.under_sampling import RandomUnderSampler\n",
    "\n",
    "from mlxtend.plotting import plot_confusion_matrix\n",
    "\n",
    "from nltk.stem import WordNetLemmatizer\n",
    "from nltk.tokenize import word_tokenize, wordpunct_tokenize\n",
    "from nltk.corpus import stopwords\n",
    "\n",
    "from time import time\n",
    "from string import punctuation\n",
    "from collections import Counter\n",
    "from copy import deepcopy\n",
    "\n",
    "pd.set_option('max_colwidth',75)"
   ]
  },
  {
   "cell_type": "markdown",
   "metadata": {},
   "source": [
    "## Sourced functions"
   ]
  },
  {
   "cell_type": "code",
   "execution_count": 14,
   "metadata": {
    "collapsed": true
   },
   "outputs": [],
   "source": [
    "# http://scikit-learn.org/stable/auto_examples/hetero_feature_union.html\n",
    "class ItemSelector(BaseEstimator, TransformerMixin):\n",
    "    \"\"\"For data grouped by feature, select subset of data at a provided key.\n",
    "\n",
    "    The data is expected to be stored in a 2D data structure, where the first\n",
    "    index is over features and the second is over samples.  i.e.\n",
    "\n",
    "    >> len(data[key]) == n_samples\n",
    "\n",
    "    Please note that this is the opposite convention to scikit-learn feature\n",
    "    matrixes (where the first index corresponds to sample).\n",
    "\n",
    "    ItemSelector only requires that the collection implement getitem\n",
    "    (data[key]).  Examples include: a dict of lists, 2D numpy array, Pandas\n",
    "    DataFrame, numpy record array, etc.\n",
    "\n",
    "    >> data = {'a': [1, 5, 2, 5, 2, 8],\n",
    "               'b': [9, 4, 1, 4, 1, 3]}\n",
    "    >> ds = ItemSelector(key='a')\n",
    "    >> data['a'] == ds.transform(data)\n",
    "\n",
    "    ItemSelector is not designed to handle data grouped by sample.  (e.g. a\n",
    "    list of dicts).  If your data is structured this way, consider a\n",
    "    transformer along the lines of `sklearn.feature_extraction.DictVectorizer`.\n",
    "\n",
    "    Parameters\n",
    "    ----------\n",
    "    key : hashable, required\n",
    "        The key corresponding to the desired value in a mappable.\n",
    "    \"\"\"\n",
    "    def __init__(self, key):\n",
    "        self.key = key\n",
    "\n",
    "    def fit(self, x, y=None):\n",
    "        return self\n",
    "\n",
    "    def transform(self, data_dict):\n",
    "        return data_dict[self.key]\n",
    "\n",
    "class ArrayCaster(BaseEstimator, TransformerMixin):\n",
    "  def fit(self, x, y=None):\n",
    "    return self\n",
    "\n",
    "  def transform(self, data):\n",
    "    return np.transpose(np.matrix(data))\n",
    "    \n",
    "\n",
    "#https://stackoverflow.com/questions/23455728/scikit-learn-balanced-subsampling\n",
    "def balanced_subsample(y, size=None):\n",
    "\n",
    "    subsample = []\n",
    "\n",
    "    if size is None:\n",
    "        n_smp = y.value_counts().min()\n",
    "    else:\n",
    "        n_smp = int(size / len(y.value_counts().index))\n",
    "\n",
    "    for label in y.value_counts().index:\n",
    "        samples = y[y == label].index.values\n",
    "        index_range = range(samples.shape[0])\n",
    "        indexes = np.random.choice(index_range, size=n_smp, replace=False)\n",
    "        subsample += samples[indexes].tolist()\n",
    "\n",
    "    return subsample\n",
    "\n",
    "#http://scikit-learn.org/stable/auto_examples/model_selection/plot_confusion_matrix.html\n",
    "def plot_confusion_matrix(cm, classes,\n",
    "                          normalize=False,\n",
    "                          title='Confusion matrix',\n",
    "                          cmap=plt.cm.Blues):\n",
    "    \"\"\"\n",
    "    This function prints and plots the confusion matrix.\n",
    "    Normalization can be applied by setting `normalize=True`.\n",
    "    \"\"\"\n",
    "    if normalize:\n",
    "        cm = cm.astype('float') / cm.sum(axis=1)[:, np.newaxis]\n",
    "        print(\"Normalized confusion matrix\")\n",
    "    else:\n",
    "        print('Confusion matrix, without normalization')\n",
    "\n",
    "    print(cm)\n",
    "\n",
    "    plt.imshow(cm, interpolation='nearest', cmap=cmap)\n",
    "    plt.title(title)\n",
    "    plt.colorbar()\n",
    "    tick_marks = np.arange(len(classes))\n",
    "    plt.xticks(tick_marks, classes, rotation=45)\n",
    "    plt.yticks(tick_marks, classes)\n",
    "\n",
    "    fmt = '.2f' if normalize else 'd'\n",
    "    thresh = cm.max() / 2.\n",
    "    for i, j in itertools.product(range(cm.shape[0]), range(cm.shape[1])):\n",
    "        plt.text(j, i, format(cm[i, j], fmt),\n",
    "                 horizontalalignment=\"center\",\n",
    "                 color=\"white\" if cm[i, j] > thresh else \"black\")\n",
    "\n",
    "    plt.tight_layout()\n",
    "    plt.ylabel('True label')\n",
    "    plt.xlabel('Predicted label')\n"
   ]
  },
  {
   "cell_type": "markdown",
   "metadata": {},
   "source": [
    "### Auxiliary functions"
   ]
  },
  {
   "cell_type": "code",
   "execution_count": 62,
   "metadata": {
    "collapsed": true
   },
   "outputs": [],
   "source": [
    "wnl = WordNetLemmatizer()\n",
    "sw = stopwords.words('english')\n",
    "def text_preprocessing(t, tokens=False):\n",
    "    #lowercases\n",
    "    text = t.lower()\n",
    "    #remove punctuation\n",
    "    text = re.sub(pattern=r'['+punctuation+']',repl=' ',string=text)\n",
    "    \n",
    "    #lemmatize\n",
    "    #wnl = WordNetLemmatizer()\n",
    "    words = [wnl.lemmatize(w) for w in word_tokenize(text) if w not in sw]\n",
    "    \n",
    "    if tokens:\n",
    "        return words\n",
    "    else:\n",
    "        return \" \".join(words)\n",
    "    \n",
    "def onecoldencoder(row):\n",
    "    for c in y_test.columns:\n",
    "        if row[c]==1:\n",
    "            return int(c[-1])"
   ]
  },
  {
   "cell_type": "code",
   "execution_count": 17,
   "metadata": {
    "collapsed": true
   },
   "outputs": [],
   "source": [
    "def topic_identifier(words_from_chapters, n_topics=10,top_topics=10, dictionary = False):\n",
    "    vec = CountVectorizer(max_df=0.95, min_df=2, stop_words='english')\n",
    "    X = vec.fit_transform([\" \".join(w) for w in words_from_chapters])\n",
    "    vocab = vec.get_feature_names()\n",
    "\n",
    "    count_matrix = pd.DataFrame(X.toarray(), columns=vec.get_feature_names())\n",
    "\n",
    "    lda = LatentDirichletAllocation(n_components=n_topics)\n",
    "    lda.fit(count_matrix)\n",
    "\n",
    "    topic_words = {}\n",
    "\n",
    "        \n",
    "    for topic, comp in enumerate(lda.components_):   \n",
    "        word_idx = np.argsort(comp)[::-1][:top_topics]\n",
    "\n",
    "        # store the words most relevant to the topic\n",
    "        topic_words[topic] = [vocab[i] for i in word_idx]\n",
    "\n",
    "    \n",
    "    if dictionary:\n",
    "            return topic_words\n",
    "        \n",
    "    for topic, words in topic_words.items():\n",
    "        print('Topic: %d' % topic)\n",
    "        print('  %s' % ', '.join(words))\n",
    "        \n",
    "    "
   ]
  },
  {
   "cell_type": "markdown",
   "metadata": {},
   "source": [
    "### Importing training data "
   ]
  },
  {
   "cell_type": "code",
   "execution_count": 26,
   "metadata": {
    "collapsed": true
   },
   "outputs": [],
   "source": [
    "training_variants = pd.read_csv('training_variants', skiprows = 1, names=['ID','Gene','Variation','Class']).set_index('ID')\n",
    "training_text = pd.read_csv('training_text', sep = '\\|\\|', header = None, skiprows = 1, \n",
    "                            names = ['ID', 'Text'], engine = 'python', encoding = 'utf-8').set_index('ID')\n",
    "\n",
    "training_data = training_text.dropna().join(training_variants)\n",
    "X_train = training_data.loc[:,['Gene','Variation','Text']]\n",
    "y_train = training_data.loc[:,'Class']"
   ]
  },
  {
   "cell_type": "markdown",
   "metadata": {},
   "source": [
    "### Importing test data"
   ]
  },
  {
   "cell_type": "code",
   "execution_count": 27,
   "metadata": {
    "collapsed": true
   },
   "outputs": [],
   "source": [
    "test_variants = pd.read_csv('test_variants', skiprows = 1, names=['ID','Gene','Variation','Class']).set_index('ID')\n",
    "test_text = pd.read_csv('test_text', sep = '\\|\\|', header = None, skiprows = 1, \n",
    "                            names = ['ID', 'Text'], engine = 'python', encoding = 'utf-8').set_index('ID')\n",
    "\n",
    "\n",
    "test_data = test_text.dropna().join(test_variants)\n",
    "X_test = test_data.loc[:,['Gene','Variation','Text']]\n",
    "\n",
    "solutions = pd.read_csv('stage1_solution_filtered.csv')\n",
    "X_test = solutions.join(X_test, how='left').loc[:,['ID','Gene','Variation','Text']].set_index('ID')\n",
    "y_test = solutions.set_index('ID')\n",
    "\n",
    "y_test = y_test.reset_index().iloc[:,1:].apply(onecoldencoder,1)\n",
    "y_test.index = solutions.ID"
   ]
  },
  {
   "cell_type": "markdown",
   "metadata": {},
   "source": [
    "### Preprocessing: \n",
    "* Deleting rows without text\n",
    "* Removing punctuation, capitalization, stopwords"
   ]
  },
  {
   "cell_type": "markdown",
   "metadata": {},
   "source": [
    "### Apply pre-processing"
   ]
  },
  {
   "cell_type": "code",
   "execution_count": 28,
   "metadata": {
    "collapsed": true
   },
   "outputs": [],
   "source": [
    "X_train.Text = X_train.Text.map(text_preprocessing)\n",
    "X_test.Text = X_test.Text.map(text_preprocessing)"
   ]
  },
  {
   "cell_type": "markdown",
   "metadata": {},
   "source": [
    "# What is each class related to?\n",
    "\n",
    "# Supervised topic modeling through Latent Dirichlet Allocation"
   ]
  },
  {
   "cell_type": "markdown",
   "metadata": {},
   "source": [
    "### Attempt 1: Classes as documents"
   ]
  },
  {
   "cell_type": "code",
   "execution_count": 29,
   "metadata": {
    "collapsed": true
   },
   "outputs": [],
   "source": [
    "text_by_class = training_data.groupby('Class').agg(lambda x : ' '.join(x).split(' ')).Text"
   ]
  },
  {
   "cell_type": "code",
   "execution_count": 69,
   "metadata": {},
   "outputs": [
    {
     "name": "stderr",
     "output_type": "stream",
     "text": [
      "/Users/nico/anaconda3/lib/python3.6/site-packages/sklearn/decomposition/online_lda.py:536: DeprecationWarning: The default value for 'learning_method' will be changed from 'online' to 'batch' in the release 0.20. This warning was introduced in 0.18.\n",
      "  DeprecationWarning)\n"
     ]
    },
    {
     "name": "stdout",
     "output_type": "stream",
     "text": [
      "Topic: 0\n",
      "  vus, brca2, brct, odds, erbb2, vuss, smad2, mlh1, bard1, causality\n",
      "Topic: 1\n",
      "  alk, imatinib, gefitinib, brca2, tsc2, erbb2, vus, brct, smad3, d1\n",
      "Topic: 2\n",
      "  alk, brct, imatinib, gefitinib, brca2, ar, f3, ba, jak2, tsc2\n",
      "Topic: 3\n",
      "  tsc2, smad3, brct, smad2, brca2, sf3b1, idh1, tsc1, tgf, vhl\n",
      "Topic: 4\n",
      "  alk, imatinib, vus, brca2, gefitinib, brct, ar, d1, spop, smad2\n",
      "Topic: 5\n",
      "  imatinib, alk, gefitinib, brct, tsc2, nrf2, d1, ar, smad3, brca2\n",
      "Topic: 6\n",
      "  alk, imatinib, gefitinib, d1, nrf2, ba, f3, ar, jak2, erlotinib\n",
      "Topic: 7\n",
      "  imatinib, alk, gefitinib, ros1, d1, smo, erbb2, ret, fgfr3, gist\n",
      "Topic: 8\n",
      "  spop, p16ink4a, brct, tsc2, nf1, tsc1, smad3, p16, vhl, ar\n"
     ]
    }
   ],
   "source": [
    "topic_identifier(text_by_class, n_topics=9, top_topics=10)"
   ]
  },
  {
   "cell_type": "markdown",
   "metadata": {},
   "source": [
    "Judging by these results, which include multiple repetitions across topics, we cannot use LDA to learn about the topic of each class.\n",
    "\n",
    "### Attempt 2:  Genes as documents with one topic given each class"
   ]
  },
  {
   "cell_type": "code",
   "execution_count": 51,
   "metadata": {
    "collapsed": true
   },
   "outputs": [],
   "source": [
    "documents_per_class = ['']*9\n",
    "for clss in range(1,10):\n",
    "    documents_per_class[clss-1] = training_data.query('@training_joint.Class == {}'.format(clss)).groupby('Gene').agg(lambda x : ' '.join(x).split(' ')).Text\n"
   ]
  },
  {
   "cell_type": "code",
   "execution_count": 365,
   "metadata": {
    "scrolled": true
   },
   "outputs": [
    {
     "name": "stdout",
     "output_type": "stream",
     "text": [
      "Class 1 \n"
     ]
    },
    {
     "name": "stderr",
     "output_type": "stream",
     "text": [
      "/Users/nico/anaconda3/lib/python3.6/site-packages/sklearn/decomposition/online_lda.py:536: DeprecationWarning: The default value for 'learning_method' will be changed from 'online' to 'batch' in the release 0.20. This warning was introduced in 0.18.\n",
      "  DeprecationWarning)\n"
     ]
    },
    {
     "name": "stdout",
     "output_type": "stream",
     "text": [
      "Topic: 0\n",
      "  p53, fig, et, al, tsc2, binding, wild, cancer, mutants, tumor\n",
      "Class 2 \n"
     ]
    },
    {
     "name": "stderr",
     "output_type": "stream",
     "text": [
      "/Users/nico/anaconda3/lib/python3.6/site-packages/sklearn/decomposition/online_lda.py:536: DeprecationWarning: The default value for 'learning_method' will be changed from 'online' to 'batch' in the release 0.20. This warning was introduced in 0.18.\n",
      "  DeprecationWarning)\n"
     ]
    },
    {
     "name": "stdout",
     "output_type": "stream",
     "text": [
      "Topic: 0\n",
      "  mutations, patients, mutation, et, al, figure, fig, kinase, egfr, tumor\n",
      "Class 3 \n"
     ]
    },
    {
     "name": "stderr",
     "output_type": "stream",
     "text": [
      "/Users/nico/anaconda3/lib/python3.6/site-packages/sklearn/decomposition/online_lda.py:536: DeprecationWarning: The default value for 'learning_method' will be changed from 'online' to 'batch' in the release 0.20. This warning was introduced in 0.18.\n",
      "  DeprecationWarning)\n"
     ]
    },
    {
     "name": "stdout",
     "output_type": "stream",
     "text": [
      "Topic: 0\n",
      "  brca1, al, variants, et, cancer, alk, mtor, mutants, assay, domain\n",
      "Class 4 \n"
     ]
    },
    {
     "name": "stderr",
     "output_type": "stream",
     "text": [
      "/Users/nico/anaconda3/lib/python3.6/site-packages/sklearn/decomposition/online_lda.py:536: DeprecationWarning: The default value for 'learning_method' will be changed from 'online' to 'batch' in the release 0.20. This warning was introduced in 0.18.\n",
      "  DeprecationWarning)\n"
     ]
    },
    {
     "name": "stdout",
     "output_type": "stream",
     "text": [
      "Topic: 0\n",
      "  pten, et, al, activity, fig, brca1, variants, cancer, binding, p53\n",
      "Class 5 \n"
     ]
    },
    {
     "name": "stderr",
     "output_type": "stream",
     "text": [
      "/Users/nico/anaconda3/lib/python3.6/site-packages/sklearn/decomposition/online_lda.py:536: DeprecationWarning: The default value for 'learning_method' will be changed from 'online' to 'batch' in the release 0.20. This warning was introduced in 0.18.\n",
      "  DeprecationWarning)\n"
     ]
    },
    {
     "name": "stdout",
     "output_type": "stream",
     "text": [
      "Topic: 0\n",
      "  brca1, variants, functional, fig, vus, assays, domain, neutral, figure, binding\n",
      "Class 6 \n"
     ]
    },
    {
     "name": "stderr",
     "output_type": "stream",
     "text": [
      "/Users/nico/anaconda3/lib/python3.6/site-packages/sklearn/decomposition/online_lda.py:536: DeprecationWarning: The default value for 'learning_method' will be changed from 'online' to 'batch' in the release 0.20. This warning was introduced in 0.18.\n",
      "  DeprecationWarning)\n"
     ]
    },
    {
     "name": "stdout",
     "output_type": "stream",
     "text": [
      "Topic: 0\n",
      "  brca1, variants, cells, fig, deleterious, binding, activity, dna, domain, kinase\n",
      "Class 7 \n"
     ]
    },
    {
     "name": "stderr",
     "output_type": "stream",
     "text": [
      "/Users/nico/anaconda3/lib/python3.6/site-packages/sklearn/decomposition/online_lda.py:536: DeprecationWarning: The default value for 'learning_method' will be changed from 'online' to 'batch' in the release 0.20. This warning was introduced in 0.18.\n",
      "  DeprecationWarning)\n"
     ]
    },
    {
     "name": "stdout",
     "output_type": "stream",
     "text": [
      "Topic: 0\n",
      "  patients, fig, egfr, et, al, tumor, kit, domain, tumors, ras\n",
      "Class 8 \n",
      "Topic: 0\n"
     ]
    },
    {
     "name": "stderr",
     "output_type": "stream",
     "text": [
      "/Users/nico/anaconda3/lib/python3.6/site-packages/sklearn/decomposition/online_lda.py:536: DeprecationWarning: The default value for 'learning_method' will be changed from 'online' to 'batch' in the release 0.20. This warning was introduced in 0.18.\n",
      "  DeprecationWarning)\n"
     ]
    },
    {
     "name": "stdout",
     "output_type": "stream",
     "text": [
      "  al, et, figure, fig, genes, idh1, mutation, akt, h3, samples\n",
      "Class 9 \n",
      "Topic: 0\n",
      "  mutations, mutant, sf3b1, figure, splicing, et, al, idh1, genes, 2hg\n"
     ]
    },
    {
     "name": "stderr",
     "output_type": "stream",
     "text": [
      "/Users/nico/anaconda3/lib/python3.6/site-packages/sklearn/decomposition/online_lda.py:536: DeprecationWarning: The default value for 'learning_method' will be changed from 'online' to 'batch' in the release 0.20. This warning was introduced in 0.18.\n",
      "  DeprecationWarning)\n"
     ]
    }
   ],
   "source": [
    "for clss in range(1,10):\n",
    "    print('Class {} '.format(clss))\n",
    "    topic_identifier(documents_per_class[clss], n_topics=1, top_topics=10)"
   ]
  },
  {
   "cell_type": "markdown",
   "metadata": {},
   "source": [
    "### Genes as documents (unsupervised) "
   ]
  },
  {
   "cell_type": "code",
   "execution_count": 366,
   "metadata": {},
   "outputs": [
    {
     "name": "stderr",
     "output_type": "stream",
     "text": [
      "/Users/nico/anaconda3/lib/python3.6/site-packages/sklearn/decomposition/online_lda.py:536: DeprecationWarning: The default value for 'learning_method' will be changed from 'online' to 'batch' in the release 0.20. This warning was introduced in 0.18.\n",
      "  DeprecationWarning)\n"
     ]
    },
    {
     "name": "stdout",
     "output_type": "stream",
     "text": [
      "Topic: 0\n",
      "  alk, kinase, fig, domain, met, activity, resistance, tumor, et, al\n",
      "Topic: 1\n",
      "  vhl, hif, pvhl, fig, 1α, complex, mutants, tumor, tric, et\n",
      "Topic: 2\n",
      "  variants, deleterious, variant, brca2, al, et, brca1, family, classification, mlh1\n",
      "Topic: 3\n",
      "  ras, pten, raf, activity, braf, al, et, fig, kinase, flt3\n",
      "Topic: 4\n",
      "  p53, et, al, fig, tumor, activity, tumors, mutants, cyclin, patients\n",
      "Topic: 5\n",
      "  brca1, variants, fig, brct, activity, assays, assay, breast, xrcc2, missense\n",
      "Topic: 6\n",
      "  spop, nrf2, al, fig, et, keap1, domain, ar, cul3, mutants\n",
      "Topic: 7\n",
      "  patients, fig, et, jak2, al, domain, kinase, egfr, catenin, mice\n",
      "Topic: 8\n",
      "  patients, egfr, kit, tumor, tumors, exon, al, et, fig, imatinib\n"
     ]
    }
   ],
   "source": [
    "text_by_gene = training_data.groupby('Gene').agg(lambda x : ' '.join(x).split(' ')).Text\n",
    "topic_identifier(text_by_gene, n_topics=9, top_topics=10)"
   ]
  },
  {
   "cell_type": "markdown",
   "metadata": {},
   "source": [
    "## Multilabel Classification\n",
    "### Are classes balanced?"
   ]
  },
  {
   "cell_type": "code",
   "execution_count": 850,
   "metadata": {},
   "outputs": [
    {
     "data": {
      "image/png": "[encoded data removed]",
      "text/plain": [
       "<matplotlib.figure.Figure at 0x3bbfd5dd8>"
      ]
     },
     "metadata": {},
     "output_type": "display_data"
    }
   ],
   "source": [
    "#class_counter = Counter(y_train)\n",
    "plt.hist(y_train, bins = 11)\n",
    "#plt.xticks(range(10))\n",
    "plt.xlabel('Class')\n",
    "plt.ylabel('Count')\n",
    "plt.show()"
   ]
  },
  {
   "cell_type": "markdown",
   "metadata": {},
   "source": [
    "### Undersampling via Balanced undersampling"
   ]
  },
  {
   "cell_type": "markdown",
   "metadata": {},
   "source": [
    "## Classification pipeline: Tfidvectorizer + Linear SVC (orig. test set)"
   ]
  },
  {
   "cell_type": "code",
   "execution_count": 44,
   "metadata": {},
   "outputs": [],
   "source": [
    "y_pred_train_svc = best_svc.predict(X_train.Text)\n",
    "y_pred_test_svc =  best_svc.predict(X_test.Text)\n",
    "\n"
   ]
  },
  {
   "cell_type": "code",
   "execution_count": 105,
   "metadata": {},
   "outputs": [
    {
     "data": {
      "image/png": "[encoded data removed]",
      "text/plain": [
       "<matplotlib.figure.Figure at 0x16e333cf8>"
      ]
     },
     "metadata": {},
     "output_type": "display_data"
    },
    {
     "data": {
      "image/png": "[encoded data removed]",
      "text/plain": [
       "<matplotlib.figure.Figure at 0x1790b6390>"
      ]
     },
     "metadata": {},
     "output_type": "display_data"
    }
   ],
   "source": [
    "plot_confusion_matrix(confusion_matrix(y_train, y_pred_train_svc),\n",
    "                      figsize=(5,5))\n",
    "plt.title('Training set confusion matrix\\nAccuracy: {}\\nCohen Kappa score: {}'.format(\n",
    "                 round(accuracy_score(y_pred=y_pred_train_svc,y_true=y_train),4), \n",
    "                  round(cohen_kappa_score(labels=range(1,10),y1 = y_pred_train_svc, y2 = y_train),4)))\n",
    "plt.xticks(range(0,9), range(1,10))\n",
    "plt.yticks(range(0,9), range(1,10))\n",
    "#plt.show()\n",
    "\n",
    "cm_net01_test = plot_confusion_matrix(confusion_matrix(y_test, y_pred_test_svc),\n",
    "                      figsize=(5,5))\n",
    "plt.title('Test set confusion matrix\\nAccuracy: {}\\nCohen Kappa score: {}'.format(\n",
    "                 round(accuracy_score(y_pred=y_pred_test_svc,y_true=y_test),4), \n",
    "                  round(cohen_kappa_score(labels=range(1,10),y1 = y_pred_test_svc, y2 = y_test),4)))\n",
    "\n",
    "plt.xticks(range(0,9), range(1,10))\n",
    "plt.yticks(range(0,9), range(1,10))\n",
    "plt.show()\n",
    "\n",
    "\n"
   ]
  },
  {
   "cell_type": "markdown",
   "metadata": {},
   "source": [
    "# New split"
   ]
  },
  {
   "cell_type": "code",
   "execution_count": 108,
   "metadata": {},
   "outputs": [],
   "source": [
    "X_train_new, X_test_new, y_train_new, y_test_new = train_test_split(X_train, y_train)\n"
   ]
  },
  {
   "cell_type": "code",
   "execution_count": 112,
   "metadata": {},
   "outputs": [
    {
     "data": {
      "image/png": "[encoded data removed]",
      "text/plain": [
       "<matplotlib.figure.Figure at 0x1ade1aba8>"
      ]
     },
     "metadata": {},
     "output_type": "display_data"
    }
   ],
   "source": [
    "plt.hist(y_train_new, label='Training set')\n",
    "plt.hist(y_test_new, label= 'Test set')\n",
    "plt.xlabel('Class')\n",
    "plt.ylabel('Counts')\n",
    "plt.legend()\n",
    "plt.show()"
   ]
  },
  {
   "cell_type": "markdown",
   "metadata": {},
   "source": [
    "# TfidfVectorizer + LinearSVC on new split"
   ]
  },
  {
   "cell_type": "code",
   "execution_count": 114,
   "metadata": {},
   "outputs": [],
   "source": [
    "svc_pipeline = Pipeline([('vectorize', TfidfVectorizer()),        \n",
    "                            ('classify', LinearSVC())])\n",
    "\n",
    "svc_param_grid = {'vectorize__max_df' : (0.5,0.75,1),\n",
    "                    'vectorize__ngram_range' : [(1, 1), (1, 2), (1, 3)],\n",
    "                     'classify__C' : [0.1, 1, 10, 100],\n",
    "                    }\n",
    "\n",
    "svc_grid = GridSearchCV(svc_pipeline, scoring='f1_weighted', param_grid=svc_param_grid, verbose=3, n_jobs=3)"
   ]
  },
  {
   "cell_type": "markdown",
   "metadata": {},
   "source": [
    "### Early stop due to RAM constraints, best hyperparameters manually fed into the pipeline "
   ]
  },
  {
   "cell_type": "code",
   "execution_count": 116,
   "metadata": {},
   "outputs": [
    {
     "name": "stdout",
     "output_type": "stream",
     "text": [
      "Fitting 3 folds for each of 36 candidates, totalling 108 fits\n",
      "[CV] classify__C=0.1, vectorize__max_df=0.5, vectorize__ngram_range=(1, 1) \n",
      "[CV] classify__C=0.1, vectorize__max_df=0.5, vectorize__ngram_range=(1, 1) \n",
      "[CV] classify__C=0.1, vectorize__max_df=0.5, vectorize__ngram_range=(1, 1) \n",
      "[CV]  classify__C=0.1, vectorize__max_df=0.5, vectorize__ngram_range=(1, 1), score=0.590733 -  16.6s\n",
      "[CV]  classify__C=0.1, vectorize__max_df=0.5, vectorize__ngram_range=(1, 1), score=0.560979 -  16.3s\n",
      "[CV] classify__C=0.1, vectorize__max_df=0.5, vectorize__ngram_range=(1, 2) \n",
      "[CV]  classify__C=0.1, vectorize__max_df=0.5, vectorize__ngram_range=(1, 1), score=0.575782 -  16.1s\n",
      "[CV] classify__C=0.1, vectorize__max_df=0.5, vectorize__ngram_range=(1, 2) \n",
      "[CV] classify__C=0.1, vectorize__max_df=0.5, vectorize__ngram_range=(1, 2) \n",
      "[CV]  classify__C=0.1, vectorize__max_df=0.5, vectorize__ngram_range=(1, 2), score=0.585970 - 1.8min\n",
      "[CV]  classify__C=0.1, vectorize__max_df=0.5, vectorize__ngram_range=(1, 2), score=0.569101 - 1.8min\n",
      "[CV] classify__C=0.1, vectorize__max_df=0.5, vectorize__ngram_range=(1, 3) \n",
      "[CV]  classify__C=0.1, vectorize__max_df=0.5, vectorize__ngram_range=(1, 2), score=0.579745 - 1.8min\n",
      "[CV] classify__C=0.1, vectorize__max_df=0.5, vectorize__ngram_range=(1, 3) \n",
      "[CV] classify__C=0.1, vectorize__max_df=0.5, vectorize__ngram_range=(1, 3) \n",
      "[CV]  classify__C=0.1, vectorize__max_df=0.5, vectorize__ngram_range=(1, 3), score=0.590563 - 3.9min\n",
      "[CV] classify__C=0.1, vectorize__max_df=0.75, vectorize__ngram_range=(1, 1) \n",
      "[CV]  classify__C=0.1, vectorize__max_df=0.5, vectorize__ngram_range=(1, 3), score=0.571644 - 4.0min\n",
      "[CV]  classify__C=0.1, vectorize__max_df=0.5, vectorize__ngram_range=(1, 3), score=0.584393 - 4.0min\n",
      "[CV] classify__C=0.1, vectorize__max_df=0.75, vectorize__ngram_range=(1, 1) \n",
      "[CV] classify__C=0.1, vectorize__max_df=0.75, vectorize__ngram_range=(1, 1) \n",
      "[CV]  classify__C=0.1, vectorize__max_df=0.75, vectorize__ngram_range=(1, 1), score=0.584576 -  19.9s\n",
      "[CV] classify__C=0.1, vectorize__max_df=0.75, vectorize__ngram_range=(1, 2) \n",
      "[CV]  classify__C=0.1, vectorize__max_df=0.75, vectorize__ngram_range=(1, 1), score=0.557766 -  17.5s\n",
      "[CV]  classify__C=0.1, vectorize__max_df=0.75, vectorize__ngram_range=(1, 1), score=0.580803 -  18.0s\n",
      "[CV] classify__C=0.1, vectorize__max_df=0.75, vectorize__ngram_range=(1, 2) \n",
      "[CV] classify__C=0.1, vectorize__max_df=0.75, vectorize__ngram_range=(1, 2) \n",
      "[CV]  classify__C=0.1, vectorize__max_df=0.75, vectorize__ngram_range=(1, 2), score=0.590565 - 1.6min\n",
      "[CV] classify__C=0.1, vectorize__max_df=0.75, vectorize__ngram_range=(1, 3) \n",
      "[CV]  classify__C=0.1, vectorize__max_df=0.75, vectorize__ngram_range=(1, 2), score=0.571544 - 1.7min\n",
      "[CV]  classify__C=0.1, vectorize__max_df=0.75, vectorize__ngram_range=(1, 2), score=0.583914 - 1.7min\n",
      "[CV] classify__C=0.1, vectorize__max_df=0.75, vectorize__ngram_range=(1, 3) \n",
      "[CV] classify__C=0.1, vectorize__max_df=0.75, vectorize__ngram_range=(1, 3) \n",
      "[CV]  classify__C=0.1, vectorize__max_df=0.75, vectorize__ngram_range=(1, 3), score=0.588109 - 4.0min\n",
      "[CV] classify__C=0.1, vectorize__max_df=1, vectorize__ngram_range=(1, 1) \n",
      "[CV]  classify__C=0.1, vectorize__max_df=0.75, vectorize__ngram_range=(1, 3), score=0.574105 - 4.0min\n",
      "[CV] classify__C=0.1, vectorize__max_df=1, vectorize__ngram_range=(1, 1) \n"
     ]
    },
    {
     "name": "stderr",
     "output_type": "stream",
     "text": [
      "/Users/nico/anaconda3/lib/python3.6/site-packages/sklearn/metrics/classification.py:1135: UndefinedMetricWarning: F-score is ill-defined and being set to 0.0 in labels with no predicted samples.\n",
      "  'precision', 'predicted', average, warn_for)\n"
     ]
    },
    {
     "name": "stdout",
     "output_type": "stream",
     "text": [
      "[CV]  classify__C=0.1, vectorize__max_df=1, vectorize__ngram_range=(1, 1), score=0.220289 -  18.2s\n",
      "[CV]  classify__C=0.1, vectorize__max_df=0.75, vectorize__ngram_range=(1, 3), score=0.585929 - 4.0min\n",
      "[CV] classify__C=0.1, vectorize__max_df=1, vectorize__ngram_range=(1, 1) \n",
      "[CV] classify__C=0.1, vectorize__max_df=1, vectorize__ngram_range=(1, 2) \n"
     ]
    },
    {
     "name": "stderr",
     "output_type": "stream",
     "text": [
      "/Users/nico/anaconda3/lib/python3.6/site-packages/sklearn/metrics/classification.py:1135: UndefinedMetricWarning: F-score is ill-defined and being set to 0.0 in labels with no predicted samples.\n",
      "  'precision', 'predicted', average, warn_for)\n"
     ]
    },
    {
     "name": "stdout",
     "output_type": "stream",
     "text": [
      "[CV]  classify__C=0.1, vectorize__max_df=1, vectorize__ngram_range=(1, 1), score=0.234725 -  17.4s\n",
      "[CV] classify__C=0.1, vectorize__max_df=1, vectorize__ngram_range=(1, 2) \n"
     ]
    },
    {
     "name": "stderr",
     "output_type": "stream",
     "text": [
      "/Users/nico/anaconda3/lib/python3.6/site-packages/sklearn/metrics/classification.py:1135: UndefinedMetricWarning: F-score is ill-defined and being set to 0.0 in labels with no predicted samples.\n",
      "  'precision', 'predicted', average, warn_for)\n"
     ]
    },
    {
     "name": "stdout",
     "output_type": "stream",
     "text": [
      "[CV]  classify__C=0.1, vectorize__max_df=1, vectorize__ngram_range=(1, 1), score=0.254456 -  17.4s\n",
      "[CV] classify__C=0.1, vectorize__max_df=1, vectorize__ngram_range=(1, 2) \n"
     ]
    },
    {
     "name": "stderr",
     "output_type": "stream",
     "text": [
      "/Users/nico/anaconda3/lib/python3.6/site-packages/sklearn/metrics/classification.py:1135: UndefinedMetricWarning: F-score is ill-defined and being set to 0.0 in labels with no predicted samples.\n",
      "  'precision', 'predicted', average, warn_for)\n"
     ]
    },
    {
     "name": "stdout",
     "output_type": "stream",
     "text": [
      "[CV]  classify__C=0.1, vectorize__max_df=1, vectorize__ngram_range=(1, 2), score=0.221431 -  57.3s\n",
      "[CV] classify__C=0.1, vectorize__max_df=1, vectorize__ngram_range=(1, 3) \n"
     ]
    },
    {
     "name": "stderr",
     "output_type": "stream",
     "text": [
      "/Users/nico/anaconda3/lib/python3.6/site-packages/sklearn/metrics/classification.py:1135: UndefinedMetricWarning: F-score is ill-defined and being set to 0.0 in labels with no predicted samples.\n",
      "  'precision', 'predicted', average, warn_for)\n"
     ]
    },
    {
     "name": "stdout",
     "output_type": "stream",
     "text": [
      "[CV]  classify__C=0.1, vectorize__max_df=1, vectorize__ngram_range=(1, 2), score=0.243024 -  58.4s\n"
     ]
    },
    {
     "name": "stderr",
     "output_type": "stream",
     "text": [
      "/Users/nico/anaconda3/lib/python3.6/site-packages/sklearn/metrics/classification.py:1135: UndefinedMetricWarning: F-score is ill-defined and being set to 0.0 in labels with no predicted samples.\n",
      "  'precision', 'predicted', average, warn_for)\n"
     ]
    },
    {
     "name": "stdout",
     "output_type": "stream",
     "text": [
      "[CV]  classify__C=0.1, vectorize__max_df=1, vectorize__ngram_range=(1, 2), score=0.254272 -  58.3s\n",
      "[CV] classify__C=0.1, vectorize__max_df=1, vectorize__ngram_range=(1, 3) \n",
      "[CV] classify__C=0.1, vectorize__max_df=1, vectorize__ngram_range=(1, 3) \n"
     ]
    },
    {
     "name": "stderr",
     "output_type": "stream",
     "text": [
      "/Users/nico/anaconda3/lib/python3.6/site-packages/sklearn/metrics/classification.py:1135: UndefinedMetricWarning: F-score is ill-defined and being set to 0.0 in labels with no predicted samples.\n",
      "  'precision', 'predicted', average, warn_for)\n"
     ]
    },
    {
     "name": "stdout",
     "output_type": "stream",
     "text": [
      "[CV]  classify__C=0.1, vectorize__max_df=1, vectorize__ngram_range=(1, 3), score=0.223314 - 2.1min\n",
      "[CV] classify__C=1, vectorize__max_df=0.5, vectorize__ngram_range=(1, 1) \n"
     ]
    },
    {
     "name": "stderr",
     "output_type": "stream",
     "text": [
      "/Users/nico/anaconda3/lib/python3.6/site-packages/sklearn/metrics/classification.py:1135: UndefinedMetricWarning: F-score is ill-defined and being set to 0.0 in labels with no predicted samples.\n",
      "  'precision', 'predicted', average, warn_for)\n"
     ]
    },
    {
     "name": "stdout",
     "output_type": "stream",
     "text": [
      "[CV]  classify__C=0.1, vectorize__max_df=1, vectorize__ngram_range=(1, 3), score=0.247530 - 2.1min\n"
     ]
    },
    {
     "name": "stderr",
     "output_type": "stream",
     "text": [
      "[Parallel(n_jobs=3)]: Done  26 tasks      | elapsed: 16.5min\n"
     ]
    },
    {
     "name": "stdout",
     "output_type": "stream",
     "text": [
      "[CV] classify__C=1, vectorize__max_df=0.5, vectorize__ngram_range=(1, 1) \n"
     ]
    },
    {
     "name": "stderr",
     "output_type": "stream",
     "text": [
      "/Users/nico/anaconda3/lib/python3.6/site-packages/sklearn/metrics/classification.py:1135: UndefinedMetricWarning: F-score is ill-defined and being set to 0.0 in labels with no predicted samples.\n",
      "  'precision', 'predicted', average, warn_for)\n"
     ]
    },
    {
     "name": "stdout",
     "output_type": "stream",
     "text": [
      "[CV]  classify__C=0.1, vectorize__max_df=1, vectorize__ngram_range=(1, 3), score=0.264306 - 2.2min\n",
      "[CV]  classify__C=1, vectorize__max_df=0.5, vectorize__ngram_range=(1, 1), score=0.605388 -  25.2s\n",
      "[CV] classify__C=1, vectorize__max_df=0.5, vectorize__ngram_range=(1, 1) \n",
      "[CV] classify__C=1, vectorize__max_df=0.5, vectorize__ngram_range=(1, 2) \n",
      "[CV]  classify__C=1, vectorize__max_df=0.5, vectorize__ngram_range=(1, 1), score=0.608912 -  22.4s\n",
      "[CV] classify__C=1, vectorize__max_df=0.5, vectorize__ngram_range=(1, 2) \n",
      "[CV]  classify__C=1, vectorize__max_df=0.5, vectorize__ngram_range=(1, 1), score=0.617247 -  23.1s\n",
      "[CV] classify__C=1, vectorize__max_df=0.5, vectorize__ngram_range=(1, 2) \n",
      "[CV]  classify__C=1, vectorize__max_df=0.5, vectorize__ngram_range=(1, 2), score=0.602137 - 2.8min\n",
      "[CV] classify__C=1, vectorize__max_df=0.5, vectorize__ngram_range=(1, 3) \n",
      "[CV]  classify__C=1, vectorize__max_df=0.5, vectorize__ngram_range=(1, 2), score=0.613179 - 2.8min\n",
      "[CV] classify__C=1, vectorize__max_df=0.5, vectorize__ngram_range=(1, 3) \n",
      "[CV]  classify__C=1, vectorize__max_df=0.5, vectorize__ngram_range=(1, 2), score=0.619574 - 2.8min\n",
      "[CV] classify__C=1, vectorize__max_df=0.5, vectorize__ngram_range=(1, 3) \n",
      "[CV]  classify__C=1, vectorize__max_df=0.5, vectorize__ngram_range=(1, 3), score=0.605429 - 6.2min\n",
      "[CV] classify__C=1, vectorize__max_df=0.75, vectorize__ngram_range=(1, 1) \n",
      "[CV]  classify__C=1, vectorize__max_df=0.5, vectorize__ngram_range=(1, 3), score=0.617429 - 6.3min\n",
      "[CV] classify__C=1, vectorize__max_df=0.75, vectorize__ngram_range=(1, 1) \n",
      "[CV]  classify__C=1, vectorize__max_df=0.5, vectorize__ngram_range=(1, 3), score=0.620294 - 6.3min\n",
      "[CV]  classify__C=1, vectorize__max_df=0.75, vectorize__ngram_range=(1, 1), score=0.603348 -  19.9s\n",
      "[CV] classify__C=1, vectorize__max_df=0.75, vectorize__ngram_range=(1, 1) \n",
      "[CV] classify__C=1, vectorize__max_df=0.75, vectorize__ngram_range=(1, 2) \n",
      "[CV]  classify__C=1, vectorize__max_df=0.75, vectorize__ngram_range=(1, 1), score=0.614140 -  21.0s\n",
      "[CV] classify__C=1, vectorize__max_df=0.75, vectorize__ngram_range=(1, 2) \n",
      "[CV]  classify__C=1, vectorize__max_df=0.75, vectorize__ngram_range=(1, 1), score=0.618486 -  20.6s\n",
      "[CV] classify__C=1, vectorize__max_df=0.75, vectorize__ngram_range=(1, 2) \n",
      "[CV]  classify__C=1, vectorize__max_df=0.75, vectorize__ngram_range=(1, 2), score=0.603503 - 2.8min\n",
      "[CV] classify__C=1, vectorize__max_df=0.75, vectorize__ngram_range=(1, 3) \n",
      "[CV]  classify__C=1, vectorize__max_df=0.75, vectorize__ngram_range=(1, 2), score=0.622724 - 2.8min\n",
      "[CV] classify__C=1, vectorize__max_df=0.75, vectorize__ngram_range=(1, 3) \n",
      "[CV]  classify__C=1, vectorize__max_df=0.75, vectorize__ngram_range=(1, 2), score=0.620590 - 2.9min\n",
      "[CV] classify__C=1, vectorize__max_df=0.75, vectorize__ngram_range=(1, 3) \n",
      "[CV]  classify__C=1, vectorize__max_df=0.75, vectorize__ngram_range=(1, 3), score=0.605567 - 6.6min\n",
      "[CV] classify__C=1, vectorize__max_df=1, vectorize__ngram_range=(1, 1) \n",
      "[CV]  classify__C=1, vectorize__max_df=0.75, vectorize__ngram_range=(1, 3), score=0.618387 - 6.6min\n",
      "[CV] classify__C=1, vectorize__max_df=1, vectorize__ngram_range=(1, 1) \n"
     ]
    },
    {
     "name": "stderr",
     "output_type": "stream",
     "text": [
      "/Users/nico/anaconda3/lib/python3.6/site-packages/sklearn/metrics/classification.py:1135: UndefinedMetricWarning: F-score is ill-defined and being set to 0.0 in labels with no predicted samples.\n",
      "  'precision', 'predicted', average, warn_for)\n"
     ]
    },
    {
     "name": "stdout",
     "output_type": "stream",
     "text": [
      "[CV]  classify__C=1, vectorize__max_df=1, vectorize__ngram_range=(1, 1), score=0.265301 -  16.5s\n",
      "[CV]  classify__C=1, vectorize__max_df=0.75, vectorize__ngram_range=(1, 3), score=0.632425 - 6.6min\n",
      "[CV] classify__C=1, vectorize__max_df=1, vectorize__ngram_range=(1, 1) \n",
      "[CV] classify__C=1, vectorize__max_df=1, vectorize__ngram_range=(1, 2) \n"
     ]
    },
    {
     "name": "stderr",
     "output_type": "stream",
     "text": [
      "/Users/nico/anaconda3/lib/python3.6/site-packages/sklearn/metrics/classification.py:1135: UndefinedMetricWarning: F-score is ill-defined and being set to 0.0 in labels with no predicted samples.\n",
      "  'precision', 'predicted', average, warn_for)\n"
     ]
    },
    {
     "name": "stdout",
     "output_type": "stream",
     "text": [
      "[CV]  classify__C=1, vectorize__max_df=1, vectorize__ngram_range=(1, 1), score=0.267742 -  16.7s\n",
      "[CV] classify__C=1, vectorize__max_df=1, vectorize__ngram_range=(1, 2) \n"
     ]
    },
    {
     "name": "stderr",
     "output_type": "stream",
     "text": [
      "/Users/nico/anaconda3/lib/python3.6/site-packages/sklearn/metrics/classification.py:1135: UndefinedMetricWarning: F-score is ill-defined and being set to 0.0 in labels with no predicted samples.\n",
      "  'precision', 'predicted', average, warn_for)\n"
     ]
    },
    {
     "name": "stdout",
     "output_type": "stream",
     "text": [
      "[CV]  classify__C=1, vectorize__max_df=1, vectorize__ngram_range=(1, 1), score=0.278910 -  16.3s\n",
      "[CV] classify__C=1, vectorize__max_df=1, vectorize__ngram_range=(1, 2) \n"
     ]
    },
    {
     "name": "stderr",
     "output_type": "stream",
     "text": [
      "/Users/nico/anaconda3/lib/python3.6/site-packages/sklearn/metrics/classification.py:1135: UndefinedMetricWarning: F-score is ill-defined and being set to 0.0 in labels with no predicted samples.\n",
      "  'precision', 'predicted', average, warn_for)\n"
     ]
    },
    {
     "name": "stdout",
     "output_type": "stream",
     "text": [
      "[CV]  classify__C=1, vectorize__max_df=1, vectorize__ngram_range=(1, 2), score=0.273477 - 1.0min\n",
      "[CV] classify__C=1, vectorize__max_df=1, vectorize__ngram_range=(1, 3) \n"
     ]
    },
    {
     "name": "stderr",
     "output_type": "stream",
     "text": [
      "/Users/nico/anaconda3/lib/python3.6/site-packages/sklearn/metrics/classification.py:1135: UndefinedMetricWarning: F-score is ill-defined and being set to 0.0 in labels with no predicted samples.\n",
      "  'precision', 'predicted', average, warn_for)\n"
     ]
    },
    {
     "name": "stdout",
     "output_type": "stream",
     "text": [
      "[CV]  classify__C=1, vectorize__max_df=1, vectorize__ngram_range=(1, 2), score=0.278657 - 1.0min\n",
      "[CV]  classify__C=1, vectorize__max_df=1, vectorize__ngram_range=(1, 2), score=0.291142 -  59.7s\n",
      "[CV] classify__C=1, vectorize__max_df=1, vectorize__ngram_range=(1, 3) \n",
      "[CV] classify__C=1, vectorize__max_df=1, vectorize__ngram_range=(1, 3) \n"
     ]
    },
    {
     "name": "stderr",
     "output_type": "stream",
     "text": [
      "/Users/nico/anaconda3/lib/python3.6/site-packages/sklearn/metrics/classification.py:1135: UndefinedMetricWarning: F-score is ill-defined and being set to 0.0 in labels with no predicted samples.\n",
      "  'precision', 'predicted', average, warn_for)\n"
     ]
    },
    {
     "name": "stdout",
     "output_type": "stream",
     "text": [
      "[CV]  classify__C=1, vectorize__max_df=1, vectorize__ngram_range=(1, 3), score=0.274064 - 2.7min\n",
      "[CV] classify__C=10, vectorize__max_df=0.5, vectorize__ngram_range=(1, 1) \n"
     ]
    },
    {
     "name": "stderr",
     "output_type": "stream",
     "text": [
      "/Users/nico/anaconda3/lib/python3.6/site-packages/sklearn/metrics/classification.py:1135: UndefinedMetricWarning: F-score is ill-defined and being set to 0.0 in labels with no predicted samples.\n",
      "  'precision', 'predicted', average, warn_for)\n"
     ]
    },
    {
     "name": "stdout",
     "output_type": "stream",
     "text": [
      "[CV]  classify__C=1, vectorize__max_df=1, vectorize__ngram_range=(1, 3), score=0.281923 - 2.7min\n",
      "[CV] classify__C=10, vectorize__max_df=0.5, vectorize__ngram_range=(1, 1) \n",
      "[CV]  classify__C=1, vectorize__max_df=1, vectorize__ngram_range=(1, 3), score=0.296808 - 2.6min\n",
      "[CV] classify__C=10, vectorize__max_df=0.5, vectorize__ngram_range=(1, 1) \n",
      "[CV]  classify__C=10, vectorize__max_df=0.5, vectorize__ngram_range=(1, 1), score=0.590511 -  38.2s\n",
      "[CV] classify__C=10, vectorize__max_df=0.5, vectorize__ngram_range=(1, 2) \n",
      "[CV]  classify__C=10, vectorize__max_df=0.5, vectorize__ngram_range=(1, 1), score=0.603061 -  43.1s\n",
      "[CV] classify__C=10, vectorize__max_df=0.5, vectorize__ngram_range=(1, 2) \n",
      "[CV]  classify__C=10, vectorize__max_df=0.5, vectorize__ngram_range=(1, 1), score=0.608685 -  39.6s\n",
      "[CV] classify__C=10, vectorize__max_df=0.5, vectorize__ngram_range=(1, 2) \n",
      "[CV]  classify__C=10, vectorize__max_df=0.5, vectorize__ngram_range=(1, 2), score=0.601919 -13.3min\n",
      "[CV] classify__C=10, vectorize__max_df=0.5, vectorize__ngram_range=(1, 3) \n",
      "[CV]  classify__C=10, vectorize__max_df=0.5, vectorize__ngram_range=(1, 2), score=0.610278 -13.9min\n",
      "[CV] classify__C=10, vectorize__max_df=0.5, vectorize__ngram_range=(1, 3) \n",
      "[CV]  classify__C=10, vectorize__max_df=0.5, vectorize__ngram_range=(1, 2), score=0.611208 -14.0min\n",
      "[CV] classify__C=10, vectorize__max_df=0.5, vectorize__ngram_range=(1, 3) \n"
     ]
    },
    {
     "ename": "KeyboardInterrupt",
     "evalue": "",
     "output_type": "error",
     "traceback": [
      "\u001b[0;31m---------------------------------------------------------------------------\u001b[0m",
      "\u001b[0;31mKeyboardInterrupt\u001b[0m                         Traceback (most recent call last)",
      "\u001b[0;32m<ipython-input-116-6f91d1acd8eb>\u001b[0m in \u001b[0;36m<module>\u001b[0;34m()\u001b[0m\n\u001b[0;32m----> 1\u001b[0;31m \u001b[0msvc_grid\u001b[0m\u001b[0;34m.\u001b[0m\u001b[0mfit\u001b[0m\u001b[0;34m(\u001b[0m\u001b[0mX_train_new\u001b[0m\u001b[0;34m.\u001b[0m\u001b[0mText\u001b[0m\u001b[0;34m,\u001b[0m \u001b[0my_train_new\u001b[0m\u001b[0;34m)\u001b[0m\u001b[0;34m\u001b[0m\u001b[0m\n\u001b[0m",
      "\u001b[0;32m~/anaconda3/lib/python3.6/site-packages/sklearn/grid_search.py\u001b[0m in \u001b[0;36mfit\u001b[0;34m(self, X, y)\u001b[0m\n\u001b[1;32m    836\u001b[0m \u001b[0;34m\u001b[0m\u001b[0m\n\u001b[1;32m    837\u001b[0m         \"\"\"\n\u001b[0;32m--> 838\u001b[0;31m         \u001b[0;32mreturn\u001b[0m \u001b[0mself\u001b[0m\u001b[0;34m.\u001b[0m\u001b[0m_fit\u001b[0m\u001b[0;34m(\u001b[0m\u001b[0mX\u001b[0m\u001b[0;34m,\u001b[0m \u001b[0my\u001b[0m\u001b[0;34m,\u001b[0m \u001b[0mParameterGrid\u001b[0m\u001b[0;34m(\u001b[0m\u001b[0mself\u001b[0m\u001b[0;34m.\u001b[0m\u001b[0mparam_grid\u001b[0m\u001b[0;34m)\u001b[0m\u001b[0;34m)\u001b[0m\u001b[0;34m\u001b[0m\u001b[0m\n\u001b[0m\u001b[1;32m    839\u001b[0m \u001b[0;34m\u001b[0m\u001b[0m\n\u001b[1;32m    840\u001b[0m \u001b[0;34m\u001b[0m\u001b[0m\n",
      "\u001b[0;32m~/anaconda3/lib/python3.6/site-packages/sklearn/grid_search.py\u001b[0m in \u001b[0;36m_fit\u001b[0;34m(self, X, y, parameter_iterable)\u001b[0m\n\u001b[1;32m    572\u001b[0m                                     \u001b[0mself\u001b[0m\u001b[0;34m.\u001b[0m\u001b[0mfit_params\u001b[0m\u001b[0;34m,\u001b[0m \u001b[0mreturn_parameters\u001b[0m\u001b[0;34m=\u001b[0m\u001b[0;32mTrue\u001b[0m\u001b[0;34m,\u001b[0m\u001b[0;34m\u001b[0m\u001b[0m\n\u001b[1;32m    573\u001b[0m                                     error_score=self.error_score)\n\u001b[0;32m--> 574\u001b[0;31m                 \u001b[0;32mfor\u001b[0m \u001b[0mparameters\u001b[0m \u001b[0;32min\u001b[0m \u001b[0mparameter_iterable\u001b[0m\u001b[0;34m\u001b[0m\u001b[0m\n\u001b[0m\u001b[1;32m    575\u001b[0m                 for train, test in cv)\n\u001b[1;32m    576\u001b[0m \u001b[0;34m\u001b[0m\u001b[0m\n",
      "\u001b[0;32m~/anaconda3/lib/python3.6/site-packages/sklearn/externals/joblib/parallel.py\u001b[0m in \u001b[0;36m__call__\u001b[0;34m(self, iterable)\u001b[0m\n\u001b[1;32m    787\u001b[0m                 \u001b[0;31m# consumption.\u001b[0m\u001b[0;34m\u001b[0m\u001b[0;34m\u001b[0m\u001b[0m\n\u001b[1;32m    788\u001b[0m                 \u001b[0mself\u001b[0m\u001b[0;34m.\u001b[0m\u001b[0m_iterating\u001b[0m \u001b[0;34m=\u001b[0m \u001b[0;32mFalse\u001b[0m\u001b[0;34m\u001b[0m\u001b[0m\n\u001b[0;32m--> 789\u001b[0;31m             \u001b[0mself\u001b[0m\u001b[0;34m.\u001b[0m\u001b[0mretrieve\u001b[0m\u001b[0;34m(\u001b[0m\u001b[0;34m)\u001b[0m\u001b[0;34m\u001b[0m\u001b[0m\n\u001b[0m\u001b[1;32m    790\u001b[0m             \u001b[0;31m# Make sure that we get a last message telling us we are done\u001b[0m\u001b[0;34m\u001b[0m\u001b[0;34m\u001b[0m\u001b[0m\n\u001b[1;32m    791\u001b[0m             \u001b[0melapsed_time\u001b[0m \u001b[0;34m=\u001b[0m \u001b[0mtime\u001b[0m\u001b[0;34m.\u001b[0m\u001b[0mtime\u001b[0m\u001b[0;34m(\u001b[0m\u001b[0;34m)\u001b[0m \u001b[0;34m-\u001b[0m \u001b[0mself\u001b[0m\u001b[0;34m.\u001b[0m\u001b[0m_start_time\u001b[0m\u001b[0;34m\u001b[0m\u001b[0m\n",
      "\u001b[0;32m~/anaconda3/lib/python3.6/site-packages/sklearn/externals/joblib/parallel.py\u001b[0m in \u001b[0;36mretrieve\u001b[0;34m(self)\u001b[0m\n\u001b[1;32m    697\u001b[0m             \u001b[0;32mtry\u001b[0m\u001b[0;34m:\u001b[0m\u001b[0;34m\u001b[0m\u001b[0m\n\u001b[1;32m    698\u001b[0m                 \u001b[0;32mif\u001b[0m \u001b[0mgetattr\u001b[0m\u001b[0;34m(\u001b[0m\u001b[0mself\u001b[0m\u001b[0;34m.\u001b[0m\u001b[0m_backend\u001b[0m\u001b[0;34m,\u001b[0m \u001b[0;34m'supports_timeout'\u001b[0m\u001b[0;34m,\u001b[0m \u001b[0;32mFalse\u001b[0m\u001b[0;34m)\u001b[0m\u001b[0;34m:\u001b[0m\u001b[0;34m\u001b[0m\u001b[0m\n\u001b[0;32m--> 699\u001b[0;31m                     \u001b[0mself\u001b[0m\u001b[0;34m.\u001b[0m\u001b[0m_output\u001b[0m\u001b[0;34m.\u001b[0m\u001b[0mextend\u001b[0m\u001b[0;34m(\u001b[0m\u001b[0mjob\u001b[0m\u001b[0;34m.\u001b[0m\u001b[0mget\u001b[0m\u001b[0;34m(\u001b[0m\u001b[0mtimeout\u001b[0m\u001b[0;34m=\u001b[0m\u001b[0mself\u001b[0m\u001b[0;34m.\u001b[0m\u001b[0mtimeout\u001b[0m\u001b[0;34m)\u001b[0m\u001b[0;34m)\u001b[0m\u001b[0;34m\u001b[0m\u001b[0m\n\u001b[0m\u001b[1;32m    700\u001b[0m                 \u001b[0;32melse\u001b[0m\u001b[0;34m:\u001b[0m\u001b[0;34m\u001b[0m\u001b[0m\n\u001b[1;32m    701\u001b[0m                     \u001b[0mself\u001b[0m\u001b[0;34m.\u001b[0m\u001b[0m_output\u001b[0m\u001b[0;34m.\u001b[0m\u001b[0mextend\u001b[0m\u001b[0;34m(\u001b[0m\u001b[0mjob\u001b[0m\u001b[0;34m.\u001b[0m\u001b[0mget\u001b[0m\u001b[0;34m(\u001b[0m\u001b[0;34m)\u001b[0m\u001b[0;34m)\u001b[0m\u001b[0;34m\u001b[0m\u001b[0m\n",
      "\u001b[0;32m~/anaconda3/lib/python3.6/multiprocessing/pool.py\u001b[0m in \u001b[0;36mget\u001b[0;34m(self, timeout)\u001b[0m\n\u001b[1;32m    636\u001b[0m \u001b[0;34m\u001b[0m\u001b[0m\n\u001b[1;32m    637\u001b[0m     \u001b[0;32mdef\u001b[0m \u001b[0mget\u001b[0m\u001b[0;34m(\u001b[0m\u001b[0mself\u001b[0m\u001b[0;34m,\u001b[0m \u001b[0mtimeout\u001b[0m\u001b[0;34m=\u001b[0m\u001b[0;32mNone\u001b[0m\u001b[0;34m)\u001b[0m\u001b[0;34m:\u001b[0m\u001b[0;34m\u001b[0m\u001b[0m\n\u001b[0;32m--> 638\u001b[0;31m         \u001b[0mself\u001b[0m\u001b[0;34m.\u001b[0m\u001b[0mwait\u001b[0m\u001b[0;34m(\u001b[0m\u001b[0mtimeout\u001b[0m\u001b[0;34m)\u001b[0m\u001b[0;34m\u001b[0m\u001b[0m\n\u001b[0m\u001b[1;32m    639\u001b[0m         \u001b[0;32mif\u001b[0m \u001b[0;32mnot\u001b[0m \u001b[0mself\u001b[0m\u001b[0;34m.\u001b[0m\u001b[0mready\u001b[0m\u001b[0;34m(\u001b[0m\u001b[0;34m)\u001b[0m\u001b[0;34m:\u001b[0m\u001b[0;34m\u001b[0m\u001b[0m\n\u001b[1;32m    640\u001b[0m             \u001b[0;32mraise\u001b[0m \u001b[0mTimeoutError\u001b[0m\u001b[0;34m\u001b[0m\u001b[0m\n",
      "\u001b[0;32m~/anaconda3/lib/python3.6/multiprocessing/pool.py\u001b[0m in \u001b[0;36mwait\u001b[0;34m(self, timeout)\u001b[0m\n\u001b[1;32m    633\u001b[0m \u001b[0;34m\u001b[0m\u001b[0m\n\u001b[1;32m    634\u001b[0m     \u001b[0;32mdef\u001b[0m \u001b[0mwait\u001b[0m\u001b[0;34m(\u001b[0m\u001b[0mself\u001b[0m\u001b[0;34m,\u001b[0m \u001b[0mtimeout\u001b[0m\u001b[0;34m=\u001b[0m\u001b[0;32mNone\u001b[0m\u001b[0;34m)\u001b[0m\u001b[0;34m:\u001b[0m\u001b[0;34m\u001b[0m\u001b[0m\n\u001b[0;32m--> 635\u001b[0;31m         \u001b[0mself\u001b[0m\u001b[0;34m.\u001b[0m\u001b[0m_event\u001b[0m\u001b[0;34m.\u001b[0m\u001b[0mwait\u001b[0m\u001b[0;34m(\u001b[0m\u001b[0mtimeout\u001b[0m\u001b[0;34m)\u001b[0m\u001b[0;34m\u001b[0m\u001b[0m\n\u001b[0m\u001b[1;32m    636\u001b[0m \u001b[0;34m\u001b[0m\u001b[0m\n\u001b[1;32m    637\u001b[0m     \u001b[0;32mdef\u001b[0m \u001b[0mget\u001b[0m\u001b[0;34m(\u001b[0m\u001b[0mself\u001b[0m\u001b[0;34m,\u001b[0m \u001b[0mtimeout\u001b[0m\u001b[0;34m=\u001b[0m\u001b[0;32mNone\u001b[0m\u001b[0;34m)\u001b[0m\u001b[0;34m:\u001b[0m\u001b[0;34m\u001b[0m\u001b[0m\n",
      "\u001b[0;32m~/anaconda3/lib/python3.6/threading.py\u001b[0m in \u001b[0;36mwait\u001b[0;34m(self, timeout)\u001b[0m\n\u001b[1;32m    549\u001b[0m             \u001b[0msignaled\u001b[0m \u001b[0;34m=\u001b[0m \u001b[0mself\u001b[0m\u001b[0;34m.\u001b[0m\u001b[0m_flag\u001b[0m\u001b[0;34m\u001b[0m\u001b[0m\n\u001b[1;32m    550\u001b[0m             \u001b[0;32mif\u001b[0m \u001b[0;32mnot\u001b[0m \u001b[0msignaled\u001b[0m\u001b[0;34m:\u001b[0m\u001b[0;34m\u001b[0m\u001b[0m\n\u001b[0;32m--> 551\u001b[0;31m                 \u001b[0msignaled\u001b[0m \u001b[0;34m=\u001b[0m \u001b[0mself\u001b[0m\u001b[0;34m.\u001b[0m\u001b[0m_cond\u001b[0m\u001b[0;34m.\u001b[0m\u001b[0mwait\u001b[0m\u001b[0;34m(\u001b[0m\u001b[0mtimeout\u001b[0m\u001b[0;34m)\u001b[0m\u001b[0;34m\u001b[0m\u001b[0m\n\u001b[0m\u001b[1;32m    552\u001b[0m             \u001b[0;32mreturn\u001b[0m \u001b[0msignaled\u001b[0m\u001b[0;34m\u001b[0m\u001b[0m\n\u001b[1;32m    553\u001b[0m \u001b[0;34m\u001b[0m\u001b[0m\n",
      "\u001b[0;32m~/anaconda3/lib/python3.6/threading.py\u001b[0m in \u001b[0;36mwait\u001b[0;34m(self, timeout)\u001b[0m\n\u001b[1;32m    293\u001b[0m         \u001b[0;32mtry\u001b[0m\u001b[0;34m:\u001b[0m    \u001b[0;31m# restore state no matter what (e.g., KeyboardInterrupt)\u001b[0m\u001b[0;34m\u001b[0m\u001b[0m\n\u001b[1;32m    294\u001b[0m             \u001b[0;32mif\u001b[0m \u001b[0mtimeout\u001b[0m \u001b[0;32mis\u001b[0m \u001b[0;32mNone\u001b[0m\u001b[0;34m:\u001b[0m\u001b[0;34m\u001b[0m\u001b[0m\n\u001b[0;32m--> 295\u001b[0;31m                 \u001b[0mwaiter\u001b[0m\u001b[0;34m.\u001b[0m\u001b[0macquire\u001b[0m\u001b[0;34m(\u001b[0m\u001b[0;34m)\u001b[0m\u001b[0;34m\u001b[0m\u001b[0m\n\u001b[0m\u001b[1;32m    296\u001b[0m                 \u001b[0mgotit\u001b[0m \u001b[0;34m=\u001b[0m \u001b[0;32mTrue\u001b[0m\u001b[0;34m\u001b[0m\u001b[0m\n\u001b[1;32m    297\u001b[0m             \u001b[0;32melse\u001b[0m\u001b[0;34m:\u001b[0m\u001b[0;34m\u001b[0m\u001b[0m\n",
      "\u001b[0;31mKeyboardInterrupt\u001b[0m: "
     ]
    }
   ],
   "source": [
    "svc_grid.fit(X_train_new.Text, y_train_new)"
   ]
  },
  {
   "cell_type": "code",
   "execution_count": 117,
   "metadata": {},
   "outputs": [
    {
     "data": {
      "text/plain": [
       "Pipeline(memory=None,\n",
       "     steps=[('vectorize', TfidfVectorizer(analyzer='word', binary=False, decode_error='strict',\n",
       "        dtype=<class 'numpy.int64'>, encoding='utf-8', input='content',\n",
       "        lowercase=True, max_df=0.75, max_features=None, min_df=1,\n",
       "        ngram_range=(1, 3), norm='l2', preprocessor=None, smooth_idf=Tr...ax_iter=1000,\n",
       "     multi_class='ovr', penalty='l2', random_state=None, tol=0.0001,\n",
       "     verbose=0))])"
      ]
     },
     "execution_count": 117,
     "metadata": {},
     "output_type": "execute_result"
    }
   ],
   "source": [
    "# stopped Grid search early due to RAM and disk\n",
    "# best pipeline:\n",
    "# [CV]  classify__C=10, vectorize__max_df=0.75, vectorize__ngram_range=(1, 3), score=0.632425 -79.3min\n",
    "best_svc = deepcopy(svc_pipeline)\n",
    "best_svc.set_params(classify__C=1, vectorize__max_df=0.75,\n",
    "                    vectorize__ngram_range=(1,3))\n",
    "\n",
    "best_svc.fit(X_train_new.Text, y_train_new)"
   ]
  },
  {
   "cell_type": "code",
   "execution_count": 118,
   "metadata": {
    "collapsed": true
   },
   "outputs": [],
   "source": [
    "y_pred_train_new = best_svc.predict(X_train_new.Text)\n",
    "y_pred_test_new =  best_svc.predict(X_test_new.Text)"
   ]
  },
  {
   "cell_type": "markdown",
   "metadata": {},
   "source": [
    "## Performance metrics"
   ]
  },
  {
   "cell_type": "code",
   "execution_count": 119,
   "metadata": {},
   "outputs": [
    {
     "data": {
      "image/png": "[encoded data removed]",
      "text/plain": [
       "<matplotlib.figure.Figure at 0x18167e6a0>"
      ]
     },
     "metadata": {},
     "output_type": "display_data"
    },
    {
     "data": {
      "image/png": "[encoded data removed]",
      "text/plain": [
       "<matplotlib.figure.Figure at 0x1cc1d6b00>"
      ]
     },
     "metadata": {},
     "output_type": "display_data"
    }
   ],
   "source": [
    "plot_confusion_matrix(confusion_matrix(y_train_new, y_pred_train_new),\n",
    "                      figsize=(5,5))\n",
    "plt.title('Training set confusion matrix\\nAccuracy: {}\\nCohen Kappa score: {}'.format(\n",
    "                 round(accuracy_score(y_pred=y_pred_train_new,y_true=y_train_new),4), \n",
    "                  round(cohen_kappa_score(labels=range(1,10),y1 = y_pred_train_new, y2 = y_train_new),4)))\n",
    "plt.xticks(range(0,9), range(1,10))\n",
    "plt.yticks(range(0,9), range(1,10))\n",
    "#plt.show()\n",
    "\n",
    "plot_confusion_matrix(confusion_matrix(y_test_new, y_pred_test_new),\n",
    "                      figsize=(5,5))\n",
    "plt.title('Test set confusion matrix\\nAccuracy: {}\\nCohen Kappa score: {}'.format(\n",
    "                 round(accuracy_score(y_pred=y_pred_test_new,y_true=y_test_new),4), \n",
    "                  round(cohen_kappa_score(labels=range(1,10),y1 = y_pred_test_new, y2 = y_test_new),4)))\n",
    "\n",
    "plt.xticks(range(0,9), range(1,10))\n",
    "plt.yticks(range(0,9), range(1,10))\n",
    "plt.show()\n",
    "\n"
   ]
  },
  {
   "cell_type": "code",
   "execution_count": 127,
   "metadata": {},
   "outputs": [
    {
     "name": "stdout",
     "output_type": "stream",
     "text": [
      "0.8609671583960485\n",
      "0.6415553561563578\n"
     ]
    }
   ],
   "source": [
    "print(f1_score(y_pred=y_pred_train_new,y_true=y_train_new, average='weighted'))\n",
    "print(f1_score(y_pred=y_pred_test_new,y_true=y_test_new, average='weighted'))"
   ]
  },
  {
   "cell_type": "code",
   "execution_count": null,
   "metadata": {
    "collapsed": true
   },
   "outputs": [],
   "source": []
  }
 ],
 "metadata": {
  "kernelspec": {
   "display_name": "Python 3",
   "language": "python",
   "name": "python3"
  },
  "language_info": {
   "codemirror_mode": {
    "name": "ipython",
    "version": 3
   },
   "file_extension": ".py",
   "mimetype": "text/x-python",
   "name": "python",
   "nbconvert_exporter": "python",
   "pygments_lexer": "ipython3",
   "version": "3.6.2"
  }
 },
 "nbformat": 4,
 "nbformat_minor": 2
}
