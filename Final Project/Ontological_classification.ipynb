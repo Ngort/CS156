{
 "cells": [
  {
   "cell_type": "markdown",
   "metadata": {},
   "source": [
    "# Final Project\n",
    "## Nicolas A Gort Freitas\n",
    "## Ontological classification of genetic mutations"
   ]
  },
  {
   "cell_type": "markdown",
   "metadata": {},
   "source": [
    "\n",
    "\n",
    "## Introduction\n",
    "\n",
    "asdasdasdas"
   ]
  },
  {
   "cell_type": "markdown",
   "metadata": {},
   "source": [
    "### Dependencies"
   ]
  },
  {
   "cell_type": "code",
   "execution_count": 66,
   "metadata": {},
   "outputs": [],
   "source": [
    "import numpy as np\n",
    "import pandas as pd\n",
    "import matplotlib.pyplot as plt\n",
    "\n",
    "from sklearn.feature_extraction.text import CountVectorizer, TfidfVectorizer\n",
    "from sklearn.grid_search import GridSearchCV\n",
    "from sklearn.decomposition import LatentDirichletAllocation\n",
    "from sklearn.pipeline import Pipeline\n",
    "\n",
    "from nltk.tokenize import word_tokenize, wordpunct_tokenize\n",
    "from nltk.corpus import stopwords\n",
    "\n",
    "pd.set_option('max_colwidth',75)"
   ]
  },
  {
   "cell_type": "markdown",
   "metadata": {},
   "source": [
    "### Latent Dirichlet Allocation\n",
    "Auxiliary functions"
   ]
  },
  {
   "cell_type": "code",
   "execution_count": null,
   "metadata": {
    "collapsed": true
   },
   "outputs": [],
   "source": [
    "def count_matrix(words):\n",
    "    vec = CountVectorizer(max_df=100, min_df=1, stop_words='english', max_features=50)\n",
    "    X = vec.fit_transform([\" \".join(w) for w in words])\n",
    "    vocab = vec.get_feature_names()\n",
    "\n",
    "    count_matrix = pd.DataFrame(X.toarray(), columns=vec.get_feature_names())\n",
    "    \n",
    "    return count_matrix\n",
    "\n",
    "def topic_identifier(words_from_chapters, n_topics=10,top_topics=10, dictionary = False):\n",
    "    vec = CountVectorizer(max_df=0.95, min_df=2, stop_words='english')\n",
    "    X = vec.fit_transform([\" \".join(w) for w in words_from_chapters])\n",
    "    vocab = vec.get_feature_names()\n",
    "\n",
    "    count_matrix = pd.DataFrame(X.toarray(), columns=vec.get_feature_names())\n",
    "\n",
    "    lda = LatentDirichletAllocation(n_components=n_topics)\n",
    "    lda.fit(count_matrix)\n",
    "\n",
    "    topic_words = {}\n",
    "\n",
    "        \n",
    "    for topic, comp in enumerate(lda.components_):   \n",
    "        word_idx = np.argsort(comp)[::-1][:top_topics]\n",
    "\n",
    "        # store the words most relevant to the topic\n",
    "        topic_words[topic] = [vocab[i] for i in word_idx]\n",
    "\n",
    "    \n",
    "    if dictionary:\n",
    "            return topic_words\n",
    "        \n",
    "    for topic, words in topic_words.items():\n",
    "        print('Topic: %d' % topic)\n",
    "        print('  %s' % ', '.join(words))\n",
    "        \n",
    "    "
   ]
  },
  {
   "cell_type": "markdown",
   "metadata": {},
   "source": [
    "### Importing data "
   ]
  },
  {
   "cell_type": "code",
   "execution_count": 4,
   "metadata": {
    "collapsed": true
   },
   "outputs": [],
   "source": [
    "training_variants = pd.read_csv('training_variants', skiprows = 1, names=['ID','Gene','Variation','Class'])#.set_index('ID')\n",
    "training_text = pd.read_csv('training_text', sep = '\\|\\|', header = None, skiprows = 1, \n",
    "                            names = ['ID', 'Text'], engine = 'python', encoding = 'utf-8').set_index('ID')\n",
    "\n",
    "training_joint = training_variants.set_index('ID').join(training_text, how='right')\n",
    "\n",
    "y = training_variants.loc[:,['ID','Class']].set_index('ID')\n",
    "training_variants = training_variants.loc[:,['ID','Gene','Variation']].set_index('ID')"
   ]
  },
  {
   "cell_type": "code",
   "execution_count": 5,
   "metadata": {
    "collapsed": true
   },
   "outputs": [],
   "source": [
    "X_train = training_variants.join(training_text, how='right')"
   ]
  },
  {
   "cell_type": "markdown",
   "metadata": {},
   "source": [
    "# What is each class related to?\n",
    "\n",
    "# Supervised topic modeling through Latent Dirichlet Allocation\n",
    "\n",
    "### Preprocessing: Deleting rows without text"
   ]
  },
  {
   "cell_type": "code",
   "execution_count": 8,
   "metadata": {
    "collapsed": true
   },
   "outputs": [],
   "source": [
    "training_text = training_text[training_text.Text.isna() == False]\n",
    "training_joint = training_joint[training_joint.Text.isna() == False]"
   ]
  },
  {
   "cell_type": "code",
   "execution_count": 7,
   "metadata": {
    "collapsed": true
   },
   "outputs": [],
   "source": [
    "\n",
    "#X_train.loc[:,['ID','Gene','Variation','']"
   ]
  },
  {
   "cell_type": "markdown",
   "metadata": {},
   "source": [
    "### Attempt 1: Classes as documents"
   ]
  },
  {
   "cell_type": "code",
   "execution_count": 29,
   "metadata": {
    "collapsed": true
   },
   "outputs": [],
   "source": [
    "text_by_class = training_joint.groupby('Class').agg(lambda x : ' '.join(x).split(' ')).Text"
   ]
  },
  {
   "cell_type": "code",
   "execution_count": 69,
   "metadata": {},
   "outputs": [
    {
     "name": "stderr",
     "output_type": "stream",
     "text": [
      "/Users/nico/anaconda3/lib/python3.6/site-packages/sklearn/decomposition/online_lda.py:536: DeprecationWarning: The default value for 'learning_method' will be changed from 'online' to 'batch' in the release 0.20. This warning was introduced in 0.18.\n",
      "  DeprecationWarning)\n"
     ]
    },
    {
     "name": "stdout",
     "output_type": "stream",
     "text": [
      "Topic: 0\n",
      "  vus, brca2, brct, odds, erbb2, vuss, smad2, mlh1, bard1, causality\n",
      "Topic: 1\n",
      "  alk, imatinib, gefitinib, brca2, tsc2, erbb2, vus, brct, smad3, d1\n",
      "Topic: 2\n",
      "  alk, brct, imatinib, gefitinib, brca2, ar, f3, ba, jak2, tsc2\n",
      "Topic: 3\n",
      "  tsc2, smad3, brct, smad2, brca2, sf3b1, idh1, tsc1, tgf, vhl\n",
      "Topic: 4\n",
      "  alk, imatinib, vus, brca2, gefitinib, brct, ar, d1, spop, smad2\n",
      "Topic: 5\n",
      "  imatinib, alk, gefitinib, brct, tsc2, nrf2, d1, ar, smad3, brca2\n",
      "Topic: 6\n",
      "  alk, imatinib, gefitinib, d1, nrf2, ba, f3, ar, jak2, erlotinib\n",
      "Topic: 7\n",
      "  imatinib, alk, gefitinib, ros1, d1, smo, erbb2, ret, fgfr3, gist\n",
      "Topic: 8\n",
      "  spop, p16ink4a, brct, tsc2, nf1, tsc1, smad3, p16, vhl, ar\n"
     ]
    }
   ],
   "source": [
    "topic_identifier(text_by_class, n_topics=9, top_topics=10)"
   ]
  },
  {
   "cell_type": "markdown",
   "metadata": {},
   "source": [
    "Judging by these results, which include multiple repetitions across topics, we cannot use LDA to learn about the topic of each class.\n",
    "\n",
    "### Attempt 2:  Genes as documents with one topic given each class"
   ]
  },
  {
   "cell_type": "code",
   "execution_count": 51,
   "metadata": {},
   "outputs": [],
   "source": [
    "documents_per_class = ['']*9\n",
    "for clss in range(1,10):\n",
    "    documents_per_class[clss-1] = training_joint.query('@training_joint.Class == {}'.format(clss)).groupby('Gene').agg(lambda x : ' '.join(x).split(' ')).Text\n"
   ]
  },
  {
   "cell_type": "code",
   "execution_count": 80,
   "metadata": {},
   "outputs": [
    {
     "name": "stderr",
     "output_type": "stream",
     "text": [
      "/Users/nico/anaconda3/lib/python3.6/site-packages/sklearn/decomposition/online_lda.py:536: DeprecationWarning: The default value for 'learning_method' will be changed from 'online' to 'batch' in the release 0.20. This warning was introduced in 0.18.\n",
      "  DeprecationWarning)\n"
     ]
    },
    {
     "name": "stdout",
     "output_type": "stream",
     "text": [
      "Topic: 0\n",
      "  p53, fig, et, al, tsc2, binding, wild, cancer, mutants, tumor\n",
      "Class 1  None\n"
     ]
    },
    {
     "name": "stderr",
     "output_type": "stream",
     "text": [
      "/Users/nico/anaconda3/lib/python3.6/site-packages/sklearn/decomposition/online_lda.py:536: DeprecationWarning: The default value for 'learning_method' will be changed from 'online' to 'batch' in the release 0.20. This warning was introduced in 0.18.\n",
      "  DeprecationWarning)\n"
     ]
    },
    {
     "name": "stdout",
     "output_type": "stream",
     "text": [
      "Topic: 0\n",
      "  mutations, patients, mutation, et, al, figure, fig, kinase, egfr, tumor\n",
      "Class 2  None\n"
     ]
    },
    {
     "name": "stderr",
     "output_type": "stream",
     "text": [
      "/Users/nico/anaconda3/lib/python3.6/site-packages/sklearn/decomposition/online_lda.py:536: DeprecationWarning: The default value for 'learning_method' will be changed from 'online' to 'batch' in the release 0.20. This warning was introduced in 0.18.\n",
      "  DeprecationWarning)\n"
     ]
    },
    {
     "name": "stdout",
     "output_type": "stream",
     "text": [
      "Topic: 0\n",
      "  brca1, al, variants, et, cancer, alk, mtor, mutants, assay, domain\n",
      "Class 3  None\n"
     ]
    },
    {
     "name": "stderr",
     "output_type": "stream",
     "text": [
      "/Users/nico/anaconda3/lib/python3.6/site-packages/sklearn/decomposition/online_lda.py:536: DeprecationWarning: The default value for 'learning_method' will be changed from 'online' to 'batch' in the release 0.20. This warning was introduced in 0.18.\n",
      "  DeprecationWarning)\n"
     ]
    },
    {
     "name": "stdout",
     "output_type": "stream",
     "text": [
      "Topic: 0\n",
      "  pten, et, al, activity, fig, brca1, variants, cancer, binding, p53\n",
      "Class 4  None\n"
     ]
    },
    {
     "name": "stderr",
     "output_type": "stream",
     "text": [
      "/Users/nico/anaconda3/lib/python3.6/site-packages/sklearn/decomposition/online_lda.py:536: DeprecationWarning: The default value for 'learning_method' will be changed from 'online' to 'batch' in the release 0.20. This warning was introduced in 0.18.\n",
      "  DeprecationWarning)\n"
     ]
    },
    {
     "name": "stdout",
     "output_type": "stream",
     "text": [
      "Topic: 0\n",
      "  brca1, variants, functional, fig, vus, assays, domain, neutral, figure, binding\n",
      "Class 5  None\n"
     ]
    },
    {
     "name": "stderr",
     "output_type": "stream",
     "text": [
      "/Users/nico/anaconda3/lib/python3.6/site-packages/sklearn/decomposition/online_lda.py:536: DeprecationWarning: The default value for 'learning_method' will be changed from 'online' to 'batch' in the release 0.20. This warning was introduced in 0.18.\n",
      "  DeprecationWarning)\n"
     ]
    },
    {
     "name": "stdout",
     "output_type": "stream",
     "text": [
      "Topic: 0\n",
      "  brca1, variants, cells, fig, deleterious, binding, activity, dna, domain, kinase\n",
      "Class 6  None\n"
     ]
    },
    {
     "name": "stderr",
     "output_type": "stream",
     "text": [
      "/Users/nico/anaconda3/lib/python3.6/site-packages/sklearn/decomposition/online_lda.py:536: DeprecationWarning: The default value for 'learning_method' will be changed from 'online' to 'batch' in the release 0.20. This warning was introduced in 0.18.\n",
      "  DeprecationWarning)\n"
     ]
    },
    {
     "name": "stdout",
     "output_type": "stream",
     "text": [
      "Topic: 0\n",
      "  patients, fig, egfr, et, al, tumor, kit, domain, tumors, ras\n",
      "Class 7  None\n",
      "Topic: 0\n"
     ]
    },
    {
     "name": "stderr",
     "output_type": "stream",
     "text": [
      "/Users/nico/anaconda3/lib/python3.6/site-packages/sklearn/decomposition/online_lda.py:536: DeprecationWarning: The default value for 'learning_method' will be changed from 'online' to 'batch' in the release 0.20. This warning was introduced in 0.18.\n",
      "  DeprecationWarning)\n"
     ]
    },
    {
     "name": "stdout",
     "output_type": "stream",
     "text": [
      "  al, et, figure, fig, genes, idh1, mutation, akt, h3, samples\n",
      "Class 8  None\n",
      "Topic: 0\n",
      "  mutations, mutant, sf3b1, figure, splicing, et, al, idh1, genes, 2hg\n",
      "Class 9  None\n"
     ]
    },
    {
     "name": "stderr",
     "output_type": "stream",
     "text": [
      "/Users/nico/anaconda3/lib/python3.6/site-packages/sklearn/decomposition/online_lda.py:536: DeprecationWarning: The default value for 'learning_method' will be changed from 'online' to 'batch' in the release 0.20. This warning was introduced in 0.18.\n",
      "  DeprecationWarning)\n"
     ]
    }
   ],
   "source": [
    "for clss in range(1,10):\n",
    "    print('Class {} '.format(clss),topic_identifier(documents_per_class[clss], n_topics=1, top_topics=10))"
   ]
  },
  {
   "cell_type": "markdown",
   "metadata": {},
   "source": [
    "Conclusions. There is not much \n",
    "\n",
    "Classes:\n",
    "* 1: "
   ]
  },
  {
   "cell_type": "code",
   "execution_count": null,
   "metadata": {
    "collapsed": true
   },
   "outputs": [],
   "source": []
  }
 ],
 "metadata": {
  "kernelspec": {
   "display_name": "Python 3",
   "language": "python",
   "name": "python3"
  },
  "language_info": {
   "codemirror_mode": {
    "name": "ipython",
    "version": 3
   },
   "file_extension": ".py",
   "mimetype": "text/x-python",
   "name": "python",
   "nbconvert_exporter": "python",
   "pygments_lexer": "ipython3",
   "version": "3.6.2"
  }
 },
 "nbformat": 4,
 "nbformat_minor": 2
}
