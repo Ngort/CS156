{
 "cells": [
  {
   "cell_type": "markdown",
   "metadata": {},
   "source": [
    "# MNIST Digits\n",
    "## Nicolas A. Gort Freitas\n",
    "### CS156 Machine Learning"
   ]
  },
  {
   "cell_type": "code",
   "execution_count": 217,
   "metadata": {},
   "outputs": [],
   "source": [
    "import numpy as np\n",
    "import matplotlib.pyplot as plt\n",
    "import scipy.stats\n",
    "import seaborn as sns\n",
    "import regex as re\n",
    "import pyjoyplot as pjp\n",
    "import pandas as pd\n",
    "\n",
    "from sklearn.svm import SVC\n",
    "from sklearn.datasets import fetch_mldata\n",
    "from sklearn.metrics import f1_score, auc, precision_recall_curve, roc_curve, classification_report\n",
    "from sklearn.model_selection import train_test_split\n",
    "from sklearn.grid_search import GridSearchCV"
   ]
  },
  {
   "cell_type": "markdown",
   "metadata": {},
   "source": [
    "### Data processing"
   ]
  },
  {
   "cell_type": "code",
   "execution_count": 10,
   "metadata": {},
   "outputs": [],
   "source": [
    "mnist = fetch_mldata('MNIST original')\n",
    "indices_37 = np.where((mnist.target == 3) | (mnist.target == 7))[0]"
   ]
  },
  {
   "cell_type": "code",
   "execution_count": 331,
   "metadata": {},
   "outputs": [
    {
     "name": "stdout",
     "output_type": "stream",
     "text": [
      "Digit balance before random data reduction: 49.0% 3's and 51.0% 7's.\n",
      "Digit balance after 50% random data reduction: 50.0% 3's and 50.0% 7's.\n"
     ]
    }
   ],
   "source": [
    "X = mnist.data[indices_37]\n",
    "y = mnist.target[indices_37]\n",
    "y = np.where(y == 7, 1, 0)\n",
    "\n",
    "random_indices = np.random.choice(range(y.shape[0]), round(y.shape[0]/2),replace=False,)\n",
    "y_counts = [round(100*x/len(y)) for x in np.bincount(y)]\n",
    "y_reduced_counts = [round(100*x/len(y[random_indices])) for x in np.bincount(y[random_indices])]\n",
    "\n",
    "print(\"Digit balance before random data reduction: {}% 3's and {}% 7's.\".format(y_counts[0],y_counts[1]))\n",
    "print(\"Digit balance after 50% random data reduction: {}% 3's and {}% 7's.\".format(y_reduced_counts[0],y_reduced_counts[1]))\n",
    "\n",
    "X = X[random_indices]\n",
    "y = y[random_indices]\n",
    "\n",
    "X_train, X_test, y_train, y_test = train_test_split(X, y)"
   ]
  },
  {
   "cell_type": "markdown",
   "metadata": {},
   "source": [
    "### Plotting examples"
   ]
  },
  {
   "cell_type": "code",
   "execution_count": 325,
   "metadata": {},
   "outputs": [
    {
     "data": {
      "image/png": "[encoded data removed]",
      "text/plain": [
       "<matplotlib.figure.Figure at 0x11741cf98>"
      ]
     },
     "metadata": {},
     "output_type": "display_data"
    }
   ],
   "source": [
    "fig, axes = plt.subplots(2,10, figsize=(10,2))\n",
    "\n",
    "for i in range(10):\n",
    "    axes[0,i].imshow(X[np.where(y == 0)][4*i].reshape(28,28),cmap='binary')\n",
    "    axes[0,i].axis('off')\n",
    "    \n",
    "for j in range(10):\n",
    "    axes[1,j].imshow(X[np.where(y == 1)][3*i].reshape(28,28),cmap='binary')\n",
    "    axes[1,j].axis('off')\n",
    "\n",
    "\n",
    "plt.subplots_adjust(None,None,None,None,wspace=0.05,hspace=0.05)\n",
    "plt.show()"
   ]
  },
  {
   "cell_type": "markdown",
   "metadata": {},
   "source": [
    "# Linear kernel\n",
    "\n",
    "### Training and Cross-validation"
   ]
  },
  {
   "cell_type": "code",
   "execution_count": 23,
   "metadata": {},
   "outputs": [
    {
     "name": "stdout",
     "output_type": "stream",
     "text": [
      "Fitting 3 folds for each of 7 candidates, totalling 21 fits\n",
      "[CV] C=0.001, kernel=linear ..........................................\n",
      "[CV] C=0.001, kernel=linear ..........................................\n",
      "[CV] C=0.001, kernel=linear ..........................................\n",
      "[CV] ................. C=0.001, kernel=linear, score=0.983370 -   5.2s\n",
      "[CV] C=0.01, kernel=linear ...........................................\n",
      "[CV] ................. C=0.001, kernel=linear, score=0.982262 -   5.6s\n",
      "[CV] C=0.01, kernel=linear ...........................................\n",
      "[CV] ................. C=0.001, kernel=linear, score=0.986142 -   5.9s\n",
      "[CV] C=0.01, kernel=linear ...........................................\n",
      "[CV] .................. C=0.01, kernel=linear, score=0.983370 -   5.2s\n",
      "[CV] C=0.1, kernel=linear ............................................\n",
      "[CV] .................. C=0.01, kernel=linear, score=0.982262 -   5.7s\n",
      "[CV] C=0.1, kernel=linear ............................................\n",
      "[CV] .................. C=0.01, kernel=linear, score=0.986142 -   6.2s\n",
      "[CV] C=0.1, kernel=linear ............................................\n",
      "[CV] ................... C=0.1, kernel=linear, score=0.983370 -   6.8s\n",
      "[CV] C=1, kernel=linear ..............................................\n",
      "[CV] ................... C=0.1, kernel=linear, score=0.982262 -   7.3s\n",
      "[CV] C=1, kernel=linear ..............................................\n",
      "[CV] ................... C=0.1, kernel=linear, score=0.986142 -   7.6s\n",
      "[CV] C=1, kernel=linear ..............................................\n",
      "[CV] ..................... C=1, kernel=linear, score=0.983370 -   6.0s\n",
      "[CV] C=10, kernel=linear .............................................\n",
      "[CV] ..................... C=1, kernel=linear, score=0.982262 -   6.2s\n",
      "[CV] C=10, kernel=linear .............................................\n",
      "[CV] ..................... C=1, kernel=linear, score=0.986142 -   6.7s\n",
      "[CV] C=10, kernel=linear .............................................\n"
     ]
    },
    {
     "name": "stderr",
     "output_type": "stream",
     "text": [
      "[Parallel(n_jobs=3)]: Done  12 tasks      | elapsed:   26.5s\n"
     ]
    },
    {
     "name": "stdout",
     "output_type": "stream",
     "text": [
      "[CV] .................... C=10, kernel=linear, score=0.983370 -   5.7s\n",
      "[CV] C=100, kernel=linear ............................................\n",
      "[CV] .................... C=10, kernel=linear, score=0.982262 -   5.9s\n",
      "[CV] C=100, kernel=linear ............................................\n",
      "[CV] .................... C=10, kernel=linear, score=0.986142 -   6.3s\n",
      "[CV] C=100, kernel=linear ............................................\n",
      "[CV] ................... C=100, kernel=linear, score=0.983370 -   5.6s\n",
      "[CV] C=1000, kernel=linear ...........................................\n",
      "[CV] ................... C=100, kernel=linear, score=0.982262 -   5.9s\n",
      "[CV] C=1000, kernel=linear ...........................................\n",
      "[CV] ................... C=100, kernel=linear, score=0.986142 -   6.2s\n",
      "[CV] C=1000, kernel=linear ...........................................\n",
      "[CV] .................. C=1000, kernel=linear, score=0.983370 -   5.6s\n",
      "[CV] .................. C=1000, kernel=linear, score=0.982262 -   6.2s\n",
      "[CV] .................. C=1000, kernel=linear, score=0.986142 -   6.8s\n"
     ]
    },
    {
     "name": "stderr",
     "output_type": "stream",
     "text": [
      "[Parallel(n_jobs=3)]: Done  21 out of  21 | elapsed:   46.0s finished\n",
      "[Parallel(n_jobs=3)]: Done  21 out of  21 | elapsed:   46.0s remaining:    0.0s\n"
     ]
    },
    {
     "data": {
      "text/plain": [
       "GridSearchCV(cv=3, error_score='raise',\n",
       "       estimator=SVC(C=1.0, cache_size=200, class_weight=None, coef0=0.0,\n",
       "  decision_function_shape='ovr', degree=3, gamma='auto', kernel='rbf',\n",
       "  max_iter=-1, probability=True, random_state=None, shrinking=True,\n",
       "  tol=0.001, verbose=False),\n",
       "       fit_params={}, iid=True, n_jobs=3,\n",
       "       param_grid={'C': [0.001, 0.01, 0.1, 1, 10, 100, 1000], 'kernel': ['linear']},\n",
       "       pre_dispatch='2*n_jobs', refit=True, scoring=None, verbose=5)"
      ]
     },
     "execution_count": 23,
     "metadata": {},
     "output_type": "execute_result"
    }
   ],
   "source": [
    "svm_lin = SVC(probability=True)\n",
    "\n",
    "param_grid_lin = {\n",
    "    'C': [0.001, 0.01, 0.1, 1, 10, 100, 1000],\n",
    "    'kernel' : ['linear']\n",
    "}\n",
    "\n",
    "grid_lin = GridSearchCV(svm_lin, cv=3, n_jobs=3, param_grid = param_grid_lin, verbose = 5)\n",
    "grid_lin.fit(X_train, y_train)"
   ]
  },
  {
   "cell_type": "markdown",
   "metadata": {},
   "source": [
    "### Results"
   ]
  },
  {
   "cell_type": "code",
   "execution_count": 108,
   "metadata": {},
   "outputs": [
    {
     "name": "stdout",
     "output_type": "stream",
     "text": [
      "Best C value:\t\t  0.001\n",
      "Total training time:      46 seconds\n",
      "Best score:\t          0.98392\n"
     ]
    }
   ],
   "source": [
    "print('Best C value:\\t\\t ',grid_lin.best_params_['C'])\n",
    "print('Total training time:      46 seconds')\n",
    "print('Best score:\\t         ', round(grid_lin.best_score_,5))"
   ]
  },
  {
   "cell_type": "code",
   "execution_count": 31,
   "metadata": {},
   "outputs": [],
   "source": [
    "y_lin_probs_train = grid_lin.predict_proba(X_train)[:,1]\n",
    "fpr_lin_train, tpr_lin_train, thresholds_lin_train = roc_curve(y_train, y_lin_probs_train)\n",
    "precision_lin_train, recall_lin_train, _lin_tr = precision_recall_curve(y_train, y_lin_probs_train)\n",
    "f1_lin_train = f1_score(y_train,grid_lin.predict(X_train))\n",
    "\n",
    "y_lin_probs_test = grid_lin.predict_proba(X_test)[:,1]\n",
    "fpr_lin_test, tpr_lin_test, thresholds_lin_test = roc_curve(y_test, y_lin_probs_test)\n",
    "precision_lin_test, recall_lin_test, _lin_tr = precision_recall_curve(y_test, y_lin_probs_test)\n",
    "f1_lin_test = f1_score(y_test,grid_lin.predict(X_test))"
   ]
  },
  {
   "cell_type": "code",
   "execution_count": 334,
   "metadata": {},
   "outputs": [
    {
     "data": {
      "image/png": "[encoded data removed]",
      "text/plain": [
       "<matplotlib.figure.Figure at 0x117e57ef0>"
      ]
     },
     "metadata": {},
     "output_type": "display_data"
    }
   ],
   "source": [
    "fig, axes = plt.subplots(1,2,figsize=(10,5))\n",
    "\n",
    "axes[0].plot(fpr_lin_train,tpr_lin_train,label='Training set')\n",
    "axes[0].plot(fpr_lin_test,tpr_lin_test,label='Test set')\n",
    "\n",
    "\n",
    "axes[0].set_xlabel('False Positive Rate')\n",
    "axes[0].set_ylabel('True Positive Rate')\n",
    "axes[0].set_title( r'$\\bf{ROC\\ Curve}$' + '\\n AUC of the training set: {}\\nAUC of the test set: {}'.format(round(auc(fpr_lin_train,tpr_lin_train),4),round(auc(fpr_lin_test,tpr_lin_test),4)))\n",
    "axes[0].legend()\n",
    "\n",
    "axes[1].plot(recall_lin_train,precision_lin_train,label='Training set')\n",
    "axes[1].plot(recall_lin_test,precision_lin_test,label='Test set',linewidth=1)\n",
    "\n",
    "axes[1].set_ylabel('Precision')\n",
    "axes[1].set_xlabel('Recall')\n",
    "axes[1].set_title( r'$\\bf{Precision\\ vs\\ Recall}$' + '\\n F1 score of the training set: {}\\nF1 score of the test set: {}'.format(round(f1_lin_train,4),round(f1_lin_test,4)))\n",
    "axes[1].legend()\n",
    "\n",
    "plt.subplots_adjust(wspace=0.5,hspace=.25)\n",
    "plt.tight_layout()\n",
    "\n",
    "plt.show()"
   ]
  },
  {
   "cell_type": "markdown",
   "metadata": {},
   "source": [
    "# Poly kernel\n",
    "\n",
    "### Training and Cross-validation"
   ]
  },
  {
   "cell_type": "code",
   "execution_count": 33,
   "metadata": {},
   "outputs": [
    {
     "name": "stdout",
     "output_type": "stream",
     "text": [
      "Fitting 3 folds for each of 42 candidates, totalling 126 fits\n",
      "[CV] C=0.001, degree=2, gamma=0.0012755102040816326, kernel=poly .....\n",
      "[CV] C=0.001, degree=2, gamma=0.0012755102040816326, kernel=poly .....\n",
      "[CV] C=0.001, degree=2, gamma=0.0012755102040816326, kernel=poly .....\n",
      "[CV]  C=0.001, degree=2, gamma=0.0012755102040816326, kernel=poly, score=0.995011 -   6.7s\n",
      "[CV] C=0.001, degree=2, gamma=0.012755102040816327, kernel=poly ......\n",
      "[CV]  C=0.001, degree=2, gamma=0.0012755102040816326, kernel=poly, score=0.991685 -   6.8s\n",
      "[CV] C=0.001, degree=2, gamma=0.012755102040816327, kernel=poly ......\n",
      "[CV]  C=0.001, degree=2, gamma=0.0012755102040816326, kernel=poly, score=0.993348 -   7.1s\n",
      "[CV] C=0.001, degree=2, gamma=0.012755102040816327, kernel=poly ......\n",
      "[CV]  C=0.001, degree=2, gamma=0.012755102040816327, kernel=poly, score=0.991685 -   7.2s\n",
      "[CV] C=0.001, degree=3, gamma=0.0012755102040816326, kernel=poly .....\n",
      "[CV]  C=0.001, degree=2, gamma=0.012755102040816327, kernel=poly, score=0.995011 -   7.2s\n",
      "[CV] C=0.001, degree=3, gamma=0.0012755102040816326, kernel=poly .....\n",
      "[CV]  C=0.001, degree=2, gamma=0.012755102040816327, kernel=poly, score=0.993348 -   7.5s\n",
      "[CV] C=0.001, degree=3, gamma=0.0012755102040816326, kernel=poly .....\n",
      "[CV]  C=0.001, degree=3, gamma=0.0012755102040816326, kernel=poly, score=0.993902 -   7.0s\n",
      "[CV] C=0.001, degree=3, gamma=0.012755102040816327, kernel=poly ......\n",
      "[CV]  C=0.001, degree=3, gamma=0.0012755102040816326, kernel=poly, score=0.992794 -   7.5s\n",
      "[CV] C=0.001, degree=3, gamma=0.012755102040816327, kernel=poly ......\n",
      "[CV]  C=0.001, degree=3, gamma=0.0012755102040816326, kernel=poly, score=0.992794 -   7.4s\n",
      "[CV] C=0.001, degree=3, gamma=0.012755102040816327, kernel=poly ......\n",
      "[CV]  C=0.001, degree=3, gamma=0.012755102040816327, kernel=poly, score=0.993902 -   7.1s\n",
      "[CV] C=0.001, degree=4, gamma=0.0012755102040816326, kernel=poly .....\n",
      "[CV]  C=0.001, degree=3, gamma=0.012755102040816327, kernel=poly, score=0.992794 -   7.6s\n",
      "[CV] C=0.001, degree=4, gamma=0.0012755102040816326, kernel=poly .....\n",
      "[CV]  C=0.001, degree=3, gamma=0.012755102040816327, kernel=poly, score=0.992794 -   7.7s\n",
      "[CV] C=0.001, degree=4, gamma=0.0012755102040816326, kernel=poly .....\n"
     ]
    },
    {
     "name": "stderr",
     "output_type": "stream",
     "text": [
      "[Parallel(n_jobs=3)]: Done  12 tasks      | elapsed:   30.0s\n"
     ]
    },
    {
     "name": "stdout",
     "output_type": "stream",
     "text": [
      "[CV]  C=0.001, degree=4, gamma=0.0012755102040816326, kernel=poly, score=0.992239 -   9.9s\n",
      "[CV] C=0.001, degree=4, gamma=0.012755102040816327, kernel=poly ......\n",
      "[CV]  C=0.001, degree=4, gamma=0.0012755102040816326, kernel=poly, score=0.992239 -  10.6s\n",
      "[CV] C=0.001, degree=4, gamma=0.012755102040816327, kernel=poly ......\n",
      "[CV]  C=0.001, degree=4, gamma=0.0012755102040816326, kernel=poly, score=0.991131 -  10.6s\n",
      "[CV] C=0.001, degree=4, gamma=0.012755102040816327, kernel=poly ......\n",
      "[CV]  C=0.001, degree=4, gamma=0.012755102040816327, kernel=poly, score=0.992239 -   9.3s\n",
      "[CV] C=0.01, degree=2, gamma=0.0012755102040816326, kernel=poly ......\n",
      "[CV]  C=0.001, degree=4, gamma=0.012755102040816327, kernel=poly, score=0.992239 -  10.1s\n",
      "[CV] C=0.01, degree=2, gamma=0.0012755102040816326, kernel=poly ......\n",
      "[CV]  C=0.001, degree=4, gamma=0.012755102040816327, kernel=poly, score=0.991131 -   9.8s\n",
      "[CV] C=0.01, degree=2, gamma=0.0012755102040816326, kernel=poly ......\n",
      "[CV]  C=0.01, degree=2, gamma=0.0012755102040816326, kernel=poly, score=0.991685 -   7.8s\n",
      "[CV] C=0.01, degree=2, gamma=0.012755102040816327, kernel=poly .......\n",
      "[CV]  C=0.01, degree=2, gamma=0.0012755102040816326, kernel=poly, score=0.995011 -   7.8s\n",
      "[CV] C=0.01, degree=2, gamma=0.012755102040816327, kernel=poly .......\n",
      "[CV]  C=0.01, degree=2, gamma=0.0012755102040816326, kernel=poly, score=0.993348 -   7.9s\n",
      "[CV] C=0.01, degree=2, gamma=0.012755102040816327, kernel=poly .......\n",
      "[CV]  C=0.01, degree=2, gamma=0.012755102040816327, kernel=poly, score=0.991685 -   7.9s\n",
      "[CV] C=0.01, degree=3, gamma=0.0012755102040816326, kernel=poly ......\n",
      "[CV]  C=0.01, degree=2, gamma=0.012755102040816327, kernel=poly, score=0.995011 -   8.0s\n",
      "[CV] C=0.01, degree=3, gamma=0.0012755102040816326, kernel=poly ......\n",
      "[CV]  C=0.01, degree=2, gamma=0.012755102040816327, kernel=poly, score=0.993348 -   8.9s\n",
      "[CV] C=0.01, degree=3, gamma=0.0012755102040816326, kernel=poly ......\n",
      "[CV]  C=0.01, degree=3, gamma=0.0012755102040816326, kernel=poly, score=0.993902 -   8.6s\n",
      "[CV] C=0.01, degree=3, gamma=0.012755102040816327, kernel=poly .......\n",
      "[CV]  C=0.01, degree=3, gamma=0.0012755102040816326, kernel=poly, score=0.992794 -   9.1s\n",
      "[CV] C=0.01, degree=3, gamma=0.012755102040816327, kernel=poly .......\n",
      "[CV]  C=0.01, degree=3, gamma=0.0012755102040816326, kernel=poly, score=0.992794 -   8.8s\n",
      "[CV] C=0.01, degree=3, gamma=0.012755102040816327, kernel=poly .......\n",
      "[CV]  C=0.01, degree=3, gamma=0.012755102040816327, kernel=poly, score=0.993902 -   7.6s\n",
      "[CV] C=0.01, degree=4, gamma=0.0012755102040816326, kernel=poly ......\n",
      "[CV]  C=0.01, degree=3, gamma=0.012755102040816327, kernel=poly, score=0.992794 -   8.2s\n",
      "[CV] C=0.01, degree=4, gamma=0.0012755102040816326, kernel=poly ......\n",
      "[CV]  C=0.01, degree=3, gamma=0.012755102040816327, kernel=poly, score=0.992794 -   7.8s\n",
      "[CV] C=0.01, degree=4, gamma=0.0012755102040816326, kernel=poly ......\n",
      "[CV]  C=0.01, degree=4, gamma=0.0012755102040816326, kernel=poly, score=0.992239 -   7.7s\n",
      "[CV] C=0.01, degree=4, gamma=0.012755102040816327, kernel=poly .......\n",
      "[CV]  C=0.01, degree=4, gamma=0.0012755102040816326, kernel=poly, score=0.992239 -   8.5s\n",
      "[CV] C=0.01, degree=4, gamma=0.012755102040816327, kernel=poly .......\n",
      "[CV]  C=0.01, degree=4, gamma=0.0012755102040816326, kernel=poly, score=0.991131 -   8.8s\n",
      "[CV] C=0.01, degree=4, gamma=0.012755102040816327, kernel=poly .......\n",
      "[CV]  C=0.01, degree=4, gamma=0.012755102040816327, kernel=poly, score=0.992239 -   9.0s\n",
      "[CV] C=0.1, degree=2, gamma=0.0012755102040816326, kernel=poly .......\n",
      "[CV]  C=0.01, degree=4, gamma=0.012755102040816327, kernel=poly, score=0.992239 -   9.6s\n",
      "[CV] C=0.1, degree=2, gamma=0.0012755102040816326, kernel=poly .......\n",
      "[CV]  C=0.01, degree=4, gamma=0.012755102040816327, kernel=poly, score=0.991131 -   9.3s\n",
      "[CV] C=0.1, degree=2, gamma=0.0012755102040816326, kernel=poly .......\n",
      "[CV]  C=0.1, degree=2, gamma=0.0012755102040816326, kernel=poly, score=0.991685 -   7.8s\n",
      "[CV] C=0.1, degree=2, gamma=0.012755102040816327, kernel=poly ........\n",
      "[CV]  C=0.1, degree=2, gamma=0.0012755102040816326, kernel=poly, score=0.995011 -   7.8s\n",
      "[CV] C=0.1, degree=2, gamma=0.012755102040816327, kernel=poly ........\n",
      "[CV]  C=0.1, degree=2, gamma=0.0012755102040816326, kernel=poly, score=0.993348 -   7.9s\n",
      "[CV] C=0.1, degree=2, gamma=0.012755102040816327, kernel=poly ........\n",
      "[CV]  C=0.1, degree=2, gamma=0.012755102040816327, kernel=poly, score=0.991685 -   7.3s\n",
      "[CV] C=0.1, degree=3, gamma=0.0012755102040816326, kernel=poly .......\n",
      "[CV]  C=0.1, degree=2, gamma=0.012755102040816327, kernel=poly, score=0.995011 -   7.3s\n",
      "[CV] C=0.1, degree=3, gamma=0.0012755102040816326, kernel=poly .......\n",
      "[CV]  C=0.1, degree=2, gamma=0.012755102040816327, kernel=poly, score=0.993348 -   7.5s\n",
      "[CV] C=0.1, degree=3, gamma=0.0012755102040816326, kernel=poly .......\n",
      "[CV]  C=0.1, degree=3, gamma=0.0012755102040816326, kernel=poly, score=0.993902 -   7.3s\n",
      "[CV] C=0.1, degree=3, gamma=0.012755102040816327, kernel=poly ........\n",
      "[CV]  C=0.1, degree=3, gamma=0.0012755102040816326, kernel=poly, score=0.992794 -   7.8s\n",
      "[CV] C=0.1, degree=3, gamma=0.012755102040816327, kernel=poly ........\n",
      "[CV]  C=0.1, degree=3, gamma=0.0012755102040816326, kernel=poly, score=0.992794 -   9.0s\n",
      "[CV] C=0.1, degree=3, gamma=0.012755102040816327, kernel=poly ........\n",
      "[CV]  C=0.1, degree=3, gamma=0.012755102040816327, kernel=poly, score=0.993902 -   8.6s\n",
      "[CV] C=0.1, degree=4, gamma=0.0012755102040816326, kernel=poly .......\n",
      "[CV]  C=0.1, degree=3, gamma=0.012755102040816327, kernel=poly, score=0.992794 -   9.3s\n",
      "[CV] C=0.1, degree=4, gamma=0.0012755102040816326, kernel=poly .......\n",
      "[CV]  C=0.1, degree=3, gamma=0.012755102040816327, kernel=poly, score=0.992794 -   8.3s\n",
      "[CV] C=0.1, degree=4, gamma=0.0012755102040816326, kernel=poly .......\n",
      "[CV]  C=0.1, degree=4, gamma=0.0012755102040816326, kernel=poly, score=0.992239 -   8.1s\n",
      "[CV] C=0.1, degree=4, gamma=0.012755102040816327, kernel=poly ........\n",
      "[CV]  C=0.1, degree=4, gamma=0.0012755102040816326, kernel=poly, score=0.992239 -   8.7s\n",
      "[CV] C=0.1, degree=4, gamma=0.012755102040816327, kernel=poly ........\n",
      "[CV]  C=0.1, degree=4, gamma=0.0012755102040816326, kernel=poly, score=0.991131 -   8.6s\n",
      "[CV] C=0.1, degree=4, gamma=0.012755102040816327, kernel=poly ........\n",
      "[CV]  C=0.1, degree=4, gamma=0.012755102040816327, kernel=poly, score=0.992239 -   7.9s\n",
      "[CV] C=1, degree=2, gamma=0.0012755102040816326, kernel=poly .........\n",
      "[CV]  C=0.1, degree=4, gamma=0.012755102040816327, kernel=poly, score=0.992239 -   8.5s\n",
      "[CV] C=1, degree=2, gamma=0.0012755102040816326, kernel=poly .........\n",
      "[CV]  C=0.1, degree=4, gamma=0.012755102040816327, kernel=poly, score=0.991131 -   9.2s\n",
      "[CV] C=1, degree=2, gamma=0.0012755102040816326, kernel=poly .........\n",
      "[CV]  C=1, degree=2, gamma=0.0012755102040816326, kernel=poly, score=0.991685 -   8.1s\n",
      "[CV] C=1, degree=2, gamma=0.012755102040816327, kernel=poly ..........\n",
      "[CV]  C=1, degree=2, gamma=0.0012755102040816326, kernel=poly, score=0.995011 -   8.1s\n",
      "[CV] C=1, degree=2, gamma=0.012755102040816327, kernel=poly ..........\n",
      "[CV]  C=1, degree=2, gamma=0.0012755102040816326, kernel=poly, score=0.993348 -   7.7s\n",
      "[CV] C=1, degree=2, gamma=0.012755102040816327, kernel=poly ..........\n",
      "[CV]  C=1, degree=2, gamma=0.012755102040816327, kernel=poly, score=0.991685 -   7.4s\n",
      "[CV] C=1, degree=3, gamma=0.0012755102040816326, kernel=poly .........\n",
      "[CV]  C=1, degree=2, gamma=0.012755102040816327, kernel=poly, score=0.995011 -   7.4s\n",
      "[CV] C=1, degree=3, gamma=0.0012755102040816326, kernel=poly .........\n",
      "[CV]  C=1, degree=2, gamma=0.012755102040816327, kernel=poly, score=0.993348 -   8.0s\n",
      "[CV] C=1, degree=3, gamma=0.0012755102040816326, kernel=poly .........\n",
      "[CV]  C=1, degree=3, gamma=0.0012755102040816326, kernel=poly, score=0.993902 -   7.6s\n",
      "[CV] C=1, degree=3, gamma=0.012755102040816327, kernel=poly ..........\n",
      "[CV]  C=1, degree=3, gamma=0.0012755102040816326, kernel=poly, score=0.992794 -   8.2s\n",
      "[CV] C=1, degree=3, gamma=0.012755102040816327, kernel=poly ..........\n",
      "[CV]  C=1, degree=3, gamma=0.0012755102040816326, kernel=poly, score=0.992794 -   8.3s\n",
      "[CV] C=1, degree=3, gamma=0.012755102040816327, kernel=poly ..........\n",
      "[CV]  C=1, degree=3, gamma=0.012755102040816327, kernel=poly, score=0.993902 -   8.0s\n"
     ]
    },
    {
     "name": "stdout",
     "output_type": "stream",
     "text": [
      "[CV] C=1, degree=4, gamma=0.0012755102040816326, kernel=poly .........\n",
      "[CV]  C=1, degree=3, gamma=0.012755102040816327, kernel=poly, score=0.992794 -   8.7s\n",
      "[CV] C=1, degree=4, gamma=0.0012755102040816326, kernel=poly .........\n",
      "[CV]  C=1, degree=3, gamma=0.012755102040816327, kernel=poly, score=0.992794 -   8.4s\n",
      "[CV] C=1, degree=4, gamma=0.0012755102040816326, kernel=poly .........\n"
     ]
    },
    {
     "name": "stderr",
     "output_type": "stream",
     "text": [
      "[Parallel(n_jobs=3)]: Done  66 tasks      | elapsed:  3.1min\n"
     ]
    },
    {
     "name": "stdout",
     "output_type": "stream",
     "text": [
      "[CV]  C=1, degree=4, gamma=0.0012755102040816326, kernel=poly, score=0.992239 -   8.2s\n",
      "[CV] C=1, degree=4, gamma=0.012755102040816327, kernel=poly ..........\n",
      "[CV]  C=1, degree=4, gamma=0.0012755102040816326, kernel=poly, score=0.992239 -   8.9s\n",
      "[CV] C=1, degree=4, gamma=0.012755102040816327, kernel=poly ..........\n",
      "[CV]  C=1, degree=4, gamma=0.0012755102040816326, kernel=poly, score=0.991131 -   8.3s\n",
      "[CV] C=1, degree=4, gamma=0.012755102040816327, kernel=poly ..........\n",
      "[CV]  C=1, degree=4, gamma=0.012755102040816327, kernel=poly, score=0.992239 -   7.8s\n",
      "[CV] C=10, degree=2, gamma=0.0012755102040816326, kernel=poly ........\n",
      "[CV]  C=1, degree=4, gamma=0.012755102040816327, kernel=poly, score=0.992239 -   8.4s\n",
      "[CV] C=10, degree=2, gamma=0.0012755102040816326, kernel=poly ........\n",
      "[CV]  C=1, degree=4, gamma=0.012755102040816327, kernel=poly, score=0.991131 -   8.6s\n",
      "[CV] C=10, degree=2, gamma=0.0012755102040816326, kernel=poly ........\n",
      "[CV]  C=10, degree=2, gamma=0.0012755102040816326, kernel=poly, score=0.991685 -   7.5s\n",
      "[CV] C=10, degree=2, gamma=0.012755102040816327, kernel=poly .........\n",
      "[CV]  C=10, degree=2, gamma=0.0012755102040816326, kernel=poly, score=0.995011 -   7.6s\n",
      "[CV] C=10, degree=2, gamma=0.012755102040816327, kernel=poly .........\n",
      "[CV]  C=10, degree=2, gamma=0.0012755102040816326, kernel=poly, score=0.993348 -   8.6s\n",
      "[CV] C=10, degree=2, gamma=0.012755102040816327, kernel=poly .........\n",
      "[CV]  C=10, degree=2, gamma=0.012755102040816327, kernel=poly, score=0.991685 -   8.3s\n",
      "[CV] C=10, degree=3, gamma=0.0012755102040816326, kernel=poly ........\n",
      "[CV]  C=10, degree=2, gamma=0.012755102040816327, kernel=poly, score=0.995011 -   8.5s\n",
      "[CV] C=10, degree=3, gamma=0.0012755102040816326, kernel=poly ........\n",
      "[CV]  C=10, degree=2, gamma=0.012755102040816327, kernel=poly, score=0.993348 -   8.7s\n",
      "[CV] C=10, degree=3, gamma=0.0012755102040816326, kernel=poly ........\n",
      "[CV]  C=10, degree=3, gamma=0.0012755102040816326, kernel=poly, score=0.992794 -   9.2s\n",
      "[CV] C=10, degree=3, gamma=0.012755102040816327, kernel=poly .........\n",
      "[CV]  C=10, degree=3, gamma=0.0012755102040816326, kernel=poly, score=0.993902 -   8.6s\n",
      "[CV] C=10, degree=3, gamma=0.012755102040816327, kernel=poly .........\n",
      "[CV]  C=10, degree=3, gamma=0.0012755102040816326, kernel=poly, score=0.992794 -   7.8s\n",
      "[CV] C=10, degree=3, gamma=0.012755102040816327, kernel=poly .........\n",
      "[CV]  C=10, degree=3, gamma=0.012755102040816327, kernel=poly, score=0.993902 -   7.4s\n",
      "[CV] C=10, degree=4, gamma=0.0012755102040816326, kernel=poly ........\n",
      "[CV]  C=10, degree=3, gamma=0.012755102040816327, kernel=poly, score=0.992794 -   7.9s\n",
      "[CV] C=10, degree=4, gamma=0.0012755102040816326, kernel=poly ........\n",
      "[CV]  C=10, degree=3, gamma=0.012755102040816327, kernel=poly, score=0.992794 -   8.1s\n",
      "[CV] C=10, degree=4, gamma=0.0012755102040816326, kernel=poly ........\n",
      "[CV]  C=10, degree=4, gamma=0.0012755102040816326, kernel=poly, score=0.992239 -   7.8s\n",
      "[CV] C=10, degree=4, gamma=0.012755102040816327, kernel=poly .........\n",
      "[CV]  C=10, degree=4, gamma=0.0012755102040816326, kernel=poly, score=0.992239 -   8.6s\n",
      "[CV] C=10, degree=4, gamma=0.012755102040816327, kernel=poly .........\n",
      "[CV]  C=10, degree=4, gamma=0.0012755102040816326, kernel=poly, score=0.991131 -   8.2s\n",
      "[CV] C=10, degree=4, gamma=0.012755102040816327, kernel=poly .........\n",
      "[CV]  C=10, degree=4, gamma=0.012755102040816327, kernel=poly, score=0.992239 -   7.5s\n",
      "[CV] C=100, degree=2, gamma=0.0012755102040816326, kernel=poly .......\n",
      "[CV]  C=10, degree=4, gamma=0.012755102040816327, kernel=poly, score=0.992239 -   8.2s\n",
      "[CV] C=100, degree=2, gamma=0.0012755102040816326, kernel=poly .......\n",
      "[CV]  C=100, degree=2, gamma=0.0012755102040816326, kernel=poly, score=0.991685 -   6.5s\n",
      "[CV] C=100, degree=2, gamma=0.0012755102040816326, kernel=poly .......\n",
      "[CV]  C=100, degree=2, gamma=0.0012755102040816326, kernel=poly, score=0.995011 -   6.7s\n",
      "[CV] C=100, degree=2, gamma=0.012755102040816327, kernel=poly ........\n",
      "[CV]  C=10, degree=4, gamma=0.012755102040816327, kernel=poly, score=0.991131 -   7.9s\n",
      "[CV] C=100, degree=2, gamma=0.012755102040816327, kernel=poly ........\n",
      "[CV]  C=100, degree=2, gamma=0.0012755102040816326, kernel=poly, score=0.993348 -   7.0s\n",
      "[CV] C=100, degree=2, gamma=0.012755102040816327, kernel=poly ........\n",
      "[CV]  C=100, degree=2, gamma=0.012755102040816327, kernel=poly, score=0.991685 -   6.7s\n",
      "[CV] C=100, degree=3, gamma=0.0012755102040816326, kernel=poly .......\n",
      "[CV]  C=100, degree=2, gamma=0.012755102040816327, kernel=poly, score=0.995011 -   6.7s\n",
      "[CV] C=100, degree=3, gamma=0.0012755102040816326, kernel=poly .......\n",
      "[CV]  C=100, degree=2, gamma=0.012755102040816327, kernel=poly, score=0.993348 -   6.7s\n",
      "[CV] C=100, degree=3, gamma=0.0012755102040816326, kernel=poly .......\n",
      "[CV]  C=100, degree=3, gamma=0.0012755102040816326, kernel=poly, score=0.993902 -   6.8s\n",
      "[CV] C=100, degree=3, gamma=0.012755102040816327, kernel=poly ........\n",
      "[CV]  C=100, degree=3, gamma=0.0012755102040816326, kernel=poly, score=0.992794 -   7.2s\n",
      "[CV] C=100, degree=3, gamma=0.012755102040816327, kernel=poly ........\n",
      "[CV]  C=100, degree=3, gamma=0.0012755102040816326, kernel=poly, score=0.992794 -   7.5s\n",
      "[CV] C=100, degree=3, gamma=0.012755102040816327, kernel=poly ........\n",
      "[CV]  C=100, degree=3, gamma=0.012755102040816327, kernel=poly, score=0.993902 -   7.1s\n",
      "[CV] C=100, degree=4, gamma=0.0012755102040816326, kernel=poly .......\n",
      "[CV]  C=100, degree=3, gamma=0.012755102040816327, kernel=poly, score=0.992794 -   7.5s\n",
      "[CV] C=100, degree=4, gamma=0.0012755102040816326, kernel=poly .......\n",
      "[CV]  C=100, degree=3, gamma=0.012755102040816327, kernel=poly, score=0.992794 -   7.2s\n",
      "[CV] C=100, degree=4, gamma=0.0012755102040816326, kernel=poly .......\n",
      "[CV]  C=100, degree=4, gamma=0.0012755102040816326, kernel=poly, score=0.992239 -   7.3s\n",
      "[CV] C=100, degree=4, gamma=0.012755102040816327, kernel=poly ........\n",
      "[CV]  C=100, degree=4, gamma=0.0012755102040816326, kernel=poly, score=0.992239 -   7.8s\n",
      "[CV] C=100, degree=4, gamma=0.012755102040816327, kernel=poly ........\n",
      "[CV]  C=100, degree=4, gamma=0.0012755102040816326, kernel=poly, score=0.991131 -   8.2s\n",
      "[CV] C=100, degree=4, gamma=0.012755102040816327, kernel=poly ........\n",
      "[CV]  C=100, degree=4, gamma=0.012755102040816327, kernel=poly, score=0.992239 -   7.7s\n",
      "[CV] C=1000, degree=2, gamma=0.0012755102040816326, kernel=poly ......\n",
      "[CV]  C=100, degree=4, gamma=0.012755102040816327, kernel=poly, score=0.992239 -   8.3s\n",
      "[CV] C=1000, degree=2, gamma=0.0012755102040816326, kernel=poly ......\n",
      "[CV]  C=1000, degree=2, gamma=0.0012755102040816326, kernel=poly, score=0.991685 -   6.5s\n",
      "[CV] C=1000, degree=2, gamma=0.0012755102040816326, kernel=poly ......\n",
      "[CV]  C=1000, degree=2, gamma=0.0012755102040816326, kernel=poly, score=0.995011 -   6.5s\n",
      "[CV] C=1000, degree=2, gamma=0.012755102040816327, kernel=poly .......\n",
      "[CV]  C=100, degree=4, gamma=0.012755102040816327, kernel=poly, score=0.991131 -   7.8s\n",
      "[CV] C=1000, degree=2, gamma=0.012755102040816327, kernel=poly .......\n",
      "[CV]  C=1000, degree=2, gamma=0.0012755102040816326, kernel=poly, score=0.993348 -   7.1s\n",
      "[CV] C=1000, degree=2, gamma=0.012755102040816327, kernel=poly .......\n",
      "[CV]  C=1000, degree=2, gamma=0.012755102040816327, kernel=poly, score=0.991685 -   6.9s\n",
      "[CV] C=1000, degree=3, gamma=0.0012755102040816326, kernel=poly ......\n",
      "[CV]  C=1000, degree=2, gamma=0.012755102040816327, kernel=poly, score=0.995011 -   7.2s\n",
      "[CV] C=1000, degree=3, gamma=0.0012755102040816326, kernel=poly ......\n",
      "[CV]  C=1000, degree=2, gamma=0.012755102040816327, kernel=poly, score=0.993348 -   7.6s\n",
      "[CV] C=1000, degree=3, gamma=0.0012755102040816326, kernel=poly ......\n",
      "[CV]  C=1000, degree=3, gamma=0.0012755102040816326, kernel=poly, score=0.992794 -   8.0s\n",
      "[CV] C=1000, degree=3, gamma=0.012755102040816327, kernel=poly .......\n",
      "[CV]  C=1000, degree=3, gamma=0.0012755102040816326, kernel=poly, score=0.993902 -   7.5s\n",
      "[CV] C=1000, degree=3, gamma=0.012755102040816327, kernel=poly .......\n",
      "[CV]  C=1000, degree=3, gamma=0.0012755102040816326, kernel=poly, score=0.992794 -   7.3s\n",
      "[CV] C=1000, degree=3, gamma=0.012755102040816327, kernel=poly .......\n",
      "[CV]  C=1000, degree=3, gamma=0.012755102040816327, kernel=poly, score=0.993902 -   7.0s\n"
     ]
    },
    {
     "name": "stdout",
     "output_type": "stream",
     "text": [
      "[CV] C=1000, degree=4, gamma=0.0012755102040816326, kernel=poly ......\n",
      "[CV]  C=1000, degree=3, gamma=0.012755102040816327, kernel=poly, score=0.992794 -   7.4s\n",
      "[CV] C=1000, degree=4, gamma=0.0012755102040816326, kernel=poly ......\n",
      "[CV]  C=1000, degree=3, gamma=0.012755102040816327, kernel=poly, score=0.992794 -   7.5s\n",
      "[CV] C=1000, degree=4, gamma=0.0012755102040816326, kernel=poly ......\n",
      "[CV]  C=1000, degree=4, gamma=0.0012755102040816326, kernel=poly, score=0.992239 -   7.4s\n",
      "[CV] C=1000, degree=4, gamma=0.012755102040816327, kernel=poly .......\n",
      "[CV]  C=1000, degree=4, gamma=0.0012755102040816326, kernel=poly, score=0.992239 -   7.9s\n",
      "[CV] C=1000, degree=4, gamma=0.012755102040816327, kernel=poly .......\n",
      "[CV]  C=1000, degree=4, gamma=0.0012755102040816326, kernel=poly, score=0.991131 -   8.3s\n",
      "[CV] C=1000, degree=4, gamma=0.012755102040816327, kernel=poly .......\n",
      "[CV]  C=1000, degree=4, gamma=0.012755102040816327, kernel=poly, score=0.992239 -   7.9s\n",
      "[CV]  C=1000, degree=4, gamma=0.012755102040816327, kernel=poly, score=0.992239 -   8.4s\n",
      "[CV]  C=1000, degree=4, gamma=0.012755102040816327, kernel=poly, score=0.991131 -   8.0s\n"
     ]
    },
    {
     "name": "stderr",
     "output_type": "stream",
     "text": [
      "[Parallel(n_jobs=3)]: Done 126 out of 126 | elapsed:  5.7min finished\n"
     ]
    },
    {
     "data": {
      "text/plain": [
       "GridSearchCV(cv=3, error_score='raise',\n",
       "       estimator=SVC(C=1.0, cache_size=200, class_weight=None, coef0=0.0,\n",
       "  decision_function_shape='ovr', degree=3, gamma='auto', kernel='rbf',\n",
       "  max_iter=-1, probability=True, random_state=None, shrinking=True,\n",
       "  tol=0.001, verbose=False),\n",
       "       fit_params={}, iid=True, n_jobs=3,\n",
       "       param_grid={'C': [0.001, 0.01, 0.1, 1, 10, 100, 1000], 'degree': [2, 3, 4], 'gamma': [0.0012755102040816326, 0.012755102040816327], 'kernel': ['poly']},\n",
       "       pre_dispatch='2*n_jobs', refit=True, scoring=None, verbose=5)"
      ]
     },
     "execution_count": 33,
     "metadata": {},
     "output_type": "execute_result"
    }
   ],
   "source": [
    "svm_poly = SVC(probability=True)\n",
    "\n",
    "param_grid_poly = {\n",
    "    'C': [0.001, 0.01, 0.1, 1, 10, 100, 1000],\n",
    "    'degree' : [2,3,4],\n",
    "    'gamma' : [1/X_train.shape[1], 10/X_train.shape[1]],\n",
    "    'kernel' : ['poly']\n",
    "}\n",
    "\n",
    "grid_poly = GridSearchCV(svm_poly, cv=3, n_jobs=3, param_grid = param_grid_poly, verbose = 5)\n",
    "grid_poly.fit(X_train, y_train)"
   ]
  },
  {
   "cell_type": "markdown",
   "metadata": {},
   "source": [
    "### Results"
   ]
  },
  {
   "cell_type": "code",
   "execution_count": 109,
   "metadata": {},
   "outputs": [
    {
     "name": "stdout",
     "output_type": "stream",
     "text": [
      "Best C value:\t\t  0.001\n",
      "Best degree: \t\t  2\n",
      "Best gamma: \t\t  0.0012755102040816326\n",
      "Total training time:      5.7 minutes\n",
      "Best score:\t          0.99335\n"
     ]
    }
   ],
   "source": [
    "print('Best C value:\\t\\t ',grid_poly.best_params_['C'])\n",
    "print('Best degree: \\t\\t ',grid_poly.best_params_['degree'])\n",
    "print('Best gamma: \\t\\t ',grid_poly.best_params_['gamma'])\n",
    "print('Total training time:      5.7 minutes')\n",
    "print('Best score:\\t         ', round(grid_poly.best_score_,5))"
   ]
  },
  {
   "cell_type": "code",
   "execution_count": 34,
   "metadata": {
    "collapsed": true
   },
   "outputs": [],
   "source": [
    "y_poly_probs_train = grid_poly.predict_proba(X_train)[:,1]\n",
    "fpr_poly_train, tpr_poly_train, thresholds_poly_train = roc_curve(y_train, y_poly_probs_train)\n",
    "precision_poly_train, recall_poly_train, _poly_tr = precision_recall_curve(y_train, y_poly_probs_train)\n",
    "f1_poly_train = f1_score(y_train,grid_poly.predict(X_train))\n",
    "\n",
    "y_poly_probs_test = grid_poly.predict_proba(X_test)[:,1]\n",
    "fpr_poly_test, tpr_poly_test, thresholds_poly_test = roc_curve(y_test, y_poly_probs_test)\n",
    "precision_poly_test, recall_poly_test, _poly_tr = precision_recall_curve(y_test, y_poly_probs_test)\n",
    "f1_poly_test = f1_score(y_test,grid_poly.predict(X_test))"
   ]
  },
  {
   "cell_type": "code",
   "execution_count": 332,
   "metadata": {},
   "outputs": [
    {
     "data": {
      "image/png": "[encoded data removed]",
      "text/plain": [
       "<matplotlib.figure.Figure at 0x11692c4a8>"
      ]
     },
     "metadata": {},
     "output_type": "display_data"
    }
   ],
   "source": [
    "fig, axes = plt.subplots(1,2,figsize=(10,5))\n",
    "\n",
    "axes[0].plot(fpr_poly_train,tpr_poly_train,label='Training set')\n",
    "axes[0].plot(fpr_poly_test,tpr_poly_test,label='Test set')\n",
    "\n",
    "\n",
    "axes[0].set_xlabel('False Positive Rate')\n",
    "axes[0].set_ylabel('True Positive Rate')\n",
    "axes[0].set_title( r'$\\bf{ROC\\ Curve}$' + '\\n AUC of the training set: {}\\nAUC of the test set: {}'.format(round(auc(fpr_poly_train,tpr_poly_train),4),round(auc(fpr_poly_test,tpr_poly_test),4)))\n",
    "axes[0].legend()\n",
    "\n",
    "axes[1].plot(recall_poly_train,precision_poly_train,label='Training set')\n",
    "axes[1].plot(recall_poly_test,precision_poly_test,label='Test set',linewidth=1)\n",
    "\n",
    "axes[1].set_ylabel('Precision')\n",
    "axes[1].set_xlabel('Recall')\n",
    "axes[1].set_title( r'$\\bf{Precision\\ vs\\ Recall}$' + '\\n F1 score of the training set: {}\\nF1 score of the test set: {}'.format(round(f1_poly_train,4),round(f1_poly_test,4)))\n",
    "axes[1].legend()\n",
    "\n",
    "plt.subplots_adjust(wspace=0.5,hspace=.25)\n",
    "plt.tight_layout()\n",
    "\n",
    "plt.show()"
   ]
  },
  {
   "cell_type": "markdown",
   "metadata": {},
   "source": [
    "# Radial Basis Function kernel\n",
    "\n",
    "### Training and Cross-validation"
   ]
  },
  {
   "cell_type": "code",
   "execution_count": 15,
   "metadata": {},
   "outputs": [
    {
     "name": "stdout",
     "output_type": "stream",
     "text": [
      "Fitting 3 folds for each of 12 candidates, totalling 36 fits\n",
      "[CV] C=1, gamma=1e-08, kernel=rbf ....................................\n",
      "[CV] C=1, gamma=1e-08, kernel=rbf ....................................\n",
      "[CV] C=1, gamma=1e-08, kernel=rbf ....................................\n",
      "[CV] ........... C=1, gamma=1e-08, kernel=rbf, score=0.982262 -  19.9s\n",
      "[CV] C=1, gamma=3.162277660168379e-07, kernel=rbf ....................\n",
      "[CV] ........... C=1, gamma=1e-08, kernel=rbf, score=0.983925 -  20.0s\n",
      "[CV] C=1, gamma=3.162277660168379e-07, kernel=rbf ....................\n",
      "[CV] ........... C=1, gamma=1e-08, kernel=rbf, score=0.986142 -  20.1s\n",
      "[CV] C=1, gamma=3.162277660168379e-07, kernel=rbf ....................\n"
     ]
    },
    {
     "name": "stderr",
     "output_type": "stream",
     "text": [
      "[Parallel(n_jobs=3)]: Done   2 tasks      | elapsed:   20.1s\n"
     ]
    },
    {
     "name": "stdout",
     "output_type": "stream",
     "text": [
      "[CV]  C=1, gamma=3.162277660168379e-07, kernel=rbf, score=0.992239 -  13.5s\n",
      "[CV] C=1, gamma=1e-05, kernel=rbf ....................................\n",
      "[CV]  C=1, gamma=3.162277660168379e-07, kernel=rbf, score=0.994457 -  13.5s\n",
      "[CV] C=1, gamma=1e-05, kernel=rbf ....................................\n",
      "[CV]  C=1, gamma=3.162277660168379e-07, kernel=rbf, score=0.993348 -  13.7s\n",
      "[CV] C=1, gamma=1e-05, kernel=rbf ....................................\n",
      "[CV] ........... C=1, gamma=1e-05, kernel=rbf, score=0.506098 - 1.5min\n",
      "[CV] C=10, gamma=1e-08, kernel=rbf ...................................\n",
      "[CV] ........... C=1, gamma=1e-05, kernel=rbf, score=0.506098 - 1.5min\n",
      "[CV] C=10, gamma=1e-08, kernel=rbf ...................................\n"
     ]
    },
    {
     "name": "stderr",
     "output_type": "stream",
     "text": [
      "[Parallel(n_jobs=3)]: Done   7 tasks      | elapsed:  2.1min\n"
     ]
    },
    {
     "name": "stdout",
     "output_type": "stream",
     "text": [
      "[CV] ........... C=1, gamma=1e-05, kernel=rbf, score=0.506098 - 1.5min\n",
      "[CV] C=10, gamma=1e-08, kernel=rbf ...................................\n",
      "[CV] .......... C=10, gamma=1e-08, kernel=rbf, score=0.986696 -   7.9s\n",
      "[CV] C=10, gamma=3.162277660168379e-07, kernel=rbf ...................\n",
      "[CV] .......... C=10, gamma=1e-08, kernel=rbf, score=0.985033 -   8.1s\n",
      "[CV] C=10, gamma=3.162277660168379e-07, kernel=rbf ...................\n",
      "[CV] .......... C=10, gamma=1e-08, kernel=rbf, score=0.989468 -   8.1s\n",
      "[CV] C=10, gamma=3.162277660168379e-07, kernel=rbf ...................\n"
     ]
    },
    {
     "name": "stderr",
     "output_type": "stream",
     "text": [
      "[Parallel(n_jobs=3)]: Done  12 tasks      | elapsed:  2.2min\n"
     ]
    },
    {
     "name": "stdout",
     "output_type": "stream",
     "text": [
      "[CV]  C=10, gamma=3.162277660168379e-07, kernel=rbf, score=0.993348 -  12.1s\n",
      "[CV] C=10, gamma=1e-05, kernel=rbf ...................................\n",
      "[CV]  C=10, gamma=3.162277660168379e-07, kernel=rbf, score=0.993902 -  12.0s\n",
      "[CV] C=10, gamma=1e-05, kernel=rbf ...................................\n",
      "[CV]  C=10, gamma=3.162277660168379e-07, kernel=rbf, score=0.996120 -  12.4s\n",
      "[CV] C=10, gamma=1e-05, kernel=rbf ...................................\n",
      "[CV] .......... C=10, gamma=1e-05, kernel=rbf, score=0.506098 - 1.5min\n",
      "[CV] C=100, gamma=1e-08, kernel=rbf ..................................\n",
      "[CV] .......... C=10, gamma=1e-05, kernel=rbf, score=0.506098 - 1.5min\n",
      "[CV] C=100, gamma=1e-08, kernel=rbf ..................................\n",
      "[CV] .......... C=10, gamma=1e-05, kernel=rbf, score=0.506098 - 1.5min\n",
      "[CV] C=100, gamma=1e-08, kernel=rbf ..................................\n",
      "[CV] ......... C=100, gamma=1e-08, kernel=rbf, score=0.987251 -   6.1s\n",
      "[CV] C=100, gamma=3.162277660168379e-07, kernel=rbf ..................\n",
      "[CV] ......... C=100, gamma=1e-08, kernel=rbf, score=0.987251 -   6.0s\n",
      "[CV] C=100, gamma=3.162277660168379e-07, kernel=rbf ..................\n"
     ]
    },
    {
     "name": "stderr",
     "output_type": "stream",
     "text": [
      "[Parallel(n_jobs=3)]: Done  19 tasks      | elapsed:  4.0min\n"
     ]
    },
    {
     "name": "stdout",
     "output_type": "stream",
     "text": [
      "[CV] ......... C=100, gamma=1e-08, kernel=rbf, score=0.989468 -   6.4s\n",
      "[CV] C=100, gamma=3.162277660168379e-07, kernel=rbf ..................\n",
      "[CV]  C=100, gamma=3.162277660168379e-07, kernel=rbf, score=0.993902 -  13.0s\n",
      "[CV] C=100, gamma=1e-05, kernel=rbf ..................................\n",
      "[CV]  C=100, gamma=3.162277660168379e-07, kernel=rbf, score=0.993348 -  13.1s\n",
      "[CV] C=100, gamma=1e-05, kernel=rbf ..................................\n",
      "[CV]  C=100, gamma=3.162277660168379e-07, kernel=rbf, score=0.996120 -  13.9s\n",
      "[CV] C=100, gamma=1e-05, kernel=rbf ..................................\n",
      "[CV] ......... C=100, gamma=1e-05, kernel=rbf, score=0.506098 - 1.6min\n",
      "[CV] C=1000, gamma=1e-08, kernel=rbf .................................\n",
      "[CV] ......... C=100, gamma=1e-05, kernel=rbf, score=0.506098 - 1.6min\n",
      "[CV] C=1000, gamma=1e-08, kernel=rbf .................................\n"
     ]
    },
    {
     "name": "stderr",
     "output_type": "stream",
     "text": [
      "[Parallel(n_jobs=3)]: Done  26 tasks      | elapsed:  5.8min\n"
     ]
    },
    {
     "name": "stdout",
     "output_type": "stream",
     "text": [
      "[CV] ......... C=100, gamma=1e-05, kernel=rbf, score=0.506098 - 1.6min\n",
      "[CV] C=1000, gamma=1e-08, kernel=rbf .................................\n",
      "[CV] ........ C=1000, gamma=1e-08, kernel=rbf, score=0.984479 -   6.3s\n",
      "[CV] C=1000, gamma=3.162277660168379e-07, kernel=rbf .................\n",
      "[CV] ........ C=1000, gamma=1e-08, kernel=rbf, score=0.984479 -   6.4s\n",
      "[CV] C=1000, gamma=3.162277660168379e-07, kernel=rbf .................\n",
      "[CV] ........ C=1000, gamma=1e-08, kernel=rbf, score=0.990022 -   6.3s\n",
      "[CV] C=1000, gamma=3.162277660168379e-07, kernel=rbf .................\n",
      "[CV]  C=1000, gamma=3.162277660168379e-07, kernel=rbf, score=0.993902 -  11.7s\n",
      "[CV]  C=1000, gamma=3.162277660168379e-07, kernel=rbf, score=0.993348 -  11.9s\n",
      "[CV] C=1000, gamma=1e-05, kernel=rbf .................................\n",
      "[CV] C=1000, gamma=1e-05, kernel=rbf .................................\n",
      "[CV]  C=1000, gamma=3.162277660168379e-07, kernel=rbf, score=0.996120 -  12.5s\n",
      "[CV] C=1000, gamma=1e-05, kernel=rbf .................................\n",
      "[CV] ........ C=1000, gamma=1e-05, kernel=rbf, score=0.506098 - 1.5min\n",
      "[CV] ........ C=1000, gamma=1e-05, kernel=rbf, score=0.506098 - 1.5min\n",
      "[CV] ........ C=1000, gamma=1e-05, kernel=rbf, score=0.506098 - 1.5min\n"
     ]
    },
    {
     "name": "stderr",
     "output_type": "stream",
     "text": [
      "[Parallel(n_jobs=3)]: Done  36 out of  36 | elapsed:  7.6min finished\n"
     ]
    },
    {
     "data": {
      "text/plain": [
       "GridSearchCV(cv=3, error_score='raise',\n",
       "       estimator=SVC(C=1.0, cache_size=200, class_weight=None, coef0=0.0,\n",
       "  decision_function_shape='ovr', degree=3, gamma='auto', kernel='rbf',\n",
       "  max_iter=-1, probability=True, random_state=None, shrinking=True,\n",
       "  tol=0.001, verbose=False),\n",
       "       fit_params={}, iid=True, n_jobs=3,\n",
       "       param_grid={'C': [1, 10, 100, 1000], 'gamma': array([1.00000e-08, 3.16228e-07, 1.00000e-05]), 'kernel': ['rbf']},\n",
       "       pre_dispatch='2*n_jobs', refit=True, scoring=None, verbose=10)"
      ]
     },
     "execution_count": 15,
     "metadata": {},
     "output_type": "execute_result"
    }
   ],
   "source": [
    "svm_rbf = SVC(probability=True)\n",
    "\n",
    "param_grid_rbf = {\n",
    "    'C': [1, 10, 100, 1000], \n",
    "    'gamma' : np.logspace(-8,-5,3),\n",
    "    #'gamma': [1/X_train.shape[1], 10/X_train.shape[1]], \n",
    "    'kernel': ['rbf']\n",
    "}\n",
    "\n",
    "#to do: try 'gamma' : np.outer([1,5],np.logspace(-3, 0, 4)).flatten()\n",
    "\n",
    "grid_rbf = GridSearchCV(svm_rbf, cv=3, n_jobs=3, param_grid = param_grid_rbf, verbose=10)\n",
    "grid_rbf.fit(X_train, y_train)"
   ]
  },
  {
   "cell_type": "markdown",
   "metadata": {},
   "source": [
    "### Results"
   ]
  },
  {
   "cell_type": "code",
   "execution_count": 112,
   "metadata": {},
   "outputs": [
    {
     "name": "stdout",
     "output_type": "stream",
     "text": [
      "Best C value:\t\t  10\n",
      "Best gamma: \t\t  3.162277660168379e-07\n",
      "Total training time:      7.6 minutes\n",
      "Best score:\t          0.99446\n"
     ]
    }
   ],
   "source": [
    "print('Best C value:\\t\\t ',grid_rbf.best_params_['C'])\n",
    "print('Best gamma: \\t\\t ',grid_rbf.best_params_['gamma'])\n",
    "print('Total training time:      7.6 minutes')\n",
    "print('Best score:\\t         ', round(grid_rbf.best_score_,5))"
   ]
  },
  {
   "cell_type": "code",
   "execution_count": 18,
   "metadata": {
    "collapsed": true
   },
   "outputs": [],
   "source": [
    "y_rbf_probs_train = grid_rbf.predict_proba(X_train)[:,1]\n",
    "fpr_rbf_train, tpr_rbf_train, thresholds_rbf_train = roc_curve(y_train, y_rbf_probs_train)\n",
    "precision_rbf_train, recall_rbf_train, _rbf_tr = precision_recall_curve(y_train, y_rbf_probs_train)\n",
    "f1_rbf_train = f1_score(y_train,grid_rbf.predict(X_train))\n",
    "\n",
    "y_rbf_probs_test = grid_rbf.predict_proba(X_test)[:,1]\n",
    "fpr_rbf_test, tpr_rbf_test, thresholds_rbf_test = roc_curve(y_test, y_rbf_probs_test)\n",
    "precision_rbf_test, recall_rbf_test, _rbf_tr = precision_recall_curve(y_test, y_rbf_probs_test)\n",
    "f1_rbf_test = f1_score(y_test,grid_rbf.predict(X_test))"
   ]
  },
  {
   "cell_type": "code",
   "execution_count": 333,
   "metadata": {},
   "outputs": [
    {
     "data": {
      "image/png": "[encoded data removed]",
      "text/plain": [
       "<matplotlib.figure.Figure at 0x117ef9dd8>"
      ]
     },
     "metadata": {},
     "output_type": "display_data"
    }
   ],
   "source": [
    "fig, axes = plt.subplots(1,2,figsize=(10,5))\n",
    "\n",
    "axes[0].plot(fpr_rbf_train,tpr_rbf_train,label='Training set')\n",
    "axes[0].plot(fpr_rbf_test,tpr_rbf_test,label='Test set')\n",
    "\n",
    "\n",
    "axes[0].set_xlabel('False Positive Rate')\n",
    "axes[0].set_ylabel('True Positive Rate')\n",
    "axes[0].set_title( r'$\\bf{ROC\\ Curve}$' + '\\n AUC of the training set: {}\\nAUC of the test set: {}'.format(round(auc(fpr_rbf_train,tpr_rbf_train),4),round(auc(fpr_rbf_test,tpr_rbf_test),4)))\n",
    "axes[0].legend()\n",
    "\n",
    "axes[1].plot(recall_rbf_train,precision_rbf_train,label='Training set')\n",
    "axes[1].plot(recall_rbf_test,precision_rbf_test,label='Test set',linewidth=1)\n",
    "\n",
    "axes[1].set_ylabel('Precision')\n",
    "axes[1].set_xlabel('Recall')\n",
    "axes[1].set_title( r'$\\bf{Precision\\ vs\\ Recall}$' + '\\n F1 score of the training set: {}\\nF1 score of the test set: {}'.format(round(f1_rbf_train,4),round(f1_rbf_test,4)))\n",
    "axes[1].legend()\n",
    "\n",
    "plt.subplots_adjust(wspace=0.5,hspace=.25)\n",
    "plt.tight_layout()\n",
    "\n",
    "plt.show()"
   ]
  },
  {
   "cell_type": "markdown",
   "metadata": {},
   "source": [
    "# Kernel comparison analysis\n",
    "\n",
    "### Verbose parsing"
   ]
  },
  {
   "cell_type": "code",
   "execution_count": 40,
   "metadata": {},
   "outputs": [],
   "source": [
    "verb_lin = \"\"\"\n",
    "[CV] C=0.001, kernel=linear ..........................................\n",
    "[CV] C=0.001, kernel=linear ..........................................\n",
    "[CV] C=0.001, kernel=linear ..........................................\n",
    "[CV] ................. C=0.001, kernel=linear, score=0.983370 -   5.2s\n",
    "[CV] C=0.01, kernel=linear ...........................................\n",
    "[CV] ................. C=0.001, kernel=linear, score=0.982262 -   5.6s\n",
    "[CV] C=0.01, kernel=linear ...........................................\n",
    "[CV] ................. C=0.001, kernel=linear, score=0.986142 -   5.9s\n",
    "[CV] C=0.01, kernel=linear ...........................................\n",
    "[CV] .................. C=0.01, kernel=linear, score=0.983370 -   5.2s\n",
    "[CV] C=0.1, kernel=linear ............................................\n",
    "[CV] .................. C=0.01, kernel=linear, score=0.982262 -   5.7s\n",
    "[CV] C=0.1, kernel=linear ............................................\n",
    "[CV] .................. C=0.01, kernel=linear, score=0.986142 -   6.2s\n",
    "[CV] C=0.1, kernel=linear ............................................\n",
    "[CV] ................... C=0.1, kernel=linear, score=0.983370 -   6.8s\n",
    "[CV] C=1, kernel=linear ..............................................\n",
    "[CV] ................... C=0.1, kernel=linear, score=0.982262 -   7.3s\n",
    "[CV] C=1, kernel=linear ..............................................\n",
    "[CV] ................... C=0.1, kernel=linear, score=0.986142 -   7.6s\n",
    "[CV] C=1, kernel=linear ..............................................\n",
    "[CV] ..................... C=1, kernel=linear, score=0.983370 -   6.0s\n",
    "[CV] C=10, kernel=linear .............................................\n",
    "[CV] ..................... C=1, kernel=linear, score=0.982262 -   6.2s\n",
    "[CV] C=10, kernel=linear .............................................\n",
    "[CV] ..................... C=1, kernel=linear, score=0.986142 -   6.7s\n",
    "[CV] C=10, kernel=linear .............................................\n",
    "[CV] .................... C=10, kernel=linear, score=0.983370 -   5.7s\n",
    "[CV] C=100, kernel=linear ............................................\n",
    "[CV] .................... C=10, kernel=linear, score=0.982262 -   5.9s\n",
    "[CV] C=100, kernel=linear ............................................\n",
    "[CV] .................... C=10, kernel=linear, score=0.986142 -   6.3s\n",
    "[CV] C=100, kernel=linear ............................................\n",
    "[CV] ................... C=100, kernel=linear, score=0.983370 -   5.6s\n",
    "[CV] C=1000, kernel=linear ...........................................\n",
    "[CV] ................... C=100, kernel=linear, score=0.982262 -   5.9s\n",
    "[CV] C=1000, kernel=linear ...........................................\n",
    "[CV] ................... C=100, kernel=linear, score=0.986142 -   6.2s\n",
    "[CV] C=1000, kernel=linear ...........................................\n",
    "[CV] .................. C=1000, kernel=linear, score=0.983370 -   5.6s\n",
    "[CV] .................. C=1000, kernel=linear, score=0.982262 -   6.2s\n",
    "[CV] .................. C=1000, kernel=linear, score=0.986142 -   6.8s\n",
    "\"\"\"\n",
    "\n",
    "jobs_lin = [float(x[:-1]) for x in (re.findall('..[0-9]s',verb_lin))]"
   ]
  },
  {
   "cell_type": "code",
   "execution_count": 41,
   "metadata": {},
   "outputs": [],
   "source": [
    "verb_poly = \"\"\"\n",
    "[CV] C=0.001, degree=2, gamma=0.0012755102040816326, kernel=poly .....\n",
    "[CV] C=0.001, degree=2, gamma=0.0012755102040816326, kernel=poly .....\n",
    "[CV] C=0.001, degree=2, gamma=0.0012755102040816326, kernel=poly .....\n",
    "[CV]  C=0.001, degree=2, gamma=0.0012755102040816326, kernel=poly, score=0.995011 -   6.7s\n",
    "[CV] C=0.001, degree=2, gamma=0.012755102040816327, kernel=poly ......\n",
    "[CV]  C=0.001, degree=2, gamma=0.0012755102040816326, kernel=poly, score=0.991685 -   6.8s\n",
    "[CV] C=0.001, degree=2, gamma=0.012755102040816327, kernel=poly ......\n",
    "[CV]  C=0.001, degree=2, gamma=0.0012755102040816326, kernel=poly, score=0.993348 -   7.1s\n",
    "[CV] C=0.001, degree=2, gamma=0.012755102040816327, kernel=poly ......\n",
    "[CV]  C=0.001, degree=2, gamma=0.012755102040816327, kernel=poly, score=0.991685 -   7.2s\n",
    "[CV] C=0.001, degree=3, gamma=0.0012755102040816326, kernel=poly .....\n",
    "[CV]  C=0.001, degree=2, gamma=0.012755102040816327, kernel=poly, score=0.995011 -   7.2s\n",
    "[CV] C=0.001, degree=3, gamma=0.0012755102040816326, kernel=poly .....\n",
    "[CV]  C=0.001, degree=2, gamma=0.012755102040816327, kernel=poly, score=0.993348 -   7.5s\n",
    "[CV] C=0.001, degree=3, gamma=0.0012755102040816326, kernel=poly .....\n",
    "[CV]  C=0.001, degree=3, gamma=0.0012755102040816326, kernel=poly, score=0.993902 -   7.0s\n",
    "[CV] C=0.001, degree=3, gamma=0.012755102040816327, kernel=poly ......\n",
    "[CV]  C=0.001, degree=3, gamma=0.0012755102040816326, kernel=poly, score=0.992794 -   7.5s\n",
    "[CV] C=0.001, degree=3, gamma=0.012755102040816327, kernel=poly ......\n",
    "[CV]  C=0.001, degree=3, gamma=0.0012755102040816326, kernel=poly, score=0.992794 -   7.4s\n",
    "[CV] C=0.001, degree=3, gamma=0.012755102040816327, kernel=poly ......\n",
    "[CV]  C=0.001, degree=3, gamma=0.012755102040816327, kernel=poly, score=0.993902 -   7.1s\n",
    "[CV] C=0.001, degree=4, gamma=0.0012755102040816326, kernel=poly .....\n",
    "[CV]  C=0.001, degree=3, gamma=0.012755102040816327, kernel=poly, score=0.992794 -   7.6s\n",
    "[CV] C=0.001, degree=4, gamma=0.0012755102040816326, kernel=poly .....\n",
    "[CV]  C=0.001, degree=3, gamma=0.012755102040816327, kernel=poly, score=0.992794 -   7.7s\n",
    "[CV] C=0.001, degree=4, gamma=0.0012755102040816326, kernel=poly .....\n",
    "[CV]  C=0.001, degree=4, gamma=0.0012755102040816326, kernel=poly, score=0.992239 -   9.9s\n",
    "[CV] C=0.001, degree=4, gamma=0.012755102040816327, kernel=poly ......\n",
    "[CV]  C=0.001, degree=4, gamma=0.0012755102040816326, kernel=poly, score=0.992239 -  10.6s\n",
    "[CV] C=0.001, degree=4, gamma=0.012755102040816327, kernel=poly ......\n",
    "[CV]  C=0.001, degree=4, gamma=0.0012755102040816326, kernel=poly, score=0.991131 -  10.6s\n",
    "[CV] C=0.001, degree=4, gamma=0.012755102040816327, kernel=poly ......\n",
    "[CV]  C=0.001, degree=4, gamma=0.012755102040816327, kernel=poly, score=0.992239 -   9.3s\n",
    "[CV] C=0.01, degree=2, gamma=0.0012755102040816326, kernel=poly ......\n",
    "[CV]  C=0.001, degree=4, gamma=0.012755102040816327, kernel=poly, score=0.992239 -  10.1s\n",
    "[CV] C=0.01, degree=2, gamma=0.0012755102040816326, kernel=poly ......\n",
    "[CV]  C=0.001, degree=4, gamma=0.012755102040816327, kernel=poly, score=0.991131 -   9.8s\n",
    "[CV] C=0.01, degree=2, gamma=0.0012755102040816326, kernel=poly ......\n",
    "[CV]  C=0.01, degree=2, gamma=0.0012755102040816326, kernel=poly, score=0.991685 -   7.8s\n",
    "[CV] C=0.01, degree=2, gamma=0.012755102040816327, kernel=poly .......\n",
    "[CV]  C=0.01, degree=2, gamma=0.0012755102040816326, kernel=poly, score=0.995011 -   7.8s\n",
    "[CV] C=0.01, degree=2, gamma=0.012755102040816327, kernel=poly .......\n",
    "[CV]  C=0.01, degree=2, gamma=0.0012755102040816326, kernel=poly, score=0.993348 -   7.9s\n",
    "[CV] C=0.01, degree=2, gamma=0.012755102040816327, kernel=poly .......\n",
    "[CV]  C=0.01, degree=2, gamma=0.012755102040816327, kernel=poly, score=0.991685 -   7.9s\n",
    "[CV] C=0.01, degree=3, gamma=0.0012755102040816326, kernel=poly ......\n",
    "[CV]  C=0.01, degree=2, gamma=0.012755102040816327, kernel=poly, score=0.995011 -   8.0s\n",
    "[CV] C=0.01, degree=3, gamma=0.0012755102040816326, kernel=poly ......\n",
    "[CV]  C=0.01, degree=2, gamma=0.012755102040816327, kernel=poly, score=0.993348 -   8.9s\n",
    "[CV] C=0.01, degree=3, gamma=0.0012755102040816326, kernel=poly ......\n",
    "[CV]  C=0.01, degree=3, gamma=0.0012755102040816326, kernel=poly, score=0.993902 -   8.6s\n",
    "[CV] C=0.01, degree=3, gamma=0.012755102040816327, kernel=poly .......\n",
    "[CV]  C=0.01, degree=3, gamma=0.0012755102040816326, kernel=poly, score=0.992794 -   9.1s\n",
    "[CV] C=0.01, degree=3, gamma=0.012755102040816327, kernel=poly .......\n",
    "[CV]  C=0.01, degree=3, gamma=0.0012755102040816326, kernel=poly, score=0.992794 -   8.8s\n",
    "[CV] C=0.01, degree=3, gamma=0.012755102040816327, kernel=poly .......\n",
    "[CV]  C=0.01, degree=3, gamma=0.012755102040816327, kernel=poly, score=0.993902 -   7.6s\n",
    "[CV] C=0.01, degree=4, gamma=0.0012755102040816326, kernel=poly ......\n",
    "[CV]  C=0.01, degree=3, gamma=0.012755102040816327, kernel=poly, score=0.992794 -   8.2s\n",
    "[CV] C=0.01, degree=4, gamma=0.0012755102040816326, kernel=poly ......\n",
    "[CV]  C=0.01, degree=3, gamma=0.012755102040816327, kernel=poly, score=0.992794 -   7.8s\n",
    "[CV] C=0.01, degree=4, gamma=0.0012755102040816326, kernel=poly ......\n",
    "[CV]  C=0.01, degree=4, gamma=0.0012755102040816326, kernel=poly, score=0.992239 -   7.7s\n",
    "[CV] C=0.01, degree=4, gamma=0.012755102040816327, kernel=poly .......\n",
    "[CV]  C=0.01, degree=4, gamma=0.0012755102040816326, kernel=poly, score=0.992239 -   8.5s\n",
    "[CV] C=0.01, degree=4, gamma=0.012755102040816327, kernel=poly .......\n",
    "[CV]  C=0.01, degree=4, gamma=0.0012755102040816326, kernel=poly, score=0.991131 -   8.8s\n",
    "[CV] C=0.01, degree=4, gamma=0.012755102040816327, kernel=poly .......\n",
    "[CV]  C=0.01, degree=4, gamma=0.012755102040816327, kernel=poly, score=0.992239 -   9.0s\n",
    "[CV] C=0.1, degree=2, gamma=0.0012755102040816326, kernel=poly .......\n",
    "[CV]  C=0.01, degree=4, gamma=0.012755102040816327, kernel=poly, score=0.992239 -   9.6s\n",
    "[CV] C=0.1, degree=2, gamma=0.0012755102040816326, kernel=poly .......\n",
    "[CV]  C=0.01, degree=4, gamma=0.012755102040816327, kernel=poly, score=0.991131 -   9.3s\n",
    "[CV] C=0.1, degree=2, gamma=0.0012755102040816326, kernel=poly .......\n",
    "[CV]  C=0.1, degree=2, gamma=0.0012755102040816326, kernel=poly, score=0.991685 -   7.8s\n",
    "[CV] C=0.1, degree=2, gamma=0.012755102040816327, kernel=poly ........\n",
    "[CV]  C=0.1, degree=2, gamma=0.0012755102040816326, kernel=poly, score=0.995011 -   7.8s\n",
    "[CV] C=0.1, degree=2, gamma=0.012755102040816327, kernel=poly ........\n",
    "[CV]  C=0.1, degree=2, gamma=0.0012755102040816326, kernel=poly, score=0.993348 -   7.9s\n",
    "[CV] C=0.1, degree=2, gamma=0.012755102040816327, kernel=poly ........\n",
    "[CV]  C=0.1, degree=2, gamma=0.012755102040816327, kernel=poly, score=0.991685 -   7.3s\n",
    "[CV] C=0.1, degree=3, gamma=0.0012755102040816326, kernel=poly .......\n",
    "[CV]  C=0.1, degree=2, gamma=0.012755102040816327, kernel=poly, score=0.995011 -   7.3s\n",
    "[CV] C=0.1, degree=3, gamma=0.0012755102040816326, kernel=poly .......\n",
    "[CV]  C=0.1, degree=2, gamma=0.012755102040816327, kernel=poly, score=0.993348 -   7.5s\n",
    "[CV] C=0.1, degree=3, gamma=0.0012755102040816326, kernel=poly .......\n",
    "[CV]  C=0.1, degree=3, gamma=0.0012755102040816326, kernel=poly, score=0.993902 -   7.3s\n",
    "[CV] C=0.1, degree=3, gamma=0.012755102040816327, kernel=poly ........\n",
    "[CV]  C=0.1, degree=3, gamma=0.0012755102040816326, kernel=poly, score=0.992794 -   7.8s\n",
    "[CV] C=0.1, degree=3, gamma=0.012755102040816327, kernel=poly ........\n",
    "[CV]  C=0.1, degree=3, gamma=0.0012755102040816326, kernel=poly, score=0.992794 -   9.0s\n",
    "[CV] C=0.1, degree=3, gamma=0.012755102040816327, kernel=poly ........\n",
    "[CV]  C=0.1, degree=3, gamma=0.012755102040816327, kernel=poly, score=0.993902 -   8.6s\n",
    "[CV] C=0.1, degree=4, gamma=0.0012755102040816326, kernel=poly .......\n",
    "[CV]  C=0.1, degree=3, gamma=0.012755102040816327, kernel=poly, score=0.992794 -   9.3s\n",
    "[CV] C=0.1, degree=4, gamma=0.0012755102040816326, kernel=poly .......\n",
    "[CV]  C=0.1, degree=3, gamma=0.012755102040816327, kernel=poly, score=0.992794 -   8.3s\n",
    "[CV] C=0.1, degree=4, gamma=0.0012755102040816326, kernel=poly .......\n",
    "[CV]  C=0.1, degree=4, gamma=0.0012755102040816326, kernel=poly, score=0.992239 -   8.1s\n",
    "[CV] C=0.1, degree=4, gamma=0.012755102040816327, kernel=poly ........\n",
    "[CV]  C=0.1, degree=4, gamma=0.0012755102040816326, kernel=poly, score=0.992239 -   8.7s\n",
    "[CV] C=0.1, degree=4, gamma=0.012755102040816327, kernel=poly ........\n",
    "[CV]  C=0.1, degree=4, gamma=0.0012755102040816326, kernel=poly, score=0.991131 -   8.6s\n",
    "[CV] C=0.1, degree=4, gamma=0.012755102040816327, kernel=poly ........\n",
    "[CV]  C=0.1, degree=4, gamma=0.012755102040816327, kernel=poly, score=0.992239 -   7.9s\n",
    "[CV] C=1, degree=2, gamma=0.0012755102040816326, kernel=poly .........\n",
    "[CV]  C=0.1, degree=4, gamma=0.012755102040816327, kernel=poly, score=0.992239 -   8.5s\n",
    "[CV] C=1, degree=2, gamma=0.0012755102040816326, kernel=poly .........\n",
    "[CV]  C=0.1, degree=4, gamma=0.012755102040816327, kernel=poly, score=0.991131 -   9.2s\n",
    "[CV] C=1, degree=2, gamma=0.0012755102040816326, kernel=poly .........\n",
    "[CV]  C=1, degree=2, gamma=0.0012755102040816326, kernel=poly, score=0.991685 -   8.1s\n",
    "[CV] C=1, degree=2, gamma=0.012755102040816327, kernel=poly ..........\n",
    "[CV]  C=1, degree=2, gamma=0.0012755102040816326, kernel=poly, score=0.995011 -   8.1s\n",
    "[CV] C=1, degree=2, gamma=0.012755102040816327, kernel=poly ..........\n",
    "[CV]  C=1, degree=2, gamma=0.0012755102040816326, kernel=poly, score=0.993348 -   7.7s\n",
    "[CV] C=1, degree=2, gamma=0.012755102040816327, kernel=poly ..........\n",
    "[CV]  C=1, degree=2, gamma=0.012755102040816327, kernel=poly, score=0.991685 -   7.4s\n",
    "[CV] C=1, degree=3, gamma=0.0012755102040816326, kernel=poly .........\n",
    "[CV]  C=1, degree=2, gamma=0.012755102040816327, kernel=poly, score=0.995011 -   7.4s\n",
    "[CV] C=1, degree=3, gamma=0.0012755102040816326, kernel=poly .........\n",
    "[CV]  C=1, degree=2, gamma=0.012755102040816327, kernel=poly, score=0.993348 -   8.0s\n",
    "[CV] C=1, degree=3, gamma=0.0012755102040816326, kernel=poly .........\n",
    "[CV]  C=1, degree=3, gamma=0.0012755102040816326, kernel=poly, score=0.993902 -   7.6s\n",
    "[CV] C=1, degree=3, gamma=0.012755102040816327, kernel=poly ..........\n",
    "[CV]  C=1, degree=3, gamma=0.0012755102040816326, kernel=poly, score=0.992794 -   8.2s\n",
    "[CV] C=1, degree=3, gamma=0.012755102040816327, kernel=poly ..........\n",
    "[CV]  C=1, degree=3, gamma=0.0012755102040816326, kernel=poly, score=0.992794 -   8.3s\n",
    "[CV] C=1, degree=3, gamma=0.012755102040816327, kernel=poly ..........\n",
    "[CV]  C=1, degree=3, gamma=0.012755102040816327, kernel=poly, score=0.993902 -   8.0s\n",
    "[CV] C=1, degree=4, gamma=0.0012755102040816326, kernel=poly .........\n",
    "[CV]  C=1, degree=3, gamma=0.012755102040816327, kernel=poly, score=0.992794 -   8.7s\n",
    "[CV] C=1, degree=4, gamma=0.0012755102040816326, kernel=poly .........\n",
    "[CV]  C=1, degree=3, gamma=0.012755102040816327, kernel=poly, score=0.992794 -   8.4s\n",
    "[CV] C=1, degree=4, gamma=0.0012755102040816326, kernel=poly .........\n",
    "[CV]  C=1, degree=4, gamma=0.0012755102040816326, kernel=poly, score=0.992239 -   8.2s\n",
    "[CV] C=1, degree=4, gamma=0.012755102040816327, kernel=poly ..........\n",
    "[CV]  C=1, degree=4, gamma=0.0012755102040816326, kernel=poly, score=0.992239 -   8.9s\n",
    "[CV] C=1, degree=4, gamma=0.012755102040816327, kernel=poly ..........\n",
    "[CV]  C=1, degree=4, gamma=0.0012755102040816326, kernel=poly, score=0.991131 -   8.3s\n",
    "[CV] C=1, degree=4, gamma=0.012755102040816327, kernel=poly ..........\n",
    "[CV]  C=1, degree=4, gamma=0.012755102040816327, kernel=poly, score=0.992239 -   7.8s\n",
    "[CV] C=10, degree=2, gamma=0.0012755102040816326, kernel=poly ........\n",
    "[CV]  C=1, degree=4, gamma=0.012755102040816327, kernel=poly, score=0.992239 -   8.4s\n",
    "[CV] C=10, degree=2, gamma=0.0012755102040816326, kernel=poly ........\n",
    "[CV]  C=1, degree=4, gamma=0.012755102040816327, kernel=poly, score=0.991131 -   8.6s\n",
    "[CV] C=10, degree=2, gamma=0.0012755102040816326, kernel=poly ........\n",
    "[CV]  C=10, degree=2, gamma=0.0012755102040816326, kernel=poly, score=0.991685 -   7.5s\n",
    "[CV] C=10, degree=2, gamma=0.012755102040816327, kernel=poly .........\n",
    "[CV]  C=10, degree=2, gamma=0.0012755102040816326, kernel=poly, score=0.995011 -   7.6s\n",
    "[CV] C=10, degree=2, gamma=0.012755102040816327, kernel=poly .........\n",
    "[CV]  C=10, degree=2, gamma=0.0012755102040816326, kernel=poly, score=0.993348 -   8.6s\n",
    "[CV] C=10, degree=2, gamma=0.012755102040816327, kernel=poly .........\n",
    "[CV]  C=10, degree=2, gamma=0.012755102040816327, kernel=poly, score=0.991685 -   8.3s\n",
    "[CV] C=10, degree=3, gamma=0.0012755102040816326, kernel=poly ........\n",
    "[CV]  C=10, degree=2, gamma=0.012755102040816327, kernel=poly, score=0.995011 -   8.5s\n",
    "[CV] C=10, degree=3, gamma=0.0012755102040816326, kernel=poly ........\n",
    "[CV]  C=10, degree=2, gamma=0.012755102040816327, kernel=poly, score=0.993348 -   8.7s\n",
    "[CV] C=10, degree=3, gamma=0.0012755102040816326, kernel=poly ........\n",
    "[CV]  C=10, degree=3, gamma=0.0012755102040816326, kernel=poly, score=0.992794 -   9.2s\n",
    "[CV] C=10, degree=3, gamma=0.012755102040816327, kernel=poly .........\n",
    "[CV]  C=10, degree=3, gamma=0.0012755102040816326, kernel=poly, score=0.993902 -   8.6s\n",
    "[CV] C=10, degree=3, gamma=0.012755102040816327, kernel=poly .........\n",
    "[CV]  C=10, degree=3, gamma=0.0012755102040816326, kernel=poly, score=0.992794 -   7.8s\n",
    "[CV] C=10, degree=3, gamma=0.012755102040816327, kernel=poly .........\n",
    "[CV]  C=10, degree=3, gamma=0.012755102040816327, kernel=poly, score=0.993902 -   7.4s\n",
    "[CV] C=10, degree=4, gamma=0.0012755102040816326, kernel=poly ........\n",
    "[CV]  C=10, degree=3, gamma=0.012755102040816327, kernel=poly, score=0.992794 -   7.9s\n",
    "[CV] C=10, degree=4, gamma=0.0012755102040816326, kernel=poly ........\n",
    "[CV]  C=10, degree=3, gamma=0.012755102040816327, kernel=poly, score=0.992794 -   8.1s\n",
    "[CV] C=10, degree=4, gamma=0.0012755102040816326, kernel=poly ........\n",
    "[CV]  C=10, degree=4, gamma=0.0012755102040816326, kernel=poly, score=0.992239 -   7.8s\n",
    "[CV] C=10, degree=4, gamma=0.012755102040816327, kernel=poly .........\n",
    "[CV]  C=10, degree=4, gamma=0.0012755102040816326, kernel=poly, score=0.992239 -   8.6s\n",
    "[CV] C=10, degree=4, gamma=0.012755102040816327, kernel=poly .........\n",
    "[CV]  C=10, degree=4, gamma=0.0012755102040816326, kernel=poly, score=0.991131 -   8.2s\n",
    "[CV] C=10, degree=4, gamma=0.012755102040816327, kernel=poly .........\n",
    "[CV]  C=10, degree=4, gamma=0.012755102040816327, kernel=poly, score=0.992239 -   7.5s\n",
    "[CV] C=100, degree=2, gamma=0.0012755102040816326, kernel=poly .......\n",
    "[CV]  C=10, degree=4, gamma=0.012755102040816327, kernel=poly, score=0.992239 -   8.2s\n",
    "[CV] C=100, degree=2, gamma=0.0012755102040816326, kernel=poly .......\n",
    "[CV]  C=100, degree=2, gamma=0.0012755102040816326, kernel=poly, score=0.991685 -   6.5s\n",
    "[CV] C=100, degree=2, gamma=0.0012755102040816326, kernel=poly .......\n",
    "[CV]  C=100, degree=2, gamma=0.0012755102040816326, kernel=poly, score=0.995011 -   6.7s\n",
    "[CV] C=100, degree=2, gamma=0.012755102040816327, kernel=poly ........\n",
    "[CV]  C=10, degree=4, gamma=0.012755102040816327, kernel=poly, score=0.991131 -   7.9s\n",
    "[CV] C=100, degree=2, gamma=0.012755102040816327, kernel=poly ........\n",
    "[CV]  C=100, degree=2, gamma=0.0012755102040816326, kernel=poly, score=0.993348 -   7.0s\n",
    "[CV] C=100, degree=2, gamma=0.012755102040816327, kernel=poly ........\n",
    "[CV]  C=100, degree=2, gamma=0.012755102040816327, kernel=poly, score=0.991685 -   6.7s\n",
    "[CV] C=100, degree=3, gamma=0.0012755102040816326, kernel=poly .......\n",
    "[CV]  C=100, degree=2, gamma=0.012755102040816327, kernel=poly, score=0.995011 -   6.7s\n",
    "[CV] C=100, degree=3, gamma=0.0012755102040816326, kernel=poly .......\n",
    "[CV]  C=100, degree=2, gamma=0.012755102040816327, kernel=poly, score=0.993348 -   6.7s\n",
    "[CV] C=100, degree=3, gamma=0.0012755102040816326, kernel=poly .......\n",
    "[CV]  C=100, degree=3, gamma=0.0012755102040816326, kernel=poly, score=0.993902 -   6.8s\n",
    "[CV] C=100, degree=3, gamma=0.012755102040816327, kernel=poly ........\n",
    "[CV]  C=100, degree=3, gamma=0.0012755102040816326, kernel=poly, score=0.992794 -   7.2s\n",
    "[CV] C=100, degree=3, gamma=0.012755102040816327, kernel=poly ........\n",
    "[CV]  C=100, degree=3, gamma=0.0012755102040816326, kernel=poly, score=0.992794 -   7.5s\n",
    "[CV] C=100, degree=3, gamma=0.012755102040816327, kernel=poly ........\n",
    "[CV]  C=100, degree=3, gamma=0.012755102040816327, kernel=poly, score=0.993902 -   7.1s\n",
    "[CV] C=100, degree=4, gamma=0.0012755102040816326, kernel=poly .......\n",
    "[CV]  C=100, degree=3, gamma=0.012755102040816327, kernel=poly, score=0.992794 -   7.5s\n",
    "[CV] C=100, degree=4, gamma=0.0012755102040816326, kernel=poly .......\n",
    "[CV]  C=100, degree=3, gamma=0.012755102040816327, kernel=poly, score=0.992794 -   7.2s\n",
    "[CV] C=100, degree=4, gamma=0.0012755102040816326, kernel=poly .......\n",
    "[CV]  C=100, degree=4, gamma=0.0012755102040816326, kernel=poly, score=0.992239 -   7.3s\n",
    "[CV] C=100, degree=4, gamma=0.012755102040816327, kernel=poly ........\n",
    "[CV]  C=100, degree=4, gamma=0.0012755102040816326, kernel=poly, score=0.992239 -   7.8s\n",
    "[CV] C=100, degree=4, gamma=0.012755102040816327, kernel=poly ........\n",
    "[CV]  C=100, degree=4, gamma=0.0012755102040816326, kernel=poly, score=0.991131 -   8.2s\n",
    "[CV] C=100, degree=4, gamma=0.012755102040816327, kernel=poly ........\n",
    "[CV]  C=100, degree=4, gamma=0.012755102040816327, kernel=poly, score=0.992239 -   7.7s\n",
    "[CV] C=1000, degree=2, gamma=0.0012755102040816326, kernel=poly ......\n",
    "[CV]  C=100, degree=4, gamma=0.012755102040816327, kernel=poly, score=0.992239 -   8.3s\n",
    "[CV] C=1000, degree=2, gamma=0.0012755102040816326, kernel=poly ......\n",
    "[CV]  C=1000, degree=2, gamma=0.0012755102040816326, kernel=poly, score=0.991685 -   6.5s\n",
    "[CV] C=1000, degree=2, gamma=0.0012755102040816326, kernel=poly ......\n",
    "[CV]  C=1000, degree=2, gamma=0.0012755102040816326, kernel=poly, score=0.995011 -   6.5s\n",
    "[CV] C=1000, degree=2, gamma=0.012755102040816327, kernel=poly .......\n",
    "[CV]  C=100, degree=4, gamma=0.012755102040816327, kernel=poly, score=0.991131 -   7.8s\n",
    "[CV] C=1000, degree=2, gamma=0.012755102040816327, kernel=poly .......\n",
    "[CV]  C=1000, degree=2, gamma=0.0012755102040816326, kernel=poly, score=0.993348 -   7.1s\n",
    "[CV] C=1000, degree=2, gamma=0.012755102040816327, kernel=poly .......\n",
    "[CV]  C=1000, degree=2, gamma=0.012755102040816327, kernel=poly, score=0.991685 -   6.9s\n",
    "[CV] C=1000, degree=3, gamma=0.0012755102040816326, kernel=poly ......\n",
    "[CV]  C=1000, degree=2, gamma=0.012755102040816327, kernel=poly, score=0.995011 -   7.2s\n",
    "[CV] C=1000, degree=3, gamma=0.0012755102040816326, kernel=poly ......\n",
    "[CV]  C=1000, degree=2, gamma=0.012755102040816327, kernel=poly, score=0.993348 -   7.6s\n",
    "[CV] C=1000, degree=3, gamma=0.0012755102040816326, kernel=poly ......\n",
    "[CV]  C=1000, degree=3, gamma=0.0012755102040816326, kernel=poly, score=0.992794 -   8.0s\n",
    "[CV] C=1000, degree=3, gamma=0.012755102040816327, kernel=poly .......\n",
    "[CV]  C=1000, degree=3, gamma=0.0012755102040816326, kernel=poly, score=0.993902 -   7.5s\n",
    "[CV] C=1000, degree=3, gamma=0.012755102040816327, kernel=poly .......\n",
    "[CV]  C=1000, degree=3, gamma=0.0012755102040816326, kernel=poly, score=0.992794 -   7.3s\n",
    "[CV] C=1000, degree=3, gamma=0.012755102040816327, kernel=poly .......\n",
    "[CV]  C=1000, degree=3, gamma=0.012755102040816327, kernel=poly, score=0.993902 -   7.0s\n",
    "[CV] C=1000, degree=4, gamma=0.0012755102040816326, kernel=poly ......\n",
    "[CV]  C=1000, degree=3, gamma=0.012755102040816327, kernel=poly, score=0.992794 -   7.4s\n",
    "[CV] C=1000, degree=4, gamma=0.0012755102040816326, kernel=poly ......\n",
    "[CV]  C=1000, degree=3, gamma=0.012755102040816327, kernel=poly, score=0.992794 -   7.5s\n",
    "[CV] C=1000, degree=4, gamma=0.0012755102040816326, kernel=poly ......\n",
    "[CV]  C=1000, degree=4, gamma=0.0012755102040816326, kernel=poly, score=0.992239 -   7.4s\n",
    "[CV] C=1000, degree=4, gamma=0.012755102040816327, kernel=poly .......\n",
    "[CV]  C=1000, degree=4, gamma=0.0012755102040816326, kernel=poly, score=0.992239 -   7.9s\n",
    "[CV] C=1000, degree=4, gamma=0.012755102040816327, kernel=poly .......\n",
    "[CV]  C=1000, degree=4, gamma=0.0012755102040816326, kernel=poly, score=0.991131 -   8.3s\n",
    "[CV] C=1000, degree=4, gamma=0.012755102040816327, kernel=poly .......\n",
    "[CV]  C=1000, degree=4, gamma=0.012755102040816327, kernel=poly, score=0.992239 -   7.9s\n",
    "[CV]  C=1000, degree=4, gamma=0.012755102040816327, kernel=poly, score=0.992239 -   8.4s\n",
    "[CV]  C=1000, degree=4, gamma=0.012755102040816327, kernel=poly, score=0.991131 -   8.0s\n",
    "\"\"\"\n",
    "jobs_poly = [float(x[:-1]) for x in (re.findall('..[0-9]s',verb_poly))]"
   ]
  },
  {
   "cell_type": "code",
   "execution_count": 184,
   "metadata": {},
   "outputs": [],
   "source": [
    "verb_rbf = \"\"\"\n",
    "[CV] C=1, gamma=1e-08, kernel=rbf ....................................\n",
    "[CV] C=1, gamma=1e-08, kernel=rbf ....................................\n",
    "[CV] C=1, gamma=1e-08, kernel=rbf ....................................\n",
    "[CV] ........... C=1, gamma=1e-08, kernel=rbf, score=0.982262 -  19.9s\n",
    "[CV] C=1, gamma=3.162277660168379e-07, kernel=rbf ....................\n",
    "[CV] ........... C=1, gamma=1e-08, kernel=rbf, score=0.983925 -  20.0s\n",
    "[CV] C=1, gamma=3.162277660168379e-07, kernel=rbf ....................\n",
    "[CV] ........... C=1, gamma=1e-08, kernel=rbf, score=0.986142 -  20.1s\n",
    "[CV] C=1, gamma=3.162277660168379e-07, kernel=rbf ....................\n",
    "[CV]  C=1, gamma=3.162277660168379e-07, kernel=rbf, score=0.992239 -  13.5s\n",
    "[CV] C=1, gamma=1e-05, kernel=rbf ....................................\n",
    "[CV]  C=1, gamma=3.162277660168379e-07, kernel=rbf, score=0.994457 -  13.5s\n",
    "[CV] C=1, gamma=1e-05, kernel=rbf ....................................\n",
    "[CV]  C=1, gamma=3.162277660168379e-07, kernel=rbf, score=0.993348 -  13.7s\n",
    "[CV] C=1, gamma=1e-05, kernel=rbf ....................................\n",
    "[CV] ........... C=1, gamma=1e-05, kernel=rbf, score=0.506098 - 1.5min\n",
    "[CV] C=10, gamma=1e-08, kernel=rbf ...................................\n",
    "[CV] ........... C=1, gamma=1e-05, kernel=rbf, score=0.506098 - 1.5min\n",
    "[CV] C=10, gamma=1e-08, kernel=rbf ...................................\n",
    "[CV] ........... C=1, gamma=1e-05, kernel=rbf, score=0.506098 - 1.5min\n",
    "[CV] C=10, gamma=1e-08, kernel=rbf ...................................\n",
    "[CV] .......... C=10, gamma=1e-08, kernel=rbf, score=0.986696 -   7.9s\n",
    "[CV] C=10, gamma=3.162277660168379e-07, kernel=rbf ...................\n",
    "[CV] .......... C=10, gamma=1e-08, kernel=rbf, score=0.985033 -   8.1s\n",
    "[CV] C=10, gamma=3.162277660168379e-07, kernel=rbf ...................\n",
    "[CV] .......... C=10, gamma=1e-08, kernel=rbf, score=0.989468 -   8.1s\n",
    "[CV] C=10, gamma=3.162277660168379e-07, kernel=rbf ...................\n",
    "[CV]  C=10, gamma=3.162277660168379e-07, kernel=rbf, score=0.993348 -  12.1s\n",
    "[CV] C=10, gamma=1e-05, kernel=rbf ...................................\n",
    "[CV]  C=10, gamma=3.162277660168379e-07, kernel=rbf, score=0.993902 -  12.0s\n",
    "[CV] C=10, gamma=1e-05, kernel=rbf ...................................\n",
    "[CV]  C=10, gamma=3.162277660168379e-07, kernel=rbf, score=0.996120 -  12.4s\n",
    "[CV] C=10, gamma=1e-05, kernel=rbf ...................................\n",
    "[CV] .......... C=10, gamma=1e-05, kernel=rbf, score=0.506098 - 1.5min\n",
    "[CV] C=100, gamma=1e-08, kernel=rbf ..................................\n",
    "[CV] .......... C=10, gamma=1e-05, kernel=rbf, score=0.506098 - 1.5min\n",
    "[CV] C=100, gamma=1e-08, kernel=rbf ..................................\n",
    "[CV] .......... C=10, gamma=1e-05, kernel=rbf, score=0.506098 - 1.5min\n",
    "[CV] C=100, gamma=1e-08, kernel=rbf ..................................\n",
    "[CV] ......... C=100, gamma=1e-08, kernel=rbf, score=0.987251 -   6.1s\n",
    "[CV] C=100, gamma=3.162277660168379e-07, kernel=rbf ..................\n",
    "[CV] ......... C=100, gamma=1e-08, kernel=rbf, score=0.987251 -   6.0s\n",
    "[CV] C=100, gamma=3.162277660168379e-07, kernel=rbf ..................\n",
    "[CV] ......... C=100, gamma=1e-08, kernel=rbf, score=0.989468 -   6.4s\n",
    "[CV] C=100, gamma=3.162277660168379e-07, kernel=rbf ..................\n",
    "[CV]  C=100, gamma=3.162277660168379e-07, kernel=rbf, score=0.993902 -  13.0s\n",
    "[CV] C=100, gamma=1e-05, kernel=rbf ..................................\n",
    "[CV]  C=100, gamma=3.162277660168379e-07, kernel=rbf, score=0.993348 -  13.1s\n",
    "[CV] C=100, gamma=1e-05, kernel=rbf ..................................\n",
    "[CV]  C=100, gamma=3.162277660168379e-07, kernel=rbf, score=0.996120 -  13.9s\n",
    "[CV] C=100, gamma=1e-05, kernel=rbf ..................................\n",
    "[CV] ......... C=100, gamma=1e-05, kernel=rbf, score=0.506098 - 1.6min\n",
    "[CV] C=1000, gamma=1e-08, kernel=rbf .................................\n",
    "[CV] ......... C=100, gamma=1e-05, kernel=rbf, score=0.506098 - 1.6min\n",
    "[CV] C=1000, gamma=1e-08, kernel=rbf .................................\n",
    "[CV] ......... C=100, gamma=1e-05, kernel=rbf, score=0.506098 - 1.6min\n",
    "[CV] C=1000, gamma=1e-08, kernel=rbf .................................\n",
    "[CV] ........ C=1000, gamma=1e-08, kernel=rbf, score=0.984479 -   6.3s\n",
    "[CV] C=1000, gamma=3.162277660168379e-07, kernel=rbf .................\n",
    "[CV] ........ C=1000, gamma=1e-08, kernel=rbf, score=0.984479 -   6.4s\n",
    "[CV] C=1000, gamma=3.162277660168379e-07, kernel=rbf .................\n",
    "[CV] ........ C=1000, gamma=1e-08, kernel=rbf, score=0.990022 -   6.3s\n",
    "[CV] C=1000, gamma=3.162277660168379e-07, kernel=rbf .................\n",
    "[CV]  C=1000, gamma=3.162277660168379e-07, kernel=rbf, score=0.993902 -  11.7s\n",
    "[CV]  C=1000, gamma=3.162277660168379e-07, kernel=rbf, score=0.993348 -  11.9s\n",
    "[CV] C=1000, gamma=1e-05, kernel=rbf .................................\n",
    "[CV] C=1000, gamma=1e-05, kernel=rbf .................................\n",
    "[CV]  C=1000, gamma=3.162277660168379e-07, kernel=rbf, score=0.996120 -  12.5s\n",
    "[CV] C=1000, gamma=1e-05, kernel=rbf .................................\n",
    "[CV] ........ C=1000, gamma=1e-05, kernel=rbf, score=0.506098 - 1.5min\n",
    "[CV] ........ C=1000, gamma=1e-05, kernel=rbf, score=0.506098 - 1.5min\n",
    "[CV] ........ C=1000, gamma=1e-05, kernel=rbf, score=0.506098 - 1.5min\n",
    "\"\"\"\n",
    "jobs_rbf = [float(x[:-1]) for x in (re.findall('...[0-9]s',verb_rbf))] + [\n",
    "    float(x[:-3])*60 for x in (re.findall('..[0-9]min',verb_rbf))]"
   ]
  },
  {
   "cell_type": "markdown",
   "metadata": {},
   "source": [
    "### Comparison figures"
   ]
  },
  {
   "cell_type": "code",
   "execution_count": 342,
   "metadata": {},
   "outputs": [
    {
     "data": {
      "image/png": "[encoded data removed]",
      "text/plain": [
       "<matplotlib.figure.Figure at 0x11784d9e8>"
      ]
     },
     "metadata": {},
     "output_type": "display_data"
    }
   ],
   "source": [
    "fig, axes = plt.subplots(2,figsize=(25,10))\n",
    "sns.distplot(jobs_rbf,bins=10,ax=axes[0], label='RBF kernel',color='green')\n",
    "sns.distplot(jobs_lin,ax=axes[1],label='Linear kernel',color='orange')\n",
    "sns.distplot(jobs_poly,ax=axes[1],label='Polynomial kernel',color='red')\n",
    "axes[0].legend(loc=1)\n",
    "axes[0].set_xlim(0,90)\n",
    "axes[0].set_xticks(range(0,91,2))\n",
    "\n",
    "\n",
    "\n",
    "axes[1].legend()\n",
    "axes[1].set_xlim(0,90)\n",
    "axes[1].set_xlabel('Training time (s)')\n",
    "axes[1].set_xticks(range(0,91,2))\n",
    "axes[0].set_xlabel('Training time (s)')\n",
    "axes[0].set_ylabel('Density')\n",
    "axes[1].set_ylabel('Density')\n",
    "plt.show()"
   ]
  },
  {
   "cell_type": "code",
   "execution_count": 347,
   "metadata": {},
   "outputs": [
    {
     "data": {
      "image/png": "[encoded data removed]",
      "text/plain": [
       "<matplotlib.figure.Figure at 0x11692ca58>"
      ]
     },
     "metadata": {},
     "output_type": "display_data"
    }
   ],
   "source": [
    "fig,ax= plt.subplots(1,figsize=(18,4))\n",
    "ax.violinplot([jobs_lin,jobs_poly,jobs_rbf],vert=False, widths=0.9)\n",
    "ax.set_yticks(range(1,4))\n",
    "ax.set_yticklabels(['Linear kernel','Polynomial kernel','RBF kernel'])\n",
    "ax.set_xlim(0,98)\n",
    "ax.set_xticks(np.arange(0,100,2))\n",
    "ax.set_xlabel('Training time (s)')\n",
    "plt.show()"
   ]
  },
  {
   "cell_type": "code",
   "execution_count": 340,
   "metadata": {},
   "outputs": [
    {
     "data": {
      "image/png": "[encoded data removed]",
      "text/plain": [
       "<matplotlib.figure.Figure at 0x117b60860>"
      ]
     },
     "metadata": {},
     "output_type": "display_data"
    }
   ],
   "source": [
    "fig, axes = plt.subplots(1,2, figsize=(10,5))\n",
    "axes[0].bar(['Linear kernel','Polynomial kernel','RBF kernel'],[np.mean(jobs_lin),np.mean(jobs_poly),np.mean(jobs_rbf)],yerr=[np.std(jobs_lin),np.std(jobs_poly),np.std(jobs_rbf)])\n",
    "axes[0].set_ylabel('Average training time (s)')\n",
    "axes[0].set_yticks(np.linspace(0,80,21))\n",
    "axes[0].grid(axis='y')\n",
    "\n",
    "\n",
    "\n",
    "axes[1].bar(['Linear kernel','Polynomial kernel','RBF kernel'],[1-f1_lin_test, 1-f1_poly_test, 1-f1_rbf_test])\n",
    "# axes[1].set_ylim(0.98,1)\n",
    "axes[1].set_ylabel('1 - F1 score')\n",
    "axes[1].set_yticks(np.arange(0,0.021,0.001))\n",
    "axes[1].grid(axis='y')\n",
    "\n",
    "\n",
    "\n",
    "plt.tight_layout()\n",
    "\n",
    "plt.show()"
   ]
  }
 ],
 "metadata": {
  "kernelspec": {
   "display_name": "Python 3",
   "language": "python",
   "name": "python3"
  },
  "language_info": {
   "codemirror_mode": {
    "name": "ipython",
    "version": 3
   },
   "file_extension": ".py",
   "mimetype": "text/x-python",
   "name": "python",
   "nbconvert_exporter": "python",
   "pygments_lexer": "ipython3",
   "version": "3.6.2"
  }
 },
 "nbformat": 4,
 "nbformat_minor": 2
}
