{
 "cells": [
  {
   "cell_type": "code",
   "execution_count": 182,
   "metadata": {
    "collapsed": true
   },
   "outputs": [],
   "source": [
    "import numpy as np\n",
    "import pandas as pd\n",
    "import regex as re\n",
    "\n",
    "from itertools import product\n",
    "from functools import reduce\n",
    "\n",
    "from glob import glob\n",
    "#from nltk import FreqDist, ConditionalProbDist\n",
    "\n",
    "from scipy.io import wavfile\n",
    "from sklearn.preprocessing import normalize"
   ]
  },
  {
   "cell_type": "code",
   "execution_count": 124,
   "metadata": {},
   "outputs": [],
   "source": [
    "def transition_matrix(data):\n",
    "    \n",
    "    matrices = []\n",
    "    symbols = ['A','o','e','t','p','g','k']\n",
    "    \n",
    "    for s in data:\n",
    "        \n",
    "        M = np.zeros((len(symbols),len(symbols)))\n",
    "\n",
    "        for i,j in product(range(len(symbols)),range(len(symbols))):\n",
    "            pattern = symbols[i]+symbols[j]\n",
    "            M[i][j] = len(re.findall(pattern=pattern, string=s,overlapped=True))\n",
    "\n",
    "        matrices.append(M)\n",
    "        \n",
    "    return normalize(reduce(lambda a,b : a+b, matrices),norm='l1',axis=1)\n",
    "\n",
    "#cond_freq_table = np.vectorize(cond_freq_table)"
   ]
  },
  {
   "cell_type": "code",
   "execution_count": 152,
   "metadata": {},
   "outputs": [],
   "source": [
    "def likelihood(data,tm_language):\n",
    "    symbols = ['A','o','e','t','p','g','k']\n",
    "    duplets = re.findall(r'..',data,overlapped=True)\n",
    "\n",
    "    duplet_cells = []\n",
    "\n",
    "    for d in duplets:\n",
    "        duplet_cells.append((symbols.index(d[0]),symbols.index(d[1])))\n",
    "\n",
    "    return np.product([tm_language[t] for t in duplet_cells])"
   ]
  },
  {
   "cell_type": "code",
   "execution_count": 168,
   "metadata": {},
   "outputs": [],
   "source": [
    "def classify(data,probs=False):\n",
    "    lkl_a = likelihood(data,tm_a)\n",
    "    lkl_b = likelihood(data,tm_b)\n",
    "    lkl_c = likelihood(data,tm_c)\n",
    "    \n",
    "    if probs:\n",
    "        return np.array([lkl_a,lkl_b,lkl_c])/max(lkl_a,lkl_b,lkl_c)\n",
    "    else:\n",
    "        if lkl_a > lkl_b and lkl_a > lkl_c:\n",
    "            return 'A'\n",
    "        elif lkl_b > lkl_c and lkl_b > lkl_a:\n",
    "            return 'B'\n",
    "        elif lkl_c > lkl_a and lkl_c > lkl_b:\n",
    "            return 'C'\n",
    "        else: raise('ValueError')\n",
    "            \n",
    "classify = np.vectorize(classify)"
   ]
  },
  {
   "cell_type": "code",
   "execution_count": 38,
   "metadata": {},
   "outputs": [],
   "source": [
    "data = {}\n",
    "\n",
    "data['training'] = {}\n",
    "for l in ['A','B','C']:\n",
    "    data['training'][l] = [open(f,'r').read() for f in glob('symbol/language-training-lang{}*'.format(l))]\n",
    "\n",
    "data['test'] = [open(f,'r').read() for f in glob('symbol/language-test*')]"
   ]
  },
  {
   "cell_type": "code",
   "execution_count": 126,
   "metadata": {},
   "outputs": [],
   "source": [
    "tm_a = transition_matrix(data['training'][\"A\"])\n",
    "tm_b = transition_matrix(data['training'][\"B\"])\n",
    "tm_c = transition_matrix(data['training'][\"C\"])"
   ]
  },
  {
   "cell_type": "code",
   "execution_count": 153,
   "metadata": {},
   "outputs": [
    {
     "data": {
      "text/plain": [
       "1.530622072665416e-104"
      ]
     },
     "execution_count": 153,
     "metadata": {},
     "output_type": "execute_result"
    }
   ],
   "source": [
    "likelihood(data['test'][0],tm_a)"
   ]
  },
  {
   "cell_type": "code",
   "execution_count": 181,
   "metadata": {},
   "outputs": [
    {
     "data": {
      "text/html": [
       "<div>\n",
       "<style scoped>\n",
       "    .dataframe tbody tr th:only-of-type {\n",
       "        vertical-align: middle;\n",
       "    }\n",
       "\n",
       "    .dataframe tbody tr th {\n",
       "        vertical-align: top;\n",
       "    }\n",
       "\n",
       "    .dataframe thead th {\n",
       "        text-align: right;\n",
       "    }\n",
       "</style>\n",
       "<table border=\"1\" class=\"dataframe\">\n",
       "  <thead>\n",
       "    <tr style=\"text-align: right;\">\n",
       "      <th></th>\n",
       "      <th>string</th>\n",
       "      <th>language</th>\n",
       "    </tr>\n",
       "  </thead>\n",
       "  <tbody>\n",
       "    <tr>\n",
       "      <th>0</th>\n",
       "      <td>AtAgegegegAgegetoAtetAogAooAoeAtegAgeotAoAgoet...</td>\n",
       "      <td>B</td>\n",
       "    </tr>\n",
       "    <tr>\n",
       "      <th>1</th>\n",
       "      <td>popoktgopogettpegAtkegotkogettpApepApegtgApeog...</td>\n",
       "      <td>A</td>\n",
       "    </tr>\n",
       "    <tr>\n",
       "      <th>2</th>\n",
       "      <td>okopottogttpetgopopotkepeppAgAgetpotpAtgookett...</td>\n",
       "      <td>A</td>\n",
       "    </tr>\n",
       "    <tr>\n",
       "      <th>3</th>\n",
       "      <td>ekogoAgkepokogoppAttpAttgeekApegepApotpAAtpetg...</td>\n",
       "      <td>A</td>\n",
       "    </tr>\n",
       "    <tr>\n",
       "      <th>4</th>\n",
       "      <td>tgAkoggAggAtpetkpAgegAgkepepookepepekogokogetk...</td>\n",
       "      <td>A</td>\n",
       "    </tr>\n",
       "    <tr>\n",
       "      <th>5</th>\n",
       "      <td>pppooootgAookggggtttopAtttkkkeeggeeeeAAAgtkoAk...</td>\n",
       "      <td>C</td>\n",
       "    </tr>\n",
       "    <tr>\n",
       "      <th>6</th>\n",
       "      <td>ApgotgAApogotgopAgegAtkAgketgAtkpAgottpopopAgp...</td>\n",
       "      <td>A</td>\n",
       "    </tr>\n",
       "    <tr>\n",
       "      <th>7</th>\n",
       "      <td>oeeoppppppoooAgggggoAAoookkppeoAApeoAkAAAAAAAp...</td>\n",
       "      <td>C</td>\n",
       "    </tr>\n",
       "    <tr>\n",
       "      <th>8</th>\n",
       "      <td>gooooAAAAAAAAAkkkkkkooooAAAeppppppgeeeeepAAppe...</td>\n",
       "      <td>C</td>\n",
       "    </tr>\n",
       "    <tr>\n",
       "      <th>9</th>\n",
       "      <td>kteoeoeoAoteoAgeoetoegAgeoekgeteoegetetAgeAoAt...</td>\n",
       "      <td>B</td>\n",
       "    </tr>\n",
       "  </tbody>\n",
       "</table>\n",
       "</div>"
      ],
      "text/plain": [
       "                                              string language\n",
       "0  AtAgegegegAgegetoAtetAogAooAoeAtegAgeotAoAgoet...        B\n",
       "1  popoktgopogettpegAtkegotkogettpApepApegtgApeog...        A\n",
       "2  okopottogttpetgopopotkepeppAgAgetpotpAtgookett...        A\n",
       "3  ekogoAgkepokogoppAttpAttgeekApegepApotpAAtpetg...        A\n",
       "4  tgAkoggAggAtpetkpAgegAgkepepookepepekogokogetk...        A\n",
       "5  pppooootgAookggggtttopAtttkkkeeggeeeeAAAgtkoAk...        C\n",
       "6  ApgotgAApogotgopAgegAtkAgketgAtkpAgottpopopAgp...        A\n",
       "7  oeeoppppppoooAgggggoAAoookkppeoAApeoAkAAAAAAAp...        C\n",
       "8  gooooAAAAAAAAAkkkkkkooooAAAeppppppgeeeeepAAppe...        C\n",
       "9  kteoeoeoAoteoAgeoetoegAgeoekgeteoegetetAgeAoAt...        B"
      ]
     },
     "execution_count": 181,
     "metadata": {},
     "output_type": "execute_result"
    }
   ],
   "source": [
    "pd.DataFrame(np.column_stack((data['test'],classify(data['test']))), columns=['string','language'])\n"
   ]
  },
  {
   "cell_type": "code",
   "execution_count": 183,
   "metadata": {},
   "outputs": [
    {
     "data": {
      "text/plain": [
       "(44100,\n",
       " array([-10063, -12498, -14671, ...,  -3456,  -6123,  -7756], dtype=int16))"
      ]
     },
     "execution_count": 183,
     "metadata": {},
     "output_type": "execute_result"
    }
   ],
   "source": []
  },
  {
   "cell_type": "code",
   "execution_count": null,
   "metadata": {
    "collapsed": true
   },
   "outputs": [],
   "source": []
  }
 ],
 "metadata": {
  "kernelspec": {
   "display_name": "Python 3",
   "language": "python",
   "name": "python3"
  },
  "language_info": {
   "codemirror_mode": {
    "name": "ipython",
    "version": 3
   },
   "file_extension": ".py",
   "mimetype": "text/x-python",
   "name": "python",
   "nbconvert_exporter": "python",
   "pygments_lexer": "ipython3",
   "version": "3.6.2"
  }
 },
 "nbformat": 4,
 "nbformat_minor": 2
}
