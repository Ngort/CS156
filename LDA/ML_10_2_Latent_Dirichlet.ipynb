{
 "cells": [
  {
   "cell_type": "code",
   "execution_count": 180,
   "metadata": {},
   "outputs": [],
   "source": [
    "import numpy as np\n",
    "import scipy.stats as stats\n",
    "import pandas as pd\n",
    "\n",
    "from nltk.tokenize import word_tokenize, wordpunct_tokenize\n",
    "from nltk.corpus import stopwords\n",
    "\n",
    "from sklearn.decomposition import LatentDirichletAllocation\n",
    "from sklearn.feature_extraction.text import TfidfVectorizer, CountVectorizer"
   ]
  },
  {
   "cell_type": "code",
   "execution_count": 257,
   "metadata": {},
   "outputs": [],
   "source": [
    "book_scarlet = open('study-in-scarlet.txt','r').read()\n",
    "chapters_scarlet = book_scarlet.split('CHAPTER')\n",
    "words_scarlet = [list(set(nltk.tokenize.word_tokenize(chapter))) for chapter in chapters_scarlet]\n",
    "\n",
    "book_venice = open('merchant_venice.txt','r').read()\n",
    "chapters_venice = book_venice.split('Actus')\n",
    "words_venice = [list(set(nltk.tokenize.word_tokenize(chapter))) for chapter in chapters_venice]"
   ]
  },
  {
   "cell_type": "code",
   "execution_count": 273,
   "metadata": {
    "collapsed": true
   },
   "outputs": [],
   "source": [
    "book_kamasutra = open('kamasutra.txt','r').read()\n",
    "chapters_kamasutra = book_kamasutra.split('CHAPTER')\n",
    "words_kamasutra = [list(set(nltk.tokenize.word_tokenize(chapter))) for chapter in chapters_kamasutra]"
   ]
  },
  {
   "cell_type": "code",
   "execution_count": 265,
   "metadata": {
    "scrolled": true
   },
   "outputs": [],
   "source": [
    "def topic_identifier(words_from_chapters, n_topics=10,top_topics=10):\n",
    "    vec = CountVectorizer(max_df=0.95, min_df=2, stop_words='english')\n",
    "    X = vec.fit_transform([\" \".join(w) for w in words_from_chapters])\n",
    "    vocab = vec.get_feature_names()\n",
    "\n",
    "    count_matrix = pd.DataFrame(X.toarray(), columns=vec.get_feature_names())\n",
    "\n",
    "    lda = LatentDirichletAllocation(n_components=n_topics)\n",
    "    lda.fit(count_matrix)\n",
    "\n",
    "    topic_words = {}\n",
    "\n",
    "    for topic, comp in enumerate(lda.components_):\n",
    "        # for the n-dimensional array \"arr\":\n",
    "        # argsort() returns a ranked n-dimensional array of arr, call it \"ranked_array\"\n",
    "        # which contains the indices that would sort arr in a descending fashion\n",
    "        # for the ith element in ranked_array, ranked_array[i] represents the index of the\n",
    "        # element in arr that should be at the ith index in ranked_array\n",
    "        # ex. arr = [3,7,1,0,3,6]\n",
    "        # np.argsort(arr) -> [3, 2, 0, 4, 5, 1]\n",
    "        # word_idx contains the indices in \"topic\" of the top num_top_words most relevant\n",
    "        # to a given topic ... it is sorted ascending to begin with and then reversed (desc. now)    \n",
    "        word_idx = np.argsort(comp)[::-1][:top_topics]\n",
    "\n",
    "        # store the words most relevant to the topic\n",
    "        topic_words[topic] = [vocab[i] for i in word_idx]\n",
    "\n",
    "    for topic, words in topic_words.items():\n",
    "        print('Topic: %d' % topic)\n",
    "        print('  %s' % ', '.join(words))"
   ]
  },
  {
   "cell_type": "code",
   "execution_count": 266,
   "metadata": {},
   "outputs": [
    {
     "name": "stdout",
     "output_type": "stream",
     "text": [
      "Topic: 0\n",
      "  answered, just, morning, did, hardly, situation, pipe, little, leather, dead\n",
      "Topic: 1\n",
      "  ebook, gutenberg, study, use, character, note, scarlet, original, transcriber, project\n",
      "Topic: 2\n",
      "  like, good, life, shall, let, right, far, long, room, fellow\n",
      "Topic: 3\n",
      "  track, troubled, yes, stangerson, impossible, night, days, fell, seat, men\n",
      "Topic: 4\n",
      "  good, just, white, john, far, long, new, small, lay, hope\n",
      "Topic: 5\n",
      "  house, good, looking, long, half, day, hope, fierce, city, thank\n",
      "Topic: 6\n",
      "  shall, let, stangerson, afternoon, circumstances, mystery, work, avenging, did, time\n",
      "Topic: 7\n",
      "  road, know, young, fellow, white, hard, just, room, holmes, night\n",
      "Topic: 8\n",
      "  come, don, having, night, good, let, room, eyes, just, morning\n",
      "Topic: 9\n",
      "  road, yes, mystery, looking, street, affair, key, house, day, let\n"
     ]
    },
    {
     "name": "stderr",
     "output_type": "stream",
     "text": [
      "/Users/nico/anaconda3/lib/python3.6/site-packages/sklearn/decomposition/online_lda.py:536: DeprecationWarning: The default value for 'learning_method' will be changed from 'online' to 'batch' in the release 0.20. This warning was introduced in 0.18.\n",
      "  DeprecationWarning)\n"
     ]
    }
   ],
   "source": [
    "topic_identifier(words_scarlet, n_topics=10,top_topics=10)"
   ]
  },
  {
   "cell_type": "code",
   "execution_count": 270,
   "metadata": {
    "scrolled": true
   },
   "outputs": [
    {
     "name": "stdout",
     "output_type": "stream",
     "text": [
      "Topic: 0\n",
      "  st, husband, neere, teaches, blisse, lady, colour, barre, sweet, offend, haire, daie, sacrifice, bloud, seene, bosome, motion, merchant, eyed, alcides\n",
      "Topic: 1\n",
      "  search, ll, dwell, present, table, returne, clowne, conuerse, sand, allay, hopes, pound, caskets, example, prouided, fathers, loose, behinde, condition, father\n",
      "Topic: 2\n",
      "  sand, teach, mexico, tis, colour, siluer, cheere, offices, ventures, merrie, fie, sonne, saying, bed, extend, porke, purpose, raise, trouble, marrie\n",
      "Topic: 3\n",
      "  light, boy, sola, sweet, master, beg, silence, gold, lie, pardon, sit, deseru, fee, methinkes, musicke, deere, vntill, ring, steale, waies\n",
      "Topic: 4\n",
      "  st, weigh, gentlemen, attempt, pay, sweete, marrie, ground, bound, great, lor, backe, letter, vnderstand, satisfied, wilt, end, meete, nay, common\n",
      "Topic: 5\n",
      "  fals, bars, notwithstanding, foure, girle, post, plea, parts, bankrout, haste, sommer, argosies, merchants, manly, keene, argosie, beg, things, twill, nose\n",
      "Topic: 6\n",
      "  wine, marry, betweene, worship, desire, law, bag, christians, praie, ouer, fie, directly, sway, told, praising, husband, sommer, meaning, eyes, commit\n",
      "Topic: 7\n",
      "  wil, sal, sort, giues, thousand, leysure, deed, moore, lady, sing, alcides, aboue, thinkes, tainted, sit, madame, methinkes, turne, husband, ill\n",
      "Topic: 8\n",
      "  duke, church, touch, gentlemen, praie, best, lose, grant, beseech, noble, teach, desire, prize, hearing, doctor, st, maist, backe, trouble, euer\n",
      "Topic: 9\n",
      "  soone, iasons, wilde, away, issue, prayer, porke, theeues, hot, choise, comming, kept, speakes, instantly, furnish, blood, anthonios, thriue, hie, deere\n",
      "Topic: 10\n",
      "  affection, gentlemen, colour, vpright, debt, grace, desires, sweet, whilst, brow, growes, conuerse, vnder, vrge, swore, daie, bookes, comming, wondrous, estate\n",
      "Topic: 11\n",
      "  vpright, wealth, lend, voyce, raine, iewish, things, methinkes, giues, iessi, shew, ducat, power, possest, farre, casket, lou, wisedome, word, law\n",
      "Topic: 12\n",
      "  themselues, begger, iacobs, iewe, estate, far, wine, lacke, vpright, ouer, shy, outside, childe, stayes, shadow, deepe, wish, faith, eyed, knew\n",
      "Topic: 13\n",
      "  ouer, mans, wine, fall, signior, fie, bond, wee, rest, worth, yes, praie, cut, renowned, morrow, maid, trust, misfortune, eare, eyes\n",
      "Topic: 14\n",
      "  pleas, signifie, error, patience, teach, hopes, lacke, kisse, value, grant, containe, nay, times, ll, shames, ambitious, masters, purse, fond, forfeite\n",
      "Topic: 15\n",
      "  table, waste, albeit, hid, doubt, saint, holy, owe, commends, people, manie, ryalto, seene, accept, pay, narrow, dost, precious, state, merrie\n",
      "Topic: 16\n",
      "  maid, hot, haires, withall, knowne, streame, trusted, grace, motion, season, faith, reade, exit, vow, scape, seene, receiue, married, proue, christians\n",
      "Topic: 17\n",
      "  st, law, ha, vntill, paper, letter, sweet, bed, parts, promise, fortune, pleas, shee, making, away, onely, sea, men, hast, father\n",
      "Topic: 18\n",
      "  youth, knew, haste, backe, stands, suffer, waters, farre, suite, mexico, absence, ship, commendable, companie, losses, glad, blood, hercules, doore, allay\n",
      "Topic: 19\n",
      "  st, away, gentleman, iustice, downe, face, onely, fortune, behold, fie, vse, nay, law, offend, iudge, yea, wife, marrie, euerie, ouer\n"
     ]
    },
    {
     "name": "stderr",
     "output_type": "stream",
     "text": [
      "/Users/nico/anaconda3/lib/python3.6/site-packages/sklearn/decomposition/online_lda.py:536: DeprecationWarning: The default value for 'learning_method' will be changed from 'online' to 'batch' in the release 0.20. This warning was introduced in 0.18.\n",
      "  DeprecationWarning)\n"
     ]
    }
   ],
   "source": [
    "topic_identifier(words_venice, n_topics=20,top_topics=20)"
   ]
  },
  {
   "cell_type": "code",
   "execution_count": 280,
   "metadata": {},
   "outputs": [
    {
     "name": "stderr",
     "output_type": "stream",
     "text": [
      "/Users/nico/anaconda3/lib/python3.6/site-packages/sklearn/decomposition/online_lda.py:536: DeprecationWarning: The default value for 'learning_method' will be changed from 'online' to 'batch' in the release 0.20. This warning was introduced in 0.18.\n",
      "  DeprecationWarning)\n"
     ]
    },
    {
     "name": "stdout",
     "output_type": "stream",
     "text": [
      "Topic: 0\n",
      "  men, man, women, footnote, having, love, means, good, woman, union\n",
      "Topic: 1\n",
      "  viz, various, man, way, kinds, body, woman, pressing, different, nails\n",
      "Topic: 2\n",
      "  women, things, union, men, time, people, cause, vatsyayana, hand, place\n",
      "Topic: 3\n",
      "  women, wife, woman, love, footnote, husband, place, known, according, time\n",
      "Topic: 4\n",
      "  woman, love, women, man, way, time, place, footnote, work, follows\n"
     ]
    }
   ],
   "source": [
    "topic_identifier(words_kamasutra, n_topics=5,top_topics=10)"
   ]
  },
  {
   "cell_type": "code",
   "execution_count": null,
   "metadata": {
    "collapsed": true
   },
   "outputs": [],
   "source": []
  }
 ],
 "metadata": {
  "kernelspec": {
   "display_name": "Python 3",
   "language": "python",
   "name": "python3"
  },
  "language_info": {
   "codemirror_mode": {
    "name": "ipython",
    "version": 3
   },
   "file_extension": ".py",
   "mimetype": "text/x-python",
   "name": "python",
   "nbconvert_exporter": "python",
   "pygments_lexer": "ipython3",
   "version": "3.6.2"
  }
 },
 "nbformat": 4,
 "nbformat_minor": 2
}
