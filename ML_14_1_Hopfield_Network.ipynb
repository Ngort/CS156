{
 "cells": [
  {
   "cell_type": "code",
   "execution_count": 178,
   "metadata": {},
   "outputs": [],
   "source": [
    "import networkx as nx\n",
    "import numpy as np\n",
    "import matplotlib.pyplot as plt\n",
    "from copy import deepcopy "
   ]
  },
  {
   "cell_type": "code",
   "execution_count": 155,
   "metadata": {
    "collapsed": true
   },
   "outputs": [],
   "source": [
    "class Hopfield:\n",
    "    def __init__(self, x):\n",
    "        self.n = 1\n",
    "        self.W = x @ x.T - np.identity(len(x))\n",
    "        \n",
    "    def store(self, x):\n",
    "        self.W = (self.W*(self.n) + x @ x.T)/(self.n+1)\n",
    "        self.n += 1\n",
    "        \n",
    "    def recall(self, x):\n",
    "        for t in range(10000):\n",
    "            if np.all(np.sign(self.W@x) == x):\n",
    "                return x\n",
    "            else:\n",
    "                x = np.sign(self.W@x)\n",
    "        return x"
   ]
  },
  {
   "cell_type": "code",
   "execution_count": 236,
   "metadata": {},
   "outputs": [],
   "source": [
    "def test_capacity(size):\n",
    "    \n",
    "    first_memory = np.random.choice([-1,1],(size,1))\n",
    "    first_corrupted = deepcopy(first_memory)\n",
    "    first_corrupted[np.random.randint(size)] *= -1\n",
    "    \n",
    "    memories = [first_memory]\n",
    "    corrupted = [first_corrupted]\n",
    "    network = Hopfield(first_memory)\n",
    "    \n",
    "    recalled = memories\n",
    "    while np.all([np.all(r==m) for r,m in zip(recalled,memories)]):\n",
    "        \n",
    "        new_memory = np.random.choice([-1,1],(size,1))\n",
    "        memories.append(new_memory)\n",
    "        network.store(new_memory)\n",
    "        \n",
    "        new_corrupted = deepcopy(new_memory)\n",
    "        new_corrupted[np.random.randint(size)] *= -1\n",
    "        corrupted.append(new_corrupted)\n",
    "        \n",
    "        recalled = [network.recall(cormem) for cormem in corrupted]\n",
    "        \n",
    "    return len(memories)\n",
    "\n",
    "test_capacity = np.vectorize(test_capacity)"
   ]
  },
  {
   "cell_type": "code",
   "execution_count": 260,
   "metadata": {},
   "outputs": [
    {
     "data": {
      "image/png": "[encoded data removed]",
      "text/plain": [
       "<matplotlib.figure.Figure at 0x10bd9a630>"
      ]
     },
     "metadata": {},
     "output_type": "display_data"
    }
   ],
   "source": [
    "sizes = np.logspace(0,3,10).astype('int')\n",
    "\n",
    "plt.plot(sizes, test_capacity(sizes))\n",
    "plt.xlabel('Size')\n",
    "plt.ylabel('Capacity')\n",
    "plt.title('Capacity of a Hopfield Network as a function of memory size')\n",
    "plt.show()"
   ]
  }
 ],
 "metadata": {
  "kernelspec": {
   "display_name": "Python 3",
   "language": "python",
   "name": "python3"
  },
  "language_info": {
   "codemirror_mode": {
    "name": "ipython",
    "version": 3
   },
   "file_extension": ".py",
   "mimetype": "text/x-python",
   "name": "python",
   "nbconvert_exporter": "python",
   "pygments_lexer": "ipython3",
   "version": "3.6.2"
  }
 },
 "nbformat": 4,
 "nbformat_minor": 2
}
